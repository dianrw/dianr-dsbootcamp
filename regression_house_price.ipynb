{
  "cells": [
    {
      "cell_type": "markdown",
      "source": [
        "# **HOUSE PRICE PREDICTION**"
      ],
      "metadata": {
        "id": "G-3HQURdpmzo"
      }
    },
    {
      "cell_type": "markdown",
      "source": [
        "## **1. Introduction**"
      ],
      "metadata": {
        "id": "oQFqZz9rpzdL"
      }
    },
    {
      "cell_type": "markdown",
      "source": [
        "### **1.1 Problem Statement**"
      ],
      "metadata": {
        "id": "tCWNYO9VqZz1"
      }
    },
    {
      "cell_type": "markdown",
      "source": [
        "This project aims to develop regression model in order to predict house price. The dataset provided 1000 data which consist of several variables:\n",
        "\n",
        "1. Made : Years the house build\n",
        "2. SquareMeters\t: Size of the house\n",
        "3. NumberOfRooms :Total number of rooms within the house\n",
        "4. HasStorageRoom : Whether the house has storage room or not (No = 0, Yes = 1).\n",
        "5. HasGuestRoom : Total number of guest rooms\n",
        "6. Price : House price\n",
        "\n",
        "The model developed should have ability to predict house price accurately."
      ],
      "metadata": {
        "id": "_wyt_bNzkZCR"
      }
    },
    {
      "cell_type": "markdown",
      "metadata": {
        "id": "iDNB6-7KhZ9d"
      },
      "source": [
        "## **2. Importing Library Package**"
      ]
    },
    {
      "cell_type": "code",
      "execution_count": null,
      "metadata": {
        "colab": {
          "base_uri": "https://localhost:8080/",
          "height": 1000
        },
        "id": "yuxzkPxpfu3V",
        "outputId": "6a8378ec-6cd2-4346-de56-d3c8b84ea70b"
      },
      "outputs": [
        {
          "output_type": "stream",
          "name": "stdout",
          "text": [
            "Collecting shap\n",
            "  Downloading shap-0.44.1-cp310-cp310-manylinux_2_12_x86_64.manylinux2010_x86_64.manylinux_2_17_x86_64.manylinux2014_x86_64.whl (535 kB)\n",
            "\u001b[?25l     \u001b[90m━━━━━━━━━━━━━━━━━━━━━━━━━━━━━━━━━━━━━━━━\u001b[0m \u001b[32m0.0/535.7 kB\u001b[0m \u001b[31m?\u001b[0m eta \u001b[36m-:--:--\u001b[0m\r\u001b[2K     \u001b[91m━━━━━━━━━━━━━━━━━━━━━━━━━━━━━\u001b[0m\u001b[91m╸\u001b[0m\u001b[90m━━━━━━━━━━\u001b[0m \u001b[32m399.4/535.7 kB\u001b[0m \u001b[31m11.8 MB/s\u001b[0m eta \u001b[36m0:00:01\u001b[0m\r\u001b[2K     \u001b[90m━━━━━━━━━━━━━━━━━━━━━━━━━━━━━━━━━━━━━━━━\u001b[0m \u001b[32m535.7/535.7 kB\u001b[0m \u001b[31m11.2 MB/s\u001b[0m eta \u001b[36m0:00:00\u001b[0m\n",
            "\u001b[?25hRequirement already satisfied: numpy in /usr/local/lib/python3.10/dist-packages (from shap) (1.25.2)\n",
            "Requirement already satisfied: scipy in /usr/local/lib/python3.10/dist-packages (from shap) (1.11.4)\n",
            "Requirement already satisfied: scikit-learn in /usr/local/lib/python3.10/dist-packages (from shap) (1.2.2)\n",
            "Requirement already satisfied: pandas in /usr/local/lib/python3.10/dist-packages (from shap) (1.5.3)\n",
            "Requirement already satisfied: tqdm>=4.27.0 in /usr/local/lib/python3.10/dist-packages (from shap) (4.66.2)\n",
            "Requirement already satisfied: packaging>20.9 in /usr/local/lib/python3.10/dist-packages (from shap) (23.2)\n",
            "Collecting slicer==0.0.7 (from shap)\n",
            "  Downloading slicer-0.0.7-py3-none-any.whl (14 kB)\n",
            "Requirement already satisfied: numba in /usr/local/lib/python3.10/dist-packages (from shap) (0.58.1)\n",
            "Requirement already satisfied: cloudpickle in /usr/local/lib/python3.10/dist-packages (from shap) (2.2.1)\n",
            "Requirement already satisfied: llvmlite<0.42,>=0.41.0dev0 in /usr/local/lib/python3.10/dist-packages (from numba->shap) (0.41.1)\n",
            "Requirement already satisfied: python-dateutil>=2.8.1 in /usr/local/lib/python3.10/dist-packages (from pandas->shap) (2.8.2)\n",
            "Requirement already satisfied: pytz>=2020.1 in /usr/local/lib/python3.10/dist-packages (from pandas->shap) (2023.4)\n",
            "Requirement already satisfied: joblib>=1.1.1 in /usr/local/lib/python3.10/dist-packages (from scikit-learn->shap) (1.3.2)\n",
            "Requirement already satisfied: threadpoolctl>=2.0.0 in /usr/local/lib/python3.10/dist-packages (from scikit-learn->shap) (3.2.0)\n",
            "Requirement already satisfied: six>=1.5 in /usr/local/lib/python3.10/dist-packages (from python-dateutil>=2.8.1->pandas->shap) (1.16.0)\n",
            "Installing collected packages: slicer, shap\n",
            "Successfully installed shap-0.44.1 slicer-0.0.7\n",
            "Collecting pycaret[analysis]\n",
            "  Downloading pycaret-3.2.0-py3-none-any.whl (484 kB)\n",
            "\u001b[2K     \u001b[90m━━━━━━━━━━━━━━━━━━━━━━━━━━━━━━━━━━━━━━━━\u001b[0m \u001b[32m484.7/484.7 kB\u001b[0m \u001b[31m6.7 MB/s\u001b[0m eta \u001b[36m0:00:00\u001b[0m\n",
            "\u001b[?25hCollecting category-encoders>=2.4.0 (from pycaret[analysis])\n",
            "  Downloading category_encoders-2.6.3-py2.py3-none-any.whl (81 kB)\n",
            "\u001b[2K     \u001b[90m━━━━━━━━━━━━━━━━━━━━━━━━━━━━━━━━━━━━━━━━\u001b[0m \u001b[32m81.9/81.9 kB\u001b[0m \u001b[31m5.5 MB/s\u001b[0m eta \u001b[36m0:00:00\u001b[0m\n",
            "\u001b[?25hRequirement already satisfied: cloudpickle in /usr/local/lib/python3.10/dist-packages (from pycaret[analysis]) (2.2.1)\n",
            "Collecting deprecation>=2.1.0 (from pycaret[analysis])\n",
            "  Downloading deprecation-2.1.0-py2.py3-none-any.whl (11 kB)\n",
            "Requirement already satisfied: imbalanced-learn>=0.8.1 in /usr/local/lib/python3.10/dist-packages (from pycaret[analysis]) (0.10.1)\n",
            "Requirement already satisfied: importlib-metadata>=4.12.0 in /usr/local/lib/python3.10/dist-packages (from pycaret[analysis]) (7.0.1)\n",
            "Requirement already satisfied: ipython>=5.5.0 in /usr/local/lib/python3.10/dist-packages (from pycaret[analysis]) (7.34.0)\n",
            "Requirement already satisfied: ipywidgets>=7.6.5 in /usr/local/lib/python3.10/dist-packages (from pycaret[analysis]) (7.7.1)\n",
            "Requirement already satisfied: jinja2>=1.2 in /usr/local/lib/python3.10/dist-packages (from pycaret[analysis]) (3.1.3)\n",
            "Requirement already satisfied: joblib>=1.2.0 in /usr/local/lib/python3.10/dist-packages (from pycaret[analysis]) (1.3.2)\n",
            "Collecting kaleido>=0.2.1 (from pycaret[analysis])\n",
            "  Downloading kaleido-0.2.1-py2.py3-none-manylinux1_x86_64.whl (79.9 MB)\n",
            "\u001b[2K     \u001b[90m━━━━━━━━━━━━━━━━━━━━━━━━━━━━━━━━━━━━━━━━\u001b[0m \u001b[32m79.9/79.9 MB\u001b[0m \u001b[31m13.1 MB/s\u001b[0m eta \u001b[36m0:00:00\u001b[0m\n",
            "\u001b[?25hRequirement already satisfied: lightgbm>=3.0.0 in /usr/local/lib/python3.10/dist-packages (from pycaret[analysis]) (4.1.0)\n",
            "Requirement already satisfied: markupsafe>=2.0.1 in /usr/local/lib/python3.10/dist-packages (from pycaret[analysis]) (2.1.5)\n",
            "Collecting matplotlib<=3.6,>=3.3.0 (from pycaret[analysis])\n",
            "  Downloading matplotlib-3.6.0-cp310-cp310-manylinux_2_17_x86_64.manylinux2014_x86_64.whl (11.8 MB)\n",
            "\u001b[2K     \u001b[90m━━━━━━━━━━━━━━━━━━━━━━━━━━━━━━━━━━━━━━━━\u001b[0m \u001b[32m11.8/11.8 MB\u001b[0m \u001b[31m45.7 MB/s\u001b[0m eta \u001b[36m0:00:00\u001b[0m\n",
            "\u001b[?25hRequirement already satisfied: nbformat>=4.2.0 in /usr/local/lib/python3.10/dist-packages (from pycaret[analysis]) (5.9.2)\n",
            "Requirement already satisfied: numba>=0.55.0 in /usr/local/lib/python3.10/dist-packages (from pycaret[analysis]) (0.58.1)\n",
            "Requirement already satisfied: numpy<1.27,>=1.21 in /usr/local/lib/python3.10/dist-packages (from pycaret[analysis]) (1.25.2)\n",
            "Requirement already satisfied: pandas<2.0.0,>=1.3.0 in /usr/local/lib/python3.10/dist-packages (from pycaret[analysis]) (1.5.3)\n",
            "Collecting plotly-resampler>=0.8.3.1 (from pycaret[analysis])\n",
            "  Downloading plotly_resampler-0.9.2-py3-none-any.whl (81 kB)\n",
            "\u001b[2K     \u001b[90m━━━━━━━━━━━━━━━━━━━━━━━━━━━━━━━━━━━━━━━━\u001b[0m \u001b[32m81.1/81.1 kB\u001b[0m \u001b[31m10.7 MB/s\u001b[0m eta \u001b[36m0:00:00\u001b[0m\n",
            "\u001b[?25hRequirement already satisfied: plotly>=5.0.0 in /usr/local/lib/python3.10/dist-packages (from pycaret[analysis]) (5.15.0)\n",
            "Collecting pmdarima!=1.8.1,<3.0.0,>=1.8.0 (from pycaret[analysis])\n",
            "  Downloading pmdarima-2.0.4-cp310-cp310-manylinux_2_17_x86_64.manylinux2014_x86_64.manylinux_2_28_x86_64.whl (2.1 MB)\n",
            "\u001b[2K     \u001b[90m━━━━━━━━━━━━━━━━━━━━━━━━━━━━━━━━━━━━━━━━\u001b[0m \u001b[32m2.1/2.1 MB\u001b[0m \u001b[31m65.5 MB/s\u001b[0m eta \u001b[36m0:00:00\u001b[0m\n",
            "\u001b[?25hRequirement already satisfied: psutil>=5.9.0 in /usr/local/lib/python3.10/dist-packages (from pycaret[analysis]) (5.9.5)\n",
            "Collecting pyod>=1.0.8 (from pycaret[analysis])\n",
            "  Downloading pyod-1.1.3.tar.gz (160 kB)\n",
            "\u001b[2K     \u001b[90m━━━━━━━━━━━━━━━━━━━━━━━━━━━━━━━━━━━━━━━━\u001b[0m \u001b[32m160.5/160.5 kB\u001b[0m \u001b[31m20.3 MB/s\u001b[0m eta \u001b[36m0:00:00\u001b[0m\n",
            "\u001b[?25h  Preparing metadata (setup.py) ... \u001b[?25l\u001b[?25hdone\n",
            "Requirement already satisfied: requests>=2.27.1 in /usr/local/lib/python3.10/dist-packages (from pycaret[analysis]) (2.31.0)\n",
            "Collecting schemdraw==0.15 (from pycaret[analysis])\n",
            "  Downloading schemdraw-0.15-py3-none-any.whl (106 kB)\n",
            "\u001b[2K     \u001b[90m━━━━━━━━━━━━━━━━━━━━━━━━━━━━━━━━━━━━━━━━\u001b[0m \u001b[32m106.8/106.8 kB\u001b[0m \u001b[31m14.7 MB/s\u001b[0m eta \u001b[36m0:00:00\u001b[0m\n",
            "\u001b[?25hRequirement already satisfied: scikit-learn<1.3.0,>=1.0 in /usr/local/lib/python3.10/dist-packages (from pycaret[analysis]) (1.2.2)\n",
            "Collecting scikit-plot>=0.3.7 (from pycaret[analysis])\n",
            "  Downloading scikit_plot-0.3.7-py3-none-any.whl (33 kB)\n",
            "Collecting scipy~=1.10.1 (from pycaret[analysis])\n",
            "  Downloading scipy-1.10.1-cp310-cp310-manylinux_2_17_x86_64.manylinux2014_x86_64.whl (34.4 MB)\n",
            "\u001b[2K     \u001b[90m━━━━━━━━━━━━━━━━━━━━━━━━━━━━━━━━━━━━━━━━\u001b[0m \u001b[32m34.4/34.4 MB\u001b[0m \u001b[31m11.8 MB/s\u001b[0m eta \u001b[36m0:00:00\u001b[0m\n",
            "\u001b[?25hCollecting sktime!=0.17.1,!=0.17.2,!=0.18.0,<0.22.0,>=0.16.1 (from pycaret[analysis])\n",
            "  Downloading sktime-0.21.1-py3-none-any.whl (17.1 MB)\n",
            "\u001b[2K     \u001b[90m━━━━━━━━━━━━━━━━━━━━━━━━━━━━━━━━━━━━━━━━\u001b[0m \u001b[32m17.1/17.1 MB\u001b[0m \u001b[31m62.3 MB/s\u001b[0m eta \u001b[36m0:00:00\u001b[0m\n",
            "\u001b[?25hRequirement already satisfied: statsmodels>=0.12.1 in /usr/local/lib/python3.10/dist-packages (from pycaret[analysis]) (0.14.1)\n",
            "Collecting tbats>=1.1.3 (from pycaret[analysis])\n",
            "  Downloading tbats-1.1.3-py3-none-any.whl (44 kB)\n",
            "\u001b[2K     \u001b[90m━━━━━━━━━━━━━━━━━━━━━━━━━━━━━━━━━━━━━━━━\u001b[0m \u001b[32m44.0/44.0 kB\u001b[0m \u001b[31m6.2 MB/s\u001b[0m eta \u001b[36m0:00:00\u001b[0m\n",
            "\u001b[?25hRequirement already satisfied: tqdm>=4.62.0 in /usr/local/lib/python3.10/dist-packages (from pycaret[analysis]) (4.66.2)\n",
            "Requirement already satisfied: xxhash in /usr/local/lib/python3.10/dist-packages (from pycaret[analysis]) (3.4.1)\n",
            "Requirement already satisfied: yellowbrick>=1.4 in /usr/local/lib/python3.10/dist-packages (from pycaret[analysis]) (1.5)\n",
            "Collecting wurlitzer (from pycaret[analysis])\n",
            "  Downloading wurlitzer-3.0.3-py3-none-any.whl (7.3 kB)\n",
            "Collecting Flask==2.2.3 (from pycaret[analysis])\n",
            "  Downloading Flask-2.2.3-py3-none-any.whl (101 kB)\n",
            "\u001b[2K     \u001b[90m━━━━━━━━━━━━━━━━━━━━━━━━━━━━━━━━━━━━━━━━\u001b[0m \u001b[32m101.8/101.8 kB\u001b[0m \u001b[31m13.3 MB/s\u001b[0m eta \u001b[36m0:00:00\u001b[0m\n",
            "\u001b[?25hCollecting explainerdashboard>=0.3.8 (from pycaret[analysis])\n",
            "  Downloading explainerdashboard-0.4.5-py3-none-any.whl (287 kB)\n",
            "\u001b[2K     \u001b[90m━━━━━━━━━━━━━━━━━━━━━━━━━━━━━━━━━━━━━━━━\u001b[0m \u001b[32m287.2/287.2 kB\u001b[0m \u001b[31m34.2 MB/s\u001b[0m eta \u001b[36m0:00:00\u001b[0m\n",
            "\u001b[?25hCollecting fairlearn==0.7.0 (from pycaret[analysis])\n",
            "  Downloading fairlearn-0.7.0-py3-none-any.whl (177 kB)\n",
            "\u001b[2K     \u001b[90m━━━━━━━━━━━━━━━━━━━━━━━━━━━━━━━━━━━━━━━━\u001b[0m \u001b[32m177.5/177.5 kB\u001b[0m \u001b[31m20.3 MB/s\u001b[0m eta \u001b[36m0:00:00\u001b[0m\n",
            "\u001b[?25hCollecting interpret>=0.2.7 (from pycaret[analysis])\n",
            "  Downloading interpret-0.5.1-py3-none-any.whl (1.4 kB)\n",
            "Requirement already satisfied: shap>=0.38.0 in /usr/local/lib/python3.10/dist-packages (from pycaret[analysis]) (0.44.1)\n",
            "Collecting umap-learn>=0.5.2 (from pycaret[analysis])\n",
            "  Downloading umap-learn-0.5.5.tar.gz (90 kB)\n",
            "\u001b[2K     \u001b[90m━━━━━━━━━━━━━━━━━━━━━━━━━━━━━━━━━━━━━━━━\u001b[0m \u001b[32m90.9/90.9 kB\u001b[0m \u001b[31m13.1 MB/s\u001b[0m eta \u001b[36m0:00:00\u001b[0m\n",
            "\u001b[?25h  Preparing metadata (setup.py) ... \u001b[?25l\u001b[?25hdone\n",
            "Collecting ydata-profiling>=4.3.1 (from pycaret[analysis])\n",
            "  Downloading ydata_profiling-4.6.4-py2.py3-none-any.whl (357 kB)\n",
            "\u001b[2K     \u001b[90m━━━━━━━━━━━━━━━━━━━━━━━━━━━━━━━━━━━━━━━━\u001b[0m \u001b[32m357.8/357.8 kB\u001b[0m \u001b[31m36.6 MB/s\u001b[0m eta \u001b[36m0:00:00\u001b[0m\n",
            "\u001b[?25hRequirement already satisfied: Werkzeug>=2.2.2 in /usr/local/lib/python3.10/dist-packages (from Flask==2.2.3->pycaret[analysis]) (3.0.1)\n",
            "Requirement already satisfied: itsdangerous>=2.0 in /usr/local/lib/python3.10/dist-packages (from Flask==2.2.3->pycaret[analysis]) (2.1.2)\n",
            "Requirement already satisfied: click>=8.0 in /usr/local/lib/python3.10/dist-packages (from Flask==2.2.3->pycaret[analysis]) (8.1.7)\n",
            "Requirement already satisfied: patsy>=0.5.1 in /usr/local/lib/python3.10/dist-packages (from category-encoders>=2.4.0->pycaret[analysis]) (0.5.6)\n",
            "Requirement already satisfied: packaging in /usr/local/lib/python3.10/dist-packages (from deprecation>=2.1.0->pycaret[analysis]) (23.2)\n",
            "Collecting dash-auth (from explainerdashboard>=0.3.8->pycaret[analysis])\n",
            "  Downloading dash_auth-2.2.0-py3-none-any.whl (7.0 kB)\n",
            "Collecting dash-bootstrap-components>=1 (from explainerdashboard>=0.3.8->pycaret[analysis])\n",
            "  Downloading dash_bootstrap_components-1.5.0-py3-none-any.whl (221 kB)\n",
            "\u001b[2K     \u001b[90m━━━━━━━━━━━━━━━━━━━━━━━━━━━━━━━━━━━━━━━━\u001b[0m \u001b[32m221.2/221.2 kB\u001b[0m \u001b[31m24.9 MB/s\u001b[0m eta \u001b[36m0:00:00\u001b[0m\n",
            "\u001b[?25hCollecting dash>=2.10.1 (from explainerdashboard>=0.3.8->pycaret[analysis])\n",
            "  Downloading dash-2.15.0-py3-none-any.whl (10.2 MB)\n",
            "\u001b[2K     \u001b[90m━━━━━━━━━━━━━━━━━━━━━━━━━━━━━━━━━━━━━━━━\u001b[0m \u001b[32m10.2/10.2 MB\u001b[0m \u001b[31m74.9 MB/s\u001b[0m eta \u001b[36m0:00:00\u001b[0m\n",
            "\u001b[?25hCollecting dtreeviz>=2.1 (from explainerdashboard>=0.3.8->pycaret[analysis])\n",
            "  Downloading dtreeviz-2.2.2-py3-none-any.whl (91 kB)\n",
            "\u001b[2K     \u001b[90m━━━━━━━━━━━━━━━━━━━━━━━━━━━━━━━━━━━━━━━━\u001b[0m \u001b[32m91.8/91.8 kB\u001b[0m \u001b[31m11.4 MB/s\u001b[0m eta \u001b[36m0:00:00\u001b[0m\n",
            "\u001b[?25hCollecting flask-simplelogin (from explainerdashboard>=0.3.8->pycaret[analysis])\n",
            "  Downloading flask_simplelogin-0.1.2-py3-none-any.whl (7.2 kB)\n",
            "Collecting Flask-WTF>=1.1 (from explainerdashboard>=0.3.8->pycaret[analysis])\n",
            "  Downloading flask_wtf-1.2.1-py3-none-any.whl (12 kB)\n",
            "Requirement already satisfied: graphviz>=0.18.2 in /usr/local/lib/python3.10/dist-packages (from explainerdashboard>=0.3.8->pycaret[analysis]) (0.20.1)\n",
            "Collecting jupyter-dash>=0.4.1 (from explainerdashboard>=0.3.8->pycaret[analysis])\n",
            "  Downloading jupyter_dash-0.4.2-py3-none-any.whl (23 kB)\n",
            "Collecting oyaml (from explainerdashboard>=0.3.8->pycaret[analysis])\n",
            "  Downloading oyaml-1.0-py2.py3-none-any.whl (3.0 kB)\n",
            "Collecting waitress (from explainerdashboard>=0.3.8->pycaret[analysis])\n",
            "  Downloading waitress-3.0.0-py3-none-any.whl (56 kB)\n",
            "\u001b[2K     \u001b[90m━━━━━━━━━━━━━━━━━━━━━━━━━━━━━━━━━━━━━━━━\u001b[0m \u001b[32m56.7/56.7 kB\u001b[0m \u001b[31m7.7 MB/s\u001b[0m eta \u001b[36m0:00:00\u001b[0m\n",
            "\u001b[?25hRequirement already satisfied: threadpoolctl>=2.0.0 in /usr/local/lib/python3.10/dist-packages (from imbalanced-learn>=0.8.1->pycaret[analysis]) (3.2.0)\n",
            "Requirement already satisfied: zipp>=0.5 in /usr/local/lib/python3.10/dist-packages (from importlib-metadata>=4.12.0->pycaret[analysis]) (3.17.0)\n",
            "Collecting interpret-core[dash,debug,linear,notebook,plotly,sensitivity,shap]==0.5.1 (from interpret>=0.2.7->pycaret[analysis])\n",
            "  Downloading interpret_core-0.5.1-py3-none-any.whl (13.0 MB)\n",
            "\u001b[2K     \u001b[90m━━━━━━━━━━━━━━━━━━━━━━━━━━━━━━━━━━━━━━━━\u001b[0m \u001b[32m13.0/13.0 MB\u001b[0m \u001b[31m69.0 MB/s\u001b[0m eta \u001b[36m0:00:00\u001b[0m\n",
            "\u001b[?25hRequirement already satisfied: ipykernel>=4.10.0 in /usr/local/lib/python3.10/dist-packages (from interpret-core[dash,debug,linear,notebook,plotly,sensitivity,shap]==0.5.1->interpret>=0.2.7->pycaret[analysis]) (5.5.6)\n",
            "Collecting SALib>=1.3.3 (from interpret-core[dash,debug,linear,notebook,plotly,sensitivity,shap]==0.5.1->interpret>=0.2.7->pycaret[analysis])\n",
            "  Downloading salib-1.4.7-py3-none-any.whl (757 kB)\n",
            "\u001b[2K     \u001b[90m━━━━━━━━━━━━━━━━━━━━━━━━━━━━━━━━━━━━━━━━\u001b[0m \u001b[32m758.0/758.0 kB\u001b[0m \u001b[31m41.7 MB/s\u001b[0m eta \u001b[36m0:00:00\u001b[0m\n",
            "\u001b[?25hCollecting dill>=0.2.5 (from interpret-core[dash,debug,linear,notebook,plotly,sensitivity,shap]==0.5.1->interpret>=0.2.7->pycaret[analysis])\n",
            "  Downloading dill-0.3.8-py3-none-any.whl (116 kB)\n",
            "\u001b[2K     \u001b[90m━━━━━━━━━━━━━━━━━━━━━━━━━━━━━━━━━━━━━━━━\u001b[0m \u001b[32m116.3/116.3 kB\u001b[0m \u001b[31m14.4 MB/s\u001b[0m eta \u001b[36m0:00:00\u001b[0m\n",
            "\u001b[?25hCollecting dash-core-components>=1.0.0 (from interpret-core[dash,debug,linear,notebook,plotly,sensitivity,shap]==0.5.1->interpret>=0.2.7->pycaret[analysis])\n",
            "  Downloading dash_core_components-2.0.0-py3-none-any.whl (3.8 kB)\n",
            "Collecting dash-html-components>=1.0.0 (from interpret-core[dash,debug,linear,notebook,plotly,sensitivity,shap]==0.5.1->interpret>=0.2.7->pycaret[analysis])\n",
            "  Downloading dash_html_components-2.0.0-py3-none-any.whl (4.1 kB)\n",
            "Collecting dash-table>=4.1.0 (from interpret-core[dash,debug,linear,notebook,plotly,sensitivity,shap]==0.5.1->interpret>=0.2.7->pycaret[analysis])\n",
            "  Downloading dash_table-5.0.0-py3-none-any.whl (3.9 kB)\n",
            "Collecting dash-cytoscape>=0.1.1 (from interpret-core[dash,debug,linear,notebook,plotly,sensitivity,shap]==0.5.1->interpret>=0.2.7->pycaret[analysis])\n",
            "  Downloading dash_cytoscape-1.0.0-py3-none-any.whl (4.0 MB)\n",
            "\u001b[2K     \u001b[90m━━━━━━━━━━━━━━━━━━━━━━━━━━━━━━━━━━━━━━━━\u001b[0m \u001b[32m4.0/4.0 MB\u001b[0m \u001b[31m73.5 MB/s\u001b[0m eta \u001b[36m0:00:00\u001b[0m\n",
            "\u001b[?25hCollecting gevent>=1.3.6 (from interpret-core[dash,debug,linear,notebook,plotly,sensitivity,shap]==0.5.1->interpret>=0.2.7->pycaret[analysis])\n",
            "  Downloading gevent-24.2.1-cp310-cp310-manylinux_2_28_x86_64.whl (6.5 MB)\n",
            "\u001b[2K     \u001b[90m━━━━━━━━━━━━━━━━━━━━━━━━━━━━━━━━━━━━━━━━\u001b[0m \u001b[32m6.5/6.5 MB\u001b[0m \u001b[31m83.2 MB/s\u001b[0m eta \u001b[36m0:00:00\u001b[0m\n",
            "\u001b[?25hRequirement already satisfied: setuptools>=18.5 in /usr/local/lib/python3.10/dist-packages (from ipython>=5.5.0->pycaret[analysis]) (67.7.2)\n",
            "Collecting jedi>=0.16 (from ipython>=5.5.0->pycaret[analysis])\n",
            "  Downloading jedi-0.19.1-py2.py3-none-any.whl (1.6 MB)\n",
            "\u001b[2K     \u001b[90m━━━━━━━━━━━━━━━━━━━━━━━━━━━━━━━━━━━━━━━━\u001b[0m \u001b[32m1.6/1.6 MB\u001b[0m \u001b[31m58.0 MB/s\u001b[0m eta \u001b[36m0:00:00\u001b[0m\n",
            "\u001b[?25hRequirement already satisfied: decorator in /usr/local/lib/python3.10/dist-packages (from ipython>=5.5.0->pycaret[analysis]) (4.4.2)\n",
            "Requirement already satisfied: pickleshare in /usr/local/lib/python3.10/dist-packages (from ipython>=5.5.0->pycaret[analysis]) (0.7.5)\n",
            "Requirement already satisfied: traitlets>=4.2 in /usr/local/lib/python3.10/dist-packages (from ipython>=5.5.0->pycaret[analysis]) (5.7.1)\n",
            "Requirement already satisfied: prompt-toolkit!=3.0.0,!=3.0.1,<3.1.0,>=2.0.0 in /usr/local/lib/python3.10/dist-packages (from ipython>=5.5.0->pycaret[analysis]) (3.0.43)\n",
            "Requirement already satisfied: pygments in /usr/local/lib/python3.10/dist-packages (from ipython>=5.5.0->pycaret[analysis]) (2.16.1)\n",
            "Requirement already satisfied: backcall in /usr/local/lib/python3.10/dist-packages (from ipython>=5.5.0->pycaret[analysis]) (0.2.0)\n",
            "Requirement already satisfied: matplotlib-inline in /usr/local/lib/python3.10/dist-packages (from ipython>=5.5.0->pycaret[analysis]) (0.1.6)\n",
            "Requirement already satisfied: pexpect>4.3 in /usr/local/lib/python3.10/dist-packages (from ipython>=5.5.0->pycaret[analysis]) (4.9.0)\n",
            "Requirement already satisfied: ipython-genutils~=0.2.0 in /usr/local/lib/python3.10/dist-packages (from ipywidgets>=7.6.5->pycaret[analysis]) (0.2.0)\n",
            "Requirement already satisfied: widgetsnbextension~=3.6.0 in /usr/local/lib/python3.10/dist-packages (from ipywidgets>=7.6.5->pycaret[analysis]) (3.6.6)\n",
            "Requirement already satisfied: jupyterlab-widgets>=1.0.0 in /usr/local/lib/python3.10/dist-packages (from ipywidgets>=7.6.5->pycaret[analysis]) (3.0.10)\n",
            "Requirement already satisfied: contourpy>=1.0.1 in /usr/local/lib/python3.10/dist-packages (from matplotlib<=3.6,>=3.3.0->pycaret[analysis]) (1.2.0)\n",
            "Requirement already satisfied: cycler>=0.10 in /usr/local/lib/python3.10/dist-packages (from matplotlib<=3.6,>=3.3.0->pycaret[analysis]) (0.12.1)\n",
            "Requirement already satisfied: fonttools>=4.22.0 in /usr/local/lib/python3.10/dist-packages (from matplotlib<=3.6,>=3.3.0->pycaret[analysis]) (4.48.1)\n",
            "Requirement already satisfied: kiwisolver>=1.0.1 in /usr/local/lib/python3.10/dist-packages (from matplotlib<=3.6,>=3.3.0->pycaret[analysis]) (1.4.5)\n",
            "Requirement already satisfied: pillow>=6.2.0 in /usr/local/lib/python3.10/dist-packages (from matplotlib<=3.6,>=3.3.0->pycaret[analysis]) (9.4.0)\n",
            "Requirement already satisfied: pyparsing>=2.2.1 in /usr/local/lib/python3.10/dist-packages (from matplotlib<=3.6,>=3.3.0->pycaret[analysis]) (3.1.1)\n",
            "Requirement already satisfied: python-dateutil>=2.7 in /usr/local/lib/python3.10/dist-packages (from matplotlib<=3.6,>=3.3.0->pycaret[analysis]) (2.8.2)\n",
            "Requirement already satisfied: fastjsonschema in /usr/local/lib/python3.10/dist-packages (from nbformat>=4.2.0->pycaret[analysis]) (2.19.1)\n",
            "Requirement already satisfied: jsonschema>=2.6 in /usr/local/lib/python3.10/dist-packages (from nbformat>=4.2.0->pycaret[analysis]) (4.19.2)\n",
            "Requirement already satisfied: jupyter-core in /usr/local/lib/python3.10/dist-packages (from nbformat>=4.2.0->pycaret[analysis]) (5.7.1)\n",
            "Requirement already satisfied: llvmlite<0.42,>=0.41.0dev0 in /usr/local/lib/python3.10/dist-packages (from numba>=0.55.0->pycaret[analysis]) (0.41.1)\n",
            "Requirement already satisfied: pytz>=2020.1 in /usr/local/lib/python3.10/dist-packages (from pandas<2.0.0,>=1.3.0->pycaret[analysis]) (2023.4)\n",
            "Requirement already satisfied: tenacity>=6.2.0 in /usr/local/lib/python3.10/dist-packages (from plotly>=5.0.0->pycaret[analysis]) (8.2.3)\n",
            "Collecting orjson<4.0.0,>=3.8.0 (from plotly-resampler>=0.8.3.1->pycaret[analysis])\n",
            "  Downloading orjson-3.9.14-cp310-cp310-manylinux_2_17_x86_64.manylinux2014_x86_64.whl (138 kB)\n",
            "\u001b[2K     \u001b[90m━━━━━━━━━━━━━━━━━━━━━━━━━━━━━━━━━━━━━━━━\u001b[0m \u001b[32m139.0/139.0 kB\u001b[0m \u001b[31m14.8 MB/s\u001b[0m eta \u001b[36m0:00:00\u001b[0m\n",
            "\u001b[?25hCollecting tsdownsample==0.1.2 (from plotly-resampler>=0.8.3.1->pycaret[analysis])\n",
            "  Downloading tsdownsample-0.1.2-cp310-cp310-manylinux_2_17_x86_64.manylinux2014_x86_64.whl (2.3 MB)\n",
            "\u001b[2K     \u001b[90m━━━━━━━━━━━━━━━━━━━━━━━━━━━━━━━━━━━━━━━━\u001b[0m \u001b[32m2.3/2.3 MB\u001b[0m \u001b[31m71.8 MB/s\u001b[0m eta \u001b[36m0:00:00\u001b[0m\n",
            "\u001b[?25hRequirement already satisfied: Cython!=0.29.18,!=0.29.31,>=0.29 in /usr/local/lib/python3.10/dist-packages (from pmdarima!=1.8.1,<3.0.0,>=1.8.0->pycaret[analysis]) (3.0.8)\n",
            "Requirement already satisfied: urllib3 in /usr/local/lib/python3.10/dist-packages (from pmdarima!=1.8.1,<3.0.0,>=1.8.0->pycaret[analysis]) (2.0.7)\n",
            "Requirement already satisfied: six in /usr/local/lib/python3.10/dist-packages (from pyod>=1.0.8->pycaret[analysis]) (1.16.0)\n",
            "Requirement already satisfied: charset-normalizer<4,>=2 in /usr/local/lib/python3.10/dist-packages (from requests>=2.27.1->pycaret[analysis]) (3.3.2)\n",
            "Requirement already satisfied: idna<4,>=2.5 in /usr/local/lib/python3.10/dist-packages (from requests>=2.27.1->pycaret[analysis]) (3.6)\n",
            "Requirement already satisfied: certifi>=2017.4.17 in /usr/local/lib/python3.10/dist-packages (from requests>=2.27.1->pycaret[analysis]) (2024.2.2)\n",
            "Requirement already satisfied: slicer==0.0.7 in /usr/local/lib/python3.10/dist-packages (from shap>=0.38.0->pycaret[analysis]) (0.0.7)\n",
            "Collecting deprecated>=1.2.13 (from sktime!=0.17.1,!=0.17.2,!=0.18.0,<0.22.0,>=0.16.1->pycaret[analysis])\n",
            "  Downloading Deprecated-1.2.14-py2.py3-none-any.whl (9.6 kB)\n",
            "Collecting scikit-base<0.6.0 (from sktime!=0.17.1,!=0.17.2,!=0.18.0,<0.22.0,>=0.16.1->pycaret[analysis])\n",
            "  Downloading scikit_base-0.5.2-py3-none-any.whl (118 kB)\n",
            "\u001b[2K     \u001b[90m━━━━━━━━━━━━━━━━━━━━━━━━━━━━━━━━━━━━━━━━\u001b[0m \u001b[32m119.0/119.0 kB\u001b[0m \u001b[31m8.4 MB/s\u001b[0m eta \u001b[36m0:00:00\u001b[0m\n",
            "\u001b[?25hCollecting pynndescent>=0.5 (from umap-learn>=0.5.2->pycaret[analysis])\n",
            "  Downloading pynndescent-0.5.11-py3-none-any.whl (55 kB)\n",
            "\u001b[2K     \u001b[90m━━━━━━━━━━━━━━━━━━━━━━━━━━━━━━━━━━━━━━━━\u001b[0m \u001b[32m55.8/55.8 kB\u001b[0m \u001b[31m4.8 MB/s\u001b[0m eta \u001b[36m0:00:00\u001b[0m\n",
            "\u001b[?25hRequirement already satisfied: pydantic>=2 in /usr/local/lib/python3.10/dist-packages (from ydata-profiling>=4.3.1->pycaret[analysis]) (2.6.1)\n",
            "Requirement already satisfied: PyYAML<6.1,>=5.0.0 in /usr/local/lib/python3.10/dist-packages (from ydata-profiling>=4.3.1->pycaret[analysis]) (6.0.1)\n",
            "Collecting visions[type_image_path]==0.7.5 (from ydata-profiling>=4.3.1->pycaret[analysis])\n",
            "  Downloading visions-0.7.5-py3-none-any.whl (102 kB)\n",
            "\u001b[2K     \u001b[90m━━━━━━━━━━━━━━━━━━━━━━━━━━━━━━━━━━━━━━━━\u001b[0m \u001b[32m102.7/102.7 kB\u001b[0m \u001b[31m10.0 MB/s\u001b[0m eta \u001b[36m0:00:00\u001b[0m\n",
            "\u001b[?25hCollecting htmlmin==0.1.12 (from ydata-profiling>=4.3.1->pycaret[analysis])\n",
            "  Downloading htmlmin-0.1.12.tar.gz (19 kB)\n",
            "  Preparing metadata (setup.py) ... \u001b[?25l\u001b[?25hdone\n",
            "Collecting phik<0.13,>=0.11.1 (from ydata-profiling>=4.3.1->pycaret[analysis])\n",
            "  Downloading phik-0.12.4-cp310-cp310-manylinux_2_17_x86_64.manylinux2014_x86_64.whl (686 kB)\n",
            "\u001b[2K     \u001b[90m━━━━━━━━━━━━━━━━━━━━━━━━━━━━━━━━━━━━━━━━\u001b[0m \u001b[32m686.1/686.1 kB\u001b[0m \u001b[31m43.8 MB/s\u001b[0m eta \u001b[36m0:00:00\u001b[0m\n",
            "\u001b[?25hCollecting seaborn<0.13,>=0.10.1 (from ydata-profiling>=4.3.1->pycaret[analysis])\n",
            "  Downloading seaborn-0.12.2-py3-none-any.whl (293 kB)\n",
            "\u001b[2K     \u001b[90m━━━━━━━━━━━━━━━━━━━━━━━━━━━━━━━━━━━━━━━━\u001b[0m \u001b[32m293.3/293.3 kB\u001b[0m \u001b[31m12.7 MB/s\u001b[0m eta \u001b[36m0:00:00\u001b[0m\n",
            "\u001b[?25hCollecting multimethod<2,>=1.4 (from ydata-profiling>=4.3.1->pycaret[analysis])\n",
            "  Downloading multimethod-1.11-py3-none-any.whl (10 kB)\n",
            "Collecting typeguard<5,>=4.1.2 (from ydata-profiling>=4.3.1->pycaret[analysis])\n",
            "  Downloading typeguard-4.1.5-py3-none-any.whl (34 kB)\n",
            "Collecting imagehash==4.3.1 (from ydata-profiling>=4.3.1->pycaret[analysis])\n",
            "  Downloading ImageHash-4.3.1-py2.py3-none-any.whl (296 kB)\n",
            "\u001b[2K     \u001b[90m━━━━━━━━━━━━━━━━━━━━━━━━━━━━━━━━━━━━━━━━\u001b[0m \u001b[32m296.5/296.5 kB\u001b[0m \u001b[31m33.8 MB/s\u001b[0m eta \u001b[36m0:00:00\u001b[0m\n",
            "\u001b[?25hRequirement already satisfied: wordcloud>=1.9.1 in /usr/local/lib/python3.10/dist-packages (from ydata-profiling>=4.3.1->pycaret[analysis]) (1.9.3)\n",
            "Collecting dacite>=1.8 (from ydata-profiling>=4.3.1->pycaret[analysis])\n",
            "  Downloading dacite-1.8.1-py3-none-any.whl (14 kB)\n",
            "Requirement already satisfied: PyWavelets in /usr/local/lib/python3.10/dist-packages (from imagehash==4.3.1->ydata-profiling>=4.3.1->pycaret[analysis]) (1.5.0)\n",
            "Requirement already satisfied: attrs>=19.3.0 in /usr/local/lib/python3.10/dist-packages (from visions[type_image_path]==0.7.5->ydata-profiling>=4.3.1->pycaret[analysis]) (23.2.0)\n",
            "Requirement already satisfied: networkx>=2.4 in /usr/local/lib/python3.10/dist-packages (from visions[type_image_path]==0.7.5->ydata-profiling>=4.3.1->pycaret[analysis]) (3.2.1)\n",
            "Collecting tangled-up-in-unicode>=0.0.4 (from visions[type_image_path]==0.7.5->ydata-profiling>=4.3.1->pycaret[analysis])\n",
            "  Downloading tangled_up_in_unicode-0.2.0-py3-none-any.whl (4.7 MB)\n",
            "\u001b[2K     \u001b[90m━━━━━━━━━━━━━━━━━━━━━━━━━━━━━━━━━━━━━━━━\u001b[0m \u001b[32m4.7/4.7 MB\u001b[0m \u001b[31m81.9 MB/s\u001b[0m eta \u001b[36m0:00:00\u001b[0m\n",
            "\u001b[?25hRequirement already satisfied: typing-extensions>=4.1.1 in /usr/local/lib/python3.10/dist-packages (from dash>=2.10.1->explainerdashboard>=0.3.8->pycaret[analysis]) (4.9.0)\n",
            "Collecting retrying (from dash>=2.10.1->explainerdashboard>=0.3.8->pycaret[analysis])\n",
            "  Downloading retrying-1.3.4-py3-none-any.whl (11 kB)\n",
            "Requirement already satisfied: nest-asyncio in /usr/local/lib/python3.10/dist-packages (from dash>=2.10.1->explainerdashboard>=0.3.8->pycaret[analysis]) (1.6.0)\n",
            "Requirement already satisfied: wrapt<2,>=1.10 in /usr/local/lib/python3.10/dist-packages (from deprecated>=1.2.13->sktime!=0.17.1,!=0.17.2,!=0.18.0,<0.22.0,>=0.16.1->pycaret[analysis]) (1.14.1)\n",
            "Requirement already satisfied: colour in /usr/local/lib/python3.10/dist-packages (from dtreeviz>=2.1->explainerdashboard>=0.3.8->pycaret[analysis]) (0.1.5)\n",
            "Requirement already satisfied: pytest in /usr/local/lib/python3.10/dist-packages (from dtreeviz>=2.1->explainerdashboard>=0.3.8->pycaret[analysis]) (7.4.4)\n",
            "Collecting wtforms (from Flask-WTF>=1.1->explainerdashboard>=0.3.8->pycaret[analysis])\n",
            "  Downloading wtforms-3.1.2-py3-none-any.whl (145 kB)\n",
            "\u001b[2K     \u001b[90m━━━━━━━━━━━━━━━━━━━━━━━━━━━━━━━━━━━━━━━━\u001b[0m \u001b[32m146.0/146.0 kB\u001b[0m \u001b[31m9.9 MB/s\u001b[0m eta \u001b[36m0:00:00\u001b[0m\n",
            "\u001b[?25hRequirement already satisfied: jupyter-client in /usr/local/lib/python3.10/dist-packages (from ipykernel>=4.10.0->interpret-core[dash,debug,linear,notebook,plotly,sensitivity,shap]==0.5.1->interpret>=0.2.7->pycaret[analysis]) (6.1.12)\n",
            "Requirement already satisfied: tornado>=4.2 in /usr/local/lib/python3.10/dist-packages (from ipykernel>=4.10.0->interpret-core[dash,debug,linear,notebook,plotly,sensitivity,shap]==0.5.1->interpret>=0.2.7->pycaret[analysis]) (6.3.2)\n",
            "Requirement already satisfied: parso<0.9.0,>=0.8.3 in /usr/local/lib/python3.10/dist-packages (from jedi>=0.16->ipython>=5.5.0->pycaret[analysis]) (0.8.3)\n",
            "Requirement already satisfied: jsonschema-specifications>=2023.03.6 in /usr/local/lib/python3.10/dist-packages (from jsonschema>=2.6->nbformat>=4.2.0->pycaret[analysis]) (2023.12.1)\n",
            "Requirement already satisfied: referencing>=0.28.4 in /usr/local/lib/python3.10/dist-packages (from jsonschema>=2.6->nbformat>=4.2.0->pycaret[analysis]) (0.33.0)\n",
            "Requirement already satisfied: rpds-py>=0.7.1 in /usr/local/lib/python3.10/dist-packages (from jsonschema>=2.6->nbformat>=4.2.0->pycaret[analysis]) (0.17.1)\n",
            "Collecting ansi2html (from jupyter-dash>=0.4.1->explainerdashboard>=0.3.8->pycaret[analysis])\n",
            "  Downloading ansi2html-1.9.1-py3-none-any.whl (17 kB)\n",
            "Requirement already satisfied: ptyprocess>=0.5 in /usr/local/lib/python3.10/dist-packages (from pexpect>4.3->ipython>=5.5.0->pycaret[analysis]) (0.7.0)\n",
            "Requirement already satisfied: wcwidth in /usr/local/lib/python3.10/dist-packages (from prompt-toolkit!=3.0.0,!=3.0.1,<3.1.0,>=2.0.0->ipython>=5.5.0->pycaret[analysis]) (0.2.13)\n",
            "Requirement already satisfied: annotated-types>=0.4.0 in /usr/local/lib/python3.10/dist-packages (from pydantic>=2->ydata-profiling>=4.3.1->pycaret[analysis]) (0.6.0)\n",
            "Requirement already satisfied: pydantic-core==2.16.2 in /usr/local/lib/python3.10/dist-packages (from pydantic>=2->ydata-profiling>=4.3.1->pycaret[analysis]) (2.16.2)\n",
            "Requirement already satisfied: notebook>=4.4.1 in /usr/local/lib/python3.10/dist-packages (from widgetsnbextension~=3.6.0->ipywidgets>=7.6.5->pycaret[analysis]) (6.5.5)\n",
            "Requirement already satisfied: platformdirs>=2.5 in /usr/local/lib/python3.10/dist-packages (from jupyter-core->nbformat>=4.2.0->pycaret[analysis]) (4.2.0)\n",
            "Collecting zope.event (from gevent>=1.3.6->interpret-core[dash,debug,linear,notebook,plotly,sensitivity,shap]==0.5.1->interpret>=0.2.7->pycaret[analysis])\n",
            "  Downloading zope.event-5.0-py3-none-any.whl (6.8 kB)\n",
            "Collecting zope.interface (from gevent>=1.3.6->interpret-core[dash,debug,linear,notebook,plotly,sensitivity,shap]==0.5.1->interpret>=0.2.7->pycaret[analysis])\n",
            "  Downloading zope.interface-6.2-cp310-cp310-manylinux_2_5_x86_64.manylinux1_x86_64.manylinux_2_17_x86_64.manylinux2014_x86_64.whl (247 kB)\n",
            "\u001b[2K     \u001b[90m━━━━━━━━━━━━━━━━━━━━━━━━━━━━━━━━━━━━━━━━\u001b[0m \u001b[32m247.3/247.3 kB\u001b[0m \u001b[31m25.3 MB/s\u001b[0m eta \u001b[36m0:00:00\u001b[0m\n",
            "\u001b[?25hRequirement already satisfied: greenlet>=2.0.0 in /usr/local/lib/python3.10/dist-packages (from gevent>=1.3.6->interpret-core[dash,debug,linear,notebook,plotly,sensitivity,shap]==0.5.1->interpret>=0.2.7->pycaret[analysis]) (3.0.3)\n",
            "Requirement already satisfied: pyzmq<25,>=17 in /usr/local/lib/python3.10/dist-packages (from notebook>=4.4.1->widgetsnbextension~=3.6.0->ipywidgets>=7.6.5->pycaret[analysis]) (23.2.1)\n",
            "Requirement already satisfied: argon2-cffi in /usr/local/lib/python3.10/dist-packages (from notebook>=4.4.1->widgetsnbextension~=3.6.0->ipywidgets>=7.6.5->pycaret[analysis]) (23.1.0)\n",
            "Requirement already satisfied: nbconvert>=5 in /usr/local/lib/python3.10/dist-packages (from notebook>=4.4.1->widgetsnbextension~=3.6.0->ipywidgets>=7.6.5->pycaret[analysis]) (6.5.4)\n",
            "Requirement already satisfied: Send2Trash>=1.8.0 in /usr/local/lib/python3.10/dist-packages (from notebook>=4.4.1->widgetsnbextension~=3.6.0->ipywidgets>=7.6.5->pycaret[analysis]) (1.8.2)\n",
            "Requirement already satisfied: terminado>=0.8.3 in /usr/local/lib/python3.10/dist-packages (from notebook>=4.4.1->widgetsnbextension~=3.6.0->ipywidgets>=7.6.5->pycaret[analysis]) (0.18.0)\n",
            "Requirement already satisfied: prometheus-client in /usr/local/lib/python3.10/dist-packages (from notebook>=4.4.1->widgetsnbextension~=3.6.0->ipywidgets>=7.6.5->pycaret[analysis]) (0.19.0)\n",
            "Requirement already satisfied: nbclassic>=0.4.7 in /usr/local/lib/python3.10/dist-packages (from notebook>=4.4.1->widgetsnbextension~=3.6.0->ipywidgets>=7.6.5->pycaret[analysis]) (1.0.0)\n",
            "Collecting multiprocess (from SALib>=1.3.3->interpret-core[dash,debug,linear,notebook,plotly,sensitivity,shap]==0.5.1->interpret>=0.2.7->pycaret[analysis])\n",
            "  Downloading multiprocess-0.70.16-py310-none-any.whl (134 kB)\n",
            "\u001b[2K     \u001b[90m━━━━━━━━━━━━━━━━━━━━━━━━━━━━━━━━━━━━━━━━\u001b[0m \u001b[32m134.8/134.8 kB\u001b[0m \u001b[31m17.7 MB/s\u001b[0m eta \u001b[36m0:00:00\u001b[0m\n",
            "\u001b[?25hRequirement already satisfied: iniconfig in /usr/local/lib/python3.10/dist-packages (from pytest->dtreeviz>=2.1->explainerdashboard>=0.3.8->pycaret[analysis]) (2.0.0)\n",
            "Requirement already satisfied: pluggy<2.0,>=0.12 in /usr/local/lib/python3.10/dist-packages (from pytest->dtreeviz>=2.1->explainerdashboard>=0.3.8->pycaret[analysis]) (1.4.0)\n",
            "Requirement already satisfied: exceptiongroup>=1.0.0rc8 in /usr/local/lib/python3.10/dist-packages (from pytest->dtreeviz>=2.1->explainerdashboard>=0.3.8->pycaret[analysis]) (1.2.0)\n",
            "Requirement already satisfied: tomli>=1.0.0 in /usr/local/lib/python3.10/dist-packages (from pytest->dtreeviz>=2.1->explainerdashboard>=0.3.8->pycaret[analysis]) (2.0.1)\n",
            "Requirement already satisfied: jupyter-server>=1.8 in /usr/local/lib/python3.10/dist-packages (from nbclassic>=0.4.7->notebook>=4.4.1->widgetsnbextension~=3.6.0->ipywidgets>=7.6.5->pycaret[analysis]) (1.24.0)\n",
            "Requirement already satisfied: notebook-shim>=0.2.3 in /usr/local/lib/python3.10/dist-packages (from nbclassic>=0.4.7->notebook>=4.4.1->widgetsnbextension~=3.6.0->ipywidgets>=7.6.5->pycaret[analysis]) (0.2.3)\n",
            "Requirement already satisfied: lxml in /usr/local/lib/python3.10/dist-packages (from nbconvert>=5->notebook>=4.4.1->widgetsnbextension~=3.6.0->ipywidgets>=7.6.5->pycaret[analysis]) (4.9.4)\n",
            "Requirement already satisfied: beautifulsoup4 in /usr/local/lib/python3.10/dist-packages (from nbconvert>=5->notebook>=4.4.1->widgetsnbextension~=3.6.0->ipywidgets>=7.6.5->pycaret[analysis]) (4.12.3)\n",
            "Requirement already satisfied: bleach in /usr/local/lib/python3.10/dist-packages (from nbconvert>=5->notebook>=4.4.1->widgetsnbextension~=3.6.0->ipywidgets>=7.6.5->pycaret[analysis]) (6.1.0)\n",
            "Requirement already satisfied: defusedxml in /usr/local/lib/python3.10/dist-packages (from nbconvert>=5->notebook>=4.4.1->widgetsnbextension~=3.6.0->ipywidgets>=7.6.5->pycaret[analysis]) (0.7.1)\n",
            "Requirement already satisfied: entrypoints>=0.2.2 in /usr/local/lib/python3.10/dist-packages (from nbconvert>=5->notebook>=4.4.1->widgetsnbextension~=3.6.0->ipywidgets>=7.6.5->pycaret[analysis]) (0.4)\n",
            "Requirement already satisfied: jupyterlab-pygments in /usr/local/lib/python3.10/dist-packages (from nbconvert>=5->notebook>=4.4.1->widgetsnbextension~=3.6.0->ipywidgets>=7.6.5->pycaret[analysis]) (0.3.0)\n",
            "Requirement already satisfied: mistune<2,>=0.8.1 in /usr/local/lib/python3.10/dist-packages (from nbconvert>=5->notebook>=4.4.1->widgetsnbextension~=3.6.0->ipywidgets>=7.6.5->pycaret[analysis]) (0.8.4)\n",
            "Requirement already satisfied: nbclient>=0.5.0 in /usr/local/lib/python3.10/dist-packages (from nbconvert>=5->notebook>=4.4.1->widgetsnbextension~=3.6.0->ipywidgets>=7.6.5->pycaret[analysis]) (0.9.0)\n",
            "Requirement already satisfied: pandocfilters>=1.4.1 in /usr/local/lib/python3.10/dist-packages (from nbconvert>=5->notebook>=4.4.1->widgetsnbextension~=3.6.0->ipywidgets>=7.6.5->pycaret[analysis]) (1.5.1)\n",
            "Requirement already satisfied: tinycss2 in /usr/local/lib/python3.10/dist-packages (from nbconvert>=5->notebook>=4.4.1->widgetsnbextension~=3.6.0->ipywidgets>=7.6.5->pycaret[analysis]) (1.2.1)\n",
            "Requirement already satisfied: argon2-cffi-bindings in /usr/local/lib/python3.10/dist-packages (from argon2-cffi->notebook>=4.4.1->widgetsnbextension~=3.6.0->ipywidgets>=7.6.5->pycaret[analysis]) (21.2.0)\n",
            "Requirement already satisfied: anyio<4,>=3.1.0 in /usr/local/lib/python3.10/dist-packages (from jupyter-server>=1.8->nbclassic>=0.4.7->notebook>=4.4.1->widgetsnbextension~=3.6.0->ipywidgets>=7.6.5->pycaret[analysis]) (3.7.1)\n",
            "Requirement already satisfied: websocket-client in /usr/local/lib/python3.10/dist-packages (from jupyter-server>=1.8->nbclassic>=0.4.7->notebook>=4.4.1->widgetsnbextension~=3.6.0->ipywidgets>=7.6.5->pycaret[analysis]) (1.7.0)\n",
            "Requirement already satisfied: cffi>=1.0.1 in /usr/local/lib/python3.10/dist-packages (from argon2-cffi-bindings->argon2-cffi->notebook>=4.4.1->widgetsnbextension~=3.6.0->ipywidgets>=7.6.5->pycaret[analysis]) (1.16.0)\n",
            "Requirement already satisfied: soupsieve>1.2 in /usr/local/lib/python3.10/dist-packages (from beautifulsoup4->nbconvert>=5->notebook>=4.4.1->widgetsnbextension~=3.6.0->ipywidgets>=7.6.5->pycaret[analysis]) (2.5)\n",
            "Requirement already satisfied: webencodings in /usr/local/lib/python3.10/dist-packages (from bleach->nbconvert>=5->notebook>=4.4.1->widgetsnbextension~=3.6.0->ipywidgets>=7.6.5->pycaret[analysis]) (0.5.1)\n",
            "Requirement already satisfied: sniffio>=1.1 in /usr/local/lib/python3.10/dist-packages (from anyio<4,>=3.1.0->jupyter-server>=1.8->nbclassic>=0.4.7->notebook>=4.4.1->widgetsnbextension~=3.6.0->ipywidgets>=7.6.5->pycaret[analysis]) (1.3.0)\n",
            "Requirement already satisfied: pycparser in /usr/local/lib/python3.10/dist-packages (from cffi>=1.0.1->argon2-cffi-bindings->argon2-cffi->notebook>=4.4.1->widgetsnbextension~=3.6.0->ipywidgets>=7.6.5->pycaret[analysis]) (2.21)\n",
            "Building wheels for collected packages: pyod, umap-learn, htmlmin\n",
            "  Building wheel for pyod (setup.py) ... \u001b[?25l\u001b[?25hdone\n",
            "  Created wheel for pyod: filename=pyod-1.1.3-py3-none-any.whl size=190251 sha256=53ac6e4e2adf7f21ecb1471e92714bf76e6f8a7244c5297d5f007e46189dc747\n",
            "  Stored in directory: /root/.cache/pip/wheels/05/f8/db/124d43bec122d6ec0ab3713fadfe25ebed8af52ec561682b4e\n",
            "  Building wheel for umap-learn (setup.py) ... \u001b[?25l\u001b[?25hdone\n",
            "  Created wheel for umap-learn: filename=umap_learn-0.5.5-py3-none-any.whl size=86832 sha256=a4f768c60be7eb3cf4e2b1f2817e4bcb351965d8534218f59bdcf59f94f63693\n",
            "  Stored in directory: /root/.cache/pip/wheels/3a/70/07/428d2b58660a1a3b431db59b806a10da736612ebbc66c1bcc5\n",
            "  Building wheel for htmlmin (setup.py) ... \u001b[?25l\u001b[?25hdone\n",
            "  Created wheel for htmlmin: filename=htmlmin-0.1.12-py3-none-any.whl size=27081 sha256=4f2f1723ed658f0b69d0c59aafe0e0c279498895fc04d7688eccba3bdc1a0a8c\n",
            "  Stored in directory: /root/.cache/pip/wheels/dd/91/29/a79cecb328d01739e64017b6fb9a1ab9d8cb1853098ec5966d\n",
            "Successfully built pyod umap-learn htmlmin\n",
            "Installing collected packages: kaleido, htmlmin, dash-table, dash-html-components, dash-core-components, zope.interface, zope.event, wurlitzer, wtforms, waitress, typeguard, tsdownsample, tangled-up-in-unicode, scipy, scikit-base, schemdraw, retrying, oyaml, orjson, multimethod, jedi, dill, deprecation, deprecated, dacite, ansi2html, multiprocess, matplotlib, imagehash, gevent, Flask, visions, sktime, seaborn, scikit-plot, SALib, pyod, pynndescent, phik, interpret-core, Flask-WTF, fairlearn, dtreeviz, dash, umap-learn, pmdarima, plotly-resampler, jupyter-dash, flask-simplelogin, dash-cytoscape, dash-bootstrap-components, dash-auth, category-encoders, ydata-profiling, tbats, explainerdashboard, interpret, pycaret\n",
            "  Attempting uninstall: scipy\n",
            "    Found existing installation: scipy 1.11.4\n",
            "    Uninstalling scipy-1.11.4:\n",
            "      Successfully uninstalled scipy-1.11.4\n",
            "  Attempting uninstall: matplotlib\n",
            "    Found existing installation: matplotlib 3.7.1\n",
            "    Uninstalling matplotlib-3.7.1:\n",
            "      Successfully uninstalled matplotlib-3.7.1\n",
            "  Attempting uninstall: Flask\n",
            "    Found existing installation: Flask 2.2.5\n",
            "    Uninstalling Flask-2.2.5:\n",
            "      Successfully uninstalled Flask-2.2.5\n",
            "  Attempting uninstall: seaborn\n",
            "    Found existing installation: seaborn 0.13.1\n",
            "    Uninstalling seaborn-0.13.1:\n",
            "      Successfully uninstalled seaborn-0.13.1\n",
            "\u001b[31mERROR: pip's dependency resolver does not currently take into account all the packages that are installed. This behaviour is the source of the following dependency conflicts.\n",
            "lida 0.0.10 requires fastapi, which is not installed.\n",
            "lida 0.0.10 requires python-multipart, which is not installed.\n",
            "lida 0.0.10 requires uvicorn, which is not installed.\u001b[0m\u001b[31m\n",
            "\u001b[0mSuccessfully installed Flask-2.2.3 Flask-WTF-1.2.1 SALib-1.4.7 ansi2html-1.9.1 category-encoders-2.6.3 dacite-1.8.1 dash-2.15.0 dash-auth-2.2.0 dash-bootstrap-components-1.5.0 dash-core-components-2.0.0 dash-cytoscape-1.0.0 dash-html-components-2.0.0 dash-table-5.0.0 deprecated-1.2.14 deprecation-2.1.0 dill-0.3.8 dtreeviz-2.2.2 explainerdashboard-0.4.5 fairlearn-0.7.0 flask-simplelogin-0.1.2 gevent-24.2.1 htmlmin-0.1.12 imagehash-4.3.1 interpret-0.5.1 interpret-core-0.5.1 jedi-0.19.1 jupyter-dash-0.4.2 kaleido-0.2.1 matplotlib-3.6.0 multimethod-1.11 multiprocess-0.70.16 orjson-3.9.14 oyaml-1.0 phik-0.12.4 plotly-resampler-0.9.2 pmdarima-2.0.4 pycaret-3.2.0 pynndescent-0.5.11 pyod-1.1.3 retrying-1.3.4 schemdraw-0.15 scikit-base-0.5.2 scikit-plot-0.3.7 scipy-1.10.1 seaborn-0.12.2 sktime-0.21.1 tangled-up-in-unicode-0.2.0 tbats-1.1.3 tsdownsample-0.1.2 typeguard-4.1.5 umap-learn-0.5.5 visions-0.7.5 waitress-3.0.0 wtforms-3.1.2 wurlitzer-3.0.3 ydata-profiling-4.6.4 zope.event-5.0 zope.interface-6.2\n"
          ]
        },
        {
          "output_type": "display_data",
          "data": {
            "application/vnd.colab-display-data+json": {
              "pip_warning": {
                "packages": [
                  "matplotlib",
                  "mpl_toolkits"
                ]
              }
            }
          },
          "metadata": {}
        }
      ],
      "source": [
        "!pip install shap\n",
        "!pip install pycaret[analysis]"
      ]
    },
    {
      "cell_type": "code",
      "execution_count": null,
      "metadata": {
        "id": "RjpVP2uCkWdo"
      },
      "outputs": [],
      "source": [
        "import pandas as pd\n",
        "import numpy as np\n",
        "import matplotlib.pyplot as plt\n",
        "import seaborn as sns\n",
        "from sklearn.model_selection import train_test_split\n",
        "from sklearn.linear_model import Ridge\n",
        "from sklearn.linear_model import Lasso\n",
        "from sklearn.linear_model import ElasticNet\n",
        "from sklearn.linear_model import LinearRegression\n",
        "from sklearn.tree import DecisionTreeRegressor\n",
        "from sklearn.metrics import confusion_matrix\n",
        "from sklearn.preprocessing import PolynomialFeatures, LabelEncoder, StandardScaler\n",
        "from sklearn.ensemble import RandomForestRegressor, GradientBoostingRegressor\n",
        "from sklearn.preprocessing import StandardScaler, OneHotEncoder, LabelEncoder, MinMaxScaler, RobustScaler\n",
        "from xgboost import XGBRegressor\n",
        "from sklearn.model_selection import GridSearchCV\n",
        "from sklearn import tree\n",
        "import pickle\n",
        "import missingno as msno\n",
        "import statsmodels.api as sm\n",
        "from sklearn.metrics import mean_absolute_error, mean_squared_error, r2_score, accuracy_score\n",
        "import warnings\n",
        "warnings.filterwarnings(\"ignore\")\n",
        "\n",
        "from scipy.stats import zscore"
      ]
    },
    {
      "cell_type": "markdown",
      "metadata": {
        "id": "HTh1ea00hf81"
      },
      "source": [
        "## **3. Exploratory Data Analysis**"
      ]
    },
    {
      "cell_type": "markdown",
      "source": [
        "### **3.1 Load Dataset**"
      ],
      "metadata": {
        "id": "2Z-cigs2rRYb"
      }
    },
    {
      "cell_type": "code",
      "execution_count": null,
      "metadata": {
        "id": "pGn0vAgdo_IE"
      },
      "outputs": [],
      "source": [
        "df = pd.read_csv('https://raw.githubusercontent.com/dianrw/Project3_House_Price_Prediction/main/Dataset_House_Price.csv')"
      ]
    },
    {
      "cell_type": "markdown",
      "source": [
        "#### **3.1.2 Display Data Content**"
      ],
      "metadata": {
        "id": "LpzotzUgsBmz"
      }
    },
    {
      "cell_type": "code",
      "source": [
        "styled_df = df.head(10).style\n",
        "\n",
        "# Set background color, text color, and border for the entire DataFrame\n",
        "styled_df.set_properties(**{\"background-color\": \"#ffffff\", \"color\": \"#000000\", \"border\": \"1.5px solid black\"})\n",
        "\n",
        "# Modify the color and background color of the table headers (th)\n",
        "styled_df.set_table_styles([\n",
        "    {\"selector\": \"th\", \"props\": [(\"color\", 'white'), (\"background-color\", \"#CD5C5C\")]}\n",
        "])"
      ],
      "metadata": {
        "colab": {
          "base_uri": "https://localhost:8080/",
          "height": 372
        },
        "id": "a7v671Ydr8nK",
        "outputId": "3ab5453b-4049-4b43-f70e-33b5a1409819"
      },
      "execution_count": null,
      "outputs": [
        {
          "output_type": "execute_result",
          "data": {
            "text/plain": [
              "<pandas.io.formats.style.Styler at 0x7ec889793e80>"
            ],
            "text/html": [
              "<style type=\"text/css\">\n",
              "#T_f776d th {\n",
              "  color: white;\n",
              "  background-color: #CD5C5C;\n",
              "}\n",
              "#T_f776d_row0_col0, #T_f776d_row0_col1, #T_f776d_row0_col2, #T_f776d_row0_col3, #T_f776d_row0_col4, #T_f776d_row0_col5, #T_f776d_row1_col0, #T_f776d_row1_col1, #T_f776d_row1_col2, #T_f776d_row1_col3, #T_f776d_row1_col4, #T_f776d_row1_col5, #T_f776d_row2_col0, #T_f776d_row2_col1, #T_f776d_row2_col2, #T_f776d_row2_col3, #T_f776d_row2_col4, #T_f776d_row2_col5, #T_f776d_row3_col0, #T_f776d_row3_col1, #T_f776d_row3_col2, #T_f776d_row3_col3, #T_f776d_row3_col4, #T_f776d_row3_col5, #T_f776d_row4_col0, #T_f776d_row4_col1, #T_f776d_row4_col2, #T_f776d_row4_col3, #T_f776d_row4_col4, #T_f776d_row4_col5, #T_f776d_row5_col0, #T_f776d_row5_col1, #T_f776d_row5_col2, #T_f776d_row5_col3, #T_f776d_row5_col4, #T_f776d_row5_col5, #T_f776d_row6_col0, #T_f776d_row6_col1, #T_f776d_row6_col2, #T_f776d_row6_col3, #T_f776d_row6_col4, #T_f776d_row6_col5, #T_f776d_row7_col0, #T_f776d_row7_col1, #T_f776d_row7_col2, #T_f776d_row7_col3, #T_f776d_row7_col4, #T_f776d_row7_col5, #T_f776d_row8_col0, #T_f776d_row8_col1, #T_f776d_row8_col2, #T_f776d_row8_col3, #T_f776d_row8_col4, #T_f776d_row8_col5, #T_f776d_row9_col0, #T_f776d_row9_col1, #T_f776d_row9_col2, #T_f776d_row9_col3, #T_f776d_row9_col4, #T_f776d_row9_col5 {\n",
              "  background-color: #ffffff;\n",
              "  color: #000000;\n",
              "  border: 1.5px solid black;\n",
              "}\n",
              "</style>\n",
              "<table id=\"T_f776d\" class=\"dataframe\">\n",
              "  <thead>\n",
              "    <tr>\n",
              "      <th class=\"blank level0\" >&nbsp;</th>\n",
              "      <th id=\"T_f776d_level0_col0\" class=\"col_heading level0 col0\" >made</th>\n",
              "      <th id=\"T_f776d_level0_col1\" class=\"col_heading level0 col1\" >squareMeters</th>\n",
              "      <th id=\"T_f776d_level0_col2\" class=\"col_heading level0 col2\" >numberOfRooms</th>\n",
              "      <th id=\"T_f776d_level0_col3\" class=\"col_heading level0 col3\" >hasStorageRoom</th>\n",
              "      <th id=\"T_f776d_level0_col4\" class=\"col_heading level0 col4\" >hasGuestRoom</th>\n",
              "      <th id=\"T_f776d_level0_col5\" class=\"col_heading level0 col5\" >price</th>\n",
              "    </tr>\n",
              "  </thead>\n",
              "  <tbody>\n",
              "    <tr>\n",
              "      <th id=\"T_f776d_level0_row0\" class=\"row_heading level0 row0\" >0</th>\n",
              "      <td id=\"T_f776d_row0_col0\" class=\"data row0 col0\" >2005</td>\n",
              "      <td id=\"T_f776d_row0_col1\" class=\"data row0 col1\" >75523</td>\n",
              "      <td id=\"T_f776d_row0_col2\" class=\"data row0 col2\" >3</td>\n",
              "      <td id=\"T_f776d_row0_col3\" class=\"data row0 col3\" >0</td>\n",
              "      <td id=\"T_f776d_row0_col4\" class=\"data row0 col4\" >7</td>\n",
              "      <td id=\"T_f776d_row0_col5\" class=\"data row0 col5\" >7559081.500000</td>\n",
              "    </tr>\n",
              "    <tr>\n",
              "      <th id=\"T_f776d_level0_row1\" class=\"row_heading level0 row1\" >1</th>\n",
              "      <td id=\"T_f776d_row1_col0\" class=\"data row1 col0\" >2015</td>\n",
              "      <td id=\"T_f776d_row1_col1\" class=\"data row1 col1\" >80771</td>\n",
              "      <td id=\"T_f776d_row1_col2\" class=\"data row1 col2\" >39</td>\n",
              "      <td id=\"T_f776d_row1_col3\" class=\"data row1 col3\" >1</td>\n",
              "      <td id=\"T_f776d_row1_col4\" class=\"data row1 col4\" >2</td>\n",
              "      <td id=\"T_f776d_row1_col5\" class=\"data row1 col5\" >8085989.500000</td>\n",
              "    </tr>\n",
              "    <tr>\n",
              "      <th id=\"T_f776d_level0_row2\" class=\"row_heading level0 row2\" >2</th>\n",
              "      <td id=\"T_f776d_row2_col0\" class=\"data row2 col0\" >2021</td>\n",
              "      <td id=\"T_f776d_row2_col1\" class=\"data row2 col1\" >55712</td>\n",
              "      <td id=\"T_f776d_row2_col2\" class=\"data row2 col2\" >58</td>\n",
              "      <td id=\"T_f776d_row2_col3\" class=\"data row2 col3\" >1</td>\n",
              "      <td id=\"T_f776d_row2_col4\" class=\"data row2 col4\" >9</td>\n",
              "      <td id=\"T_f776d_row2_col5\" class=\"data row2 col5\" >5574642.100000</td>\n",
              "    </tr>\n",
              "    <tr>\n",
              "      <th id=\"T_f776d_level0_row3\" class=\"row_heading level0 row3\" >3</th>\n",
              "      <td id=\"T_f776d_row3_col0\" class=\"data row3 col0\" >2012</td>\n",
              "      <td id=\"T_f776d_row3_col1\" class=\"data row3 col1\" >32316</td>\n",
              "      <td id=\"T_f776d_row3_col2\" class=\"data row3 col2\" >47</td>\n",
              "      <td id=\"T_f776d_row3_col3\" class=\"data row3 col3\" >0</td>\n",
              "      <td id=\"T_f776d_row3_col4\" class=\"data row3 col4\" >3</td>\n",
              "      <td id=\"T_f776d_row3_col5\" class=\"data row3 col5\" >3232561.200000</td>\n",
              "    </tr>\n",
              "    <tr>\n",
              "      <th id=\"T_f776d_level0_row4\" class=\"row_heading level0 row4\" >4</th>\n",
              "      <td id=\"T_f776d_row4_col0\" class=\"data row4 col0\" >1990</td>\n",
              "      <td id=\"T_f776d_row4_col1\" class=\"data row4 col1\" >70429</td>\n",
              "      <td id=\"T_f776d_row4_col2\" class=\"data row4 col2\" >19</td>\n",
              "      <td id=\"T_f776d_row4_col3\" class=\"data row4 col3\" >1</td>\n",
              "      <td id=\"T_f776d_row4_col4\" class=\"data row4 col4\" >4</td>\n",
              "      <td id=\"T_f776d_row4_col5\" class=\"data row4 col5\" >7055052.000000</td>\n",
              "    </tr>\n",
              "    <tr>\n",
              "      <th id=\"T_f776d_level0_row5\" class=\"row_heading level0 row5\" >5</th>\n",
              "      <td id=\"T_f776d_row5_col0\" class=\"data row5 col0\" >2012</td>\n",
              "      <td id=\"T_f776d_row5_col1\" class=\"data row5 col1\" >39223</td>\n",
              "      <td id=\"T_f776d_row5_col2\" class=\"data row5 col2\" >36</td>\n",
              "      <td id=\"T_f776d_row5_col3\" class=\"data row5 col3\" >0</td>\n",
              "      <td id=\"T_f776d_row5_col4\" class=\"data row5 col4\" >1</td>\n",
              "      <td id=\"T_f776d_row5_col5\" class=\"data row5 col5\" >3926647.200000</td>\n",
              "    </tr>\n",
              "    <tr>\n",
              "      <th id=\"T_f776d_level0_row6\" class=\"row_heading level0 row6\" >6</th>\n",
              "      <td id=\"T_f776d_row6_col0\" class=\"data row6 col0\" >1995</td>\n",
              "      <td id=\"T_f776d_row6_col1\" class=\"data row6 col1\" >58682</td>\n",
              "      <td id=\"T_f776d_row6_col2\" class=\"data row6 col2\" >10</td>\n",
              "      <td id=\"T_f776d_row6_col3\" class=\"data row6 col3\" >0</td>\n",
              "      <td id=\"T_f776d_row6_col4\" class=\"data row6 col4\" >5</td>\n",
              "      <td id=\"T_f776d_row6_col5\" class=\"data row6 col5\" >5876376.500000</td>\n",
              "    </tr>\n",
              "    <tr>\n",
              "      <th id=\"T_f776d_level0_row7\" class=\"row_heading level0 row7\" >7</th>\n",
              "      <td id=\"T_f776d_row7_col0\" class=\"data row7 col0\" >2003</td>\n",
              "      <td id=\"T_f776d_row7_col1\" class=\"data row7 col1\" >86929</td>\n",
              "      <td id=\"T_f776d_row7_col2\" class=\"data row7 col2\" >100</td>\n",
              "      <td id=\"T_f776d_row7_col3\" class=\"data row7 col3\" >0</td>\n",
              "      <td id=\"T_f776d_row7_col4\" class=\"data row7 col4\" >10</td>\n",
              "      <td id=\"T_f776d_row7_col5\" class=\"data row7 col5\" >8696869.300000</td>\n",
              "    </tr>\n",
              "    <tr>\n",
              "      <th id=\"T_f776d_level0_row8\" class=\"row_heading level0 row8\" >8</th>\n",
              "      <td id=\"T_f776d_row8_col0\" class=\"data row8 col0\" >2012</td>\n",
              "      <td id=\"T_f776d_row8_col1\" class=\"data row8 col1\" >51522</td>\n",
              "      <td id=\"T_f776d_row8_col2\" class=\"data row8 col2\" >3</td>\n",
              "      <td id=\"T_f776d_row8_col3\" class=\"data row8 col3\" >1</td>\n",
              "      <td id=\"T_f776d_row8_col4\" class=\"data row8 col4\" >5</td>\n",
              "      <td id=\"T_f776d_row8_col5\" class=\"data row8 col5\" >5154055.200000</td>\n",
              "    </tr>\n",
              "    <tr>\n",
              "      <th id=\"T_f776d_level0_row9\" class=\"row_heading level0 row9\" >9</th>\n",
              "      <td id=\"T_f776d_row9_col0\" class=\"data row9 col0\" >2021</td>\n",
              "      <td id=\"T_f776d_row9_col1\" class=\"data row9 col1\" >39686</td>\n",
              "      <td id=\"T_f776d_row9_col2\" class=\"data row9 col2\" >42</td>\n",
              "      <td id=\"T_f776d_row9_col3\" class=\"data row9 col3\" >1</td>\n",
              "      <td id=\"T_f776d_row9_col4\" class=\"data row9 col4\" >3</td>\n",
              "      <td id=\"T_f776d_row9_col5\" class=\"data row9 col5\" >3970892.100000</td>\n",
              "    </tr>\n",
              "  </tbody>\n",
              "</table>\n"
            ]
          },
          "metadata": {},
          "execution_count": 4
        }
      ]
    },
    {
      "cell_type": "markdown",
      "source": [
        "### **3.2 Basic Information**"
      ],
      "metadata": {
        "id": "yZ3HT5IpuEkr"
      }
    },
    {
      "cell_type": "markdown",
      "source": [
        "#### **3.2.1 Number of rows, number of columns**"
      ],
      "metadata": {
        "id": "nf0wP6mGuJ2Z"
      }
    },
    {
      "cell_type": "code",
      "execution_count": null,
      "metadata": {
        "colab": {
          "base_uri": "https://localhost:8080/"
        },
        "id": "XjDKm3HSGvtf",
        "outputId": "c4ddc0ba-f639-4ae9-90e1-867d342b7022"
      },
      "outputs": [
        {
          "output_type": "stream",
          "name": "stdout",
          "text": [
            "Number of Rows : 10000 \n",
            "Number of Columns : 6\n"
          ]
        }
      ],
      "source": [
        "rows , col =  df.shape\n",
        "print(f\"Number of Rows : {rows} \\nNumber of Columns : {col}\")"
      ]
    },
    {
      "cell_type": "markdown",
      "source": [
        "*The Dataset consist of 1000 rows and 6 columns.*"
      ],
      "metadata": {
        "id": "dC1WVtvVuaJf"
      }
    },
    {
      "cell_type": "markdown",
      "source": [
        "#### **3.2.2 Data Information**"
      ],
      "metadata": {
        "id": "igGOEwKguh1G"
      }
    },
    {
      "cell_type": "code",
      "execution_count": null,
      "metadata": {
        "colab": {
          "base_uri": "https://localhost:8080/"
        },
        "id": "0vMV1hJjkUSd",
        "outputId": "f96aa4fe-cc2f-45b3-f4c2-f7e89d14f73f"
      },
      "outputs": [
        {
          "output_type": "stream",
          "name": "stdout",
          "text": [
            "<class 'pandas.core.frame.DataFrame'>\n",
            "RangeIndex: 10000 entries, 0 to 9999\n",
            "Data columns (total 6 columns):\n",
            " #   Column          Non-Null Count  Dtype  \n",
            "---  ------          --------------  -----  \n",
            " 0   made            10000 non-null  int64  \n",
            " 1   squareMeters    10000 non-null  int64  \n",
            " 2   numberOfRooms   10000 non-null  int64  \n",
            " 3   hasStorageRoom  10000 non-null  int64  \n",
            " 4   hasGuestRoom    10000 non-null  int64  \n",
            " 5   price           10000 non-null  float64\n",
            "dtypes: float64(1), int64(5)\n",
            "memory usage: 468.9 KB\n"
          ]
        }
      ],
      "source": [
        "df.info()"
      ]
    },
    {
      "cell_type": "markdown",
      "source": [
        "*The provided information is deemed appropriate. The data type is accurate, and no null values have been observed.*"
      ],
      "metadata": {
        "id": "1OzqAmThusZe"
      }
    },
    {
      "cell_type": "code",
      "execution_count": null,
      "metadata": {
        "colab": {
          "base_uri": "https://localhost:8080/"
        },
        "id": "WAit69cJcqJt",
        "outputId": "d6e89f30-d2f5-4d90-8f35-ff8fdcd6b8bf"
      },
      "outputs": [
        {
          "output_type": "execute_result",
          "data": {
            "text/plain": [
              "made                int64\n",
              "squareMeters        int64\n",
              "numberOfRooms       int64\n",
              "hasStorageRoom      int64\n",
              "hasGuestRoom        int64\n",
              "price             float64\n",
              "dtype: object"
            ]
          },
          "metadata": {},
          "execution_count": 7
        }
      ],
      "source": [
        "df.dtypes"
      ]
    },
    {
      "cell_type": "markdown",
      "source": [
        "#### **3.2.3 Count null/nan values**"
      ],
      "metadata": {
        "id": "ILqtMUsRu0hg"
      }
    },
    {
      "cell_type": "code",
      "execution_count": null,
      "metadata": {
        "colab": {
          "base_uri": "https://localhost:8080/"
        },
        "id": "XDiaEtvrcQ9T",
        "outputId": "cc7380c2-ec3b-4e70-917b-649cc58332c8"
      },
      "outputs": [
        {
          "output_type": "execute_result",
          "data": {
            "text/plain": [
              "made              0\n",
              "squareMeters      0\n",
              "numberOfRooms     0\n",
              "hasStorageRoom    0\n",
              "hasGuestRoom      0\n",
              "price             0\n",
              "dtype: int64"
            ]
          },
          "metadata": {},
          "execution_count": 8
        }
      ],
      "source": [
        "df.isnull().sum()"
      ]
    },
    {
      "cell_type": "code",
      "execution_count": null,
      "metadata": {
        "colab": {
          "base_uri": "https://localhost:8080/"
        },
        "id": "yY_vv7pCdCoX",
        "outputId": "64d450c2-0768-4ab6-b446-03059ddfe04e"
      },
      "outputs": [
        {
          "output_type": "execute_result",
          "data": {
            "text/plain": [
              "False    10000\n",
              "dtype: int64"
            ]
          },
          "metadata": {},
          "execution_count": 9
        }
      ],
      "source": [
        "df.duplicated().value_counts()"
      ]
    },
    {
      "cell_type": "code",
      "source": [
        "msno.bar(df)\n",
        "msno.bar(df, color='#CD5C5C')\n",
        "plt.show()"
      ],
      "metadata": {
        "colab": {
          "base_uri": "https://localhost:8080/",
          "height": 534
        },
        "id": "UdNaGjOGvHk4",
        "outputId": "39b76d4d-9137-42f5-b30c-4f6b262eff41"
      },
      "execution_count": null,
      "outputs": [
        {
          "output_type": "display_data",
          "data": {
            "text/plain": [
              "<Figure size 2500x1000 with 5 Axes>"
            ],
            "image/png": "[encoded data removed]"
          },
          "metadata": {}
        }
      ]
    },
    {
      "cell_type": "markdown",
      "source": [
        "#### **3.2.4 Description**"
      ],
      "metadata": {
        "id": "5myPpEGwxWkT"
      }
    },
    {
      "cell_type": "code",
      "execution_count": null,
      "metadata": {
        "colab": {
          "base_uri": "https://localhost:8080/",
          "height": 318
        },
        "id": "pTW--j-wcOGV",
        "outputId": "dcdc3fd4-b785-490b-bb41-0ed9e8391fdc"
      },
      "outputs": [
        {
          "output_type": "execute_result",
          "data": {
            "text/plain": [
              "<pandas.io.formats.style.Styler at 0x78d1e6a76cb0>"
            ],
            "text/html": [
              "<style type=\"text/css\">\n",
              "#T_3bac3 th {\n",
              "  background-color: #CD5C5C;\n",
              "  color: white;\n",
              "  font-weight: bold;\n",
              "  text-align: left;\n",
              "  padding: 8px;\n",
              "}\n",
              "#T_3bac3 td {\n",
              "  padding: 8px;\n",
              "}\n",
              "#T_3bac3_row0_col0, #T_3bac3_row0_col1, #T_3bac3_row0_col2, #T_3bac3_row0_col3, #T_3bac3_row0_col4, #T_3bac3_row0_col5, #T_3bac3_row1_col0, #T_3bac3_row1_col1, #T_3bac3_row1_col2, #T_3bac3_row1_col3, #T_3bac3_row1_col4, #T_3bac3_row1_col5, #T_3bac3_row2_col0, #T_3bac3_row2_col1, #T_3bac3_row2_col2, #T_3bac3_row2_col3, #T_3bac3_row2_col4, #T_3bac3_row2_col5, #T_3bac3_row3_col0, #T_3bac3_row3_col1, #T_3bac3_row3_col2, #T_3bac3_row3_col3, #T_3bac3_row3_col4, #T_3bac3_row3_col5, #T_3bac3_row4_col0, #T_3bac3_row4_col1, #T_3bac3_row4_col2, #T_3bac3_row4_col3, #T_3bac3_row4_col4, #T_3bac3_row4_col5, #T_3bac3_row5_col0, #T_3bac3_row5_col1, #T_3bac3_row5_col2, #T_3bac3_row5_col3, #T_3bac3_row5_col4, #T_3bac3_row5_col5, #T_3bac3_row6_col0, #T_3bac3_row6_col1, #T_3bac3_row6_col2, #T_3bac3_row6_col3, #T_3bac3_row6_col4, #T_3bac3_row6_col5, #T_3bac3_row7_col0, #T_3bac3_row7_col1, #T_3bac3_row7_col2, #T_3bac3_row7_col3, #T_3bac3_row7_col4, #T_3bac3_row7_col5 {\n",
              "  font-size: 14px;\n",
              "  background-color: #ffffff;\n",
              "  color: black;\n",
              "  border-collapse: collapse;\n",
              "  margin: 10px;\n",
              "}\n",
              "</style>\n",
              "<table id=\"T_3bac3\" class=\"dataframe\">\n",
              "  <thead>\n",
              "    <tr>\n",
              "      <th class=\"blank level0\" >&nbsp;</th>\n",
              "      <th id=\"T_3bac3_level0_col0\" class=\"col_heading level0 col0\" >made</th>\n",
              "      <th id=\"T_3bac3_level0_col1\" class=\"col_heading level0 col1\" >squareMeters</th>\n",
              "      <th id=\"T_3bac3_level0_col2\" class=\"col_heading level0 col2\" >numberOfRooms</th>\n",
              "      <th id=\"T_3bac3_level0_col3\" class=\"col_heading level0 col3\" >hasStorageRoom</th>\n",
              "      <th id=\"T_3bac3_level0_col4\" class=\"col_heading level0 col4\" >hasGuestRoom</th>\n",
              "      <th id=\"T_3bac3_level0_col5\" class=\"col_heading level0 col5\" >price</th>\n",
              "    </tr>\n",
              "  </thead>\n",
              "  <tbody>\n",
              "    <tr>\n",
              "      <th id=\"T_3bac3_level0_row0\" class=\"row_heading level0 row0\" >count</th>\n",
              "      <td id=\"T_3bac3_row0_col0\" class=\"data row0 col0\" >10000.000000</td>\n",
              "      <td id=\"T_3bac3_row0_col1\" class=\"data row0 col1\" >10000.000000</td>\n",
              "      <td id=\"T_3bac3_row0_col2\" class=\"data row0 col2\" >10000.000000</td>\n",
              "      <td id=\"T_3bac3_row0_col3\" class=\"data row0 col3\" >10000.000000</td>\n",
              "      <td id=\"T_3bac3_row0_col4\" class=\"data row0 col4\" >10000.000000</td>\n",
              "      <td id=\"T_3bac3_row0_col5\" class=\"data row0 col5\" >10000.000000</td>\n",
              "    </tr>\n",
              "    <tr>\n",
              "      <th id=\"T_3bac3_level0_row1\" class=\"row_heading level0 row1\" >mean</th>\n",
              "      <td id=\"T_3bac3_row1_col0\" class=\"data row1 col0\" >2005.488500</td>\n",
              "      <td id=\"T_3bac3_row1_col1\" class=\"data row1 col1\" >49870.131200</td>\n",
              "      <td id=\"T_3bac3_row1_col2\" class=\"data row1 col2\" >50.358400</td>\n",
              "      <td id=\"T_3bac3_row1_col3\" class=\"data row1 col3\" >0.503000</td>\n",
              "      <td id=\"T_3bac3_row1_col4\" class=\"data row1 col4\" >4.994600</td>\n",
              "      <td id=\"T_3bac3_row1_col5\" class=\"data row1 col5\" >4993447.525750</td>\n",
              "    </tr>\n",
              "    <tr>\n",
              "      <th id=\"T_3bac3_level0_row2\" class=\"row_heading level0 row2\" >std</th>\n",
              "      <td id=\"T_3bac3_row2_col0\" class=\"data row2 col0\" >9.308090</td>\n",
              "      <td id=\"T_3bac3_row2_col1\" class=\"data row2 col1\" >28774.375350</td>\n",
              "      <td id=\"T_3bac3_row2_col2\" class=\"data row2 col2\" >28.816696</td>\n",
              "      <td id=\"T_3bac3_row2_col3\" class=\"data row2 col3\" >0.500016</td>\n",
              "      <td id=\"T_3bac3_row2_col4\" class=\"data row2 col4\" >3.176410</td>\n",
              "      <td id=\"T_3bac3_row2_col5\" class=\"data row2 col5\" >2877424.109945</td>\n",
              "    </tr>\n",
              "    <tr>\n",
              "      <th id=\"T_3bac3_level0_row3\" class=\"row_heading level0 row3\" >min</th>\n",
              "      <td id=\"T_3bac3_row3_col0\" class=\"data row3 col0\" >1990.000000</td>\n",
              "      <td id=\"T_3bac3_row3_col1\" class=\"data row3 col1\" >89.000000</td>\n",
              "      <td id=\"T_3bac3_row3_col2\" class=\"data row3 col2\" >1.000000</td>\n",
              "      <td id=\"T_3bac3_row3_col3\" class=\"data row3 col3\" >0.000000</td>\n",
              "      <td id=\"T_3bac3_row3_col4\" class=\"data row3 col4\" >0.000000</td>\n",
              "      <td id=\"T_3bac3_row3_col5\" class=\"data row3 col5\" >10313.500000</td>\n",
              "    </tr>\n",
              "    <tr>\n",
              "      <th id=\"T_3bac3_level0_row4\" class=\"row_heading level0 row4\" >25%</th>\n",
              "      <td id=\"T_3bac3_row4_col0\" class=\"data row4 col0\" >1997.000000</td>\n",
              "      <td id=\"T_3bac3_row4_col1\" class=\"data row4 col1\" >25098.500000</td>\n",
              "      <td id=\"T_3bac3_row4_col2\" class=\"data row4 col2\" >25.000000</td>\n",
              "      <td id=\"T_3bac3_row4_col3\" class=\"data row4 col3\" >0.000000</td>\n",
              "      <td id=\"T_3bac3_row4_col4\" class=\"data row4 col4\" >2.000000</td>\n",
              "      <td id=\"T_3bac3_row4_col5\" class=\"data row4 col5\" >2516401.950000</td>\n",
              "    </tr>\n",
              "    <tr>\n",
              "      <th id=\"T_3bac3_level0_row5\" class=\"row_heading level0 row5\" >50%</th>\n",
              "      <td id=\"T_3bac3_row5_col0\" class=\"data row5 col0\" >2005.500000</td>\n",
              "      <td id=\"T_3bac3_row5_col1\" class=\"data row5 col1\" >50105.500000</td>\n",
              "      <td id=\"T_3bac3_row5_col2\" class=\"data row5 col2\" >50.000000</td>\n",
              "      <td id=\"T_3bac3_row5_col3\" class=\"data row5 col3\" >1.000000</td>\n",
              "      <td id=\"T_3bac3_row5_col4\" class=\"data row5 col4\" >5.000000</td>\n",
              "      <td id=\"T_3bac3_row5_col5\" class=\"data row5 col5\" >5016180.300000</td>\n",
              "    </tr>\n",
              "    <tr>\n",
              "      <th id=\"T_3bac3_level0_row6\" class=\"row_heading level0 row6\" >75%</th>\n",
              "      <td id=\"T_3bac3_row6_col0\" class=\"data row6 col0\" >2014.000000</td>\n",
              "      <td id=\"T_3bac3_row6_col1\" class=\"data row6 col1\" >74609.750000</td>\n",
              "      <td id=\"T_3bac3_row6_col2\" class=\"data row6 col2\" >75.000000</td>\n",
              "      <td id=\"T_3bac3_row6_col3\" class=\"data row6 col3\" >1.000000</td>\n",
              "      <td id=\"T_3bac3_row6_col4\" class=\"data row6 col4\" >8.000000</td>\n",
              "      <td id=\"T_3bac3_row6_col5\" class=\"data row6 col5\" >7469092.450000</td>\n",
              "    </tr>\n",
              "    <tr>\n",
              "      <th id=\"T_3bac3_level0_row7\" class=\"row_heading level0 row7\" >max</th>\n",
              "      <td id=\"T_3bac3_row7_col0\" class=\"data row7 col0\" >2021.000000</td>\n",
              "      <td id=\"T_3bac3_row7_col1\" class=\"data row7 col1\" >99999.000000</td>\n",
              "      <td id=\"T_3bac3_row7_col2\" class=\"data row7 col2\" >100.000000</td>\n",
              "      <td id=\"T_3bac3_row7_col3\" class=\"data row7 col3\" >1.000000</td>\n",
              "      <td id=\"T_3bac3_row7_col4\" class=\"data row7 col4\" >10.000000</td>\n",
              "      <td id=\"T_3bac3_row7_col5\" class=\"data row7 col5\" >10006771.200000</td>\n",
              "    </tr>\n",
              "  </tbody>\n",
              "</table>\n"
            ]
          },
          "metadata": {},
          "execution_count": 12
        }
      ],
      "source": [
        "styled_df = df.describe().style \\\n",
        "    .set_table_styles([\n",
        "        {'selector': 'th', 'props': [('background-color', '#CD5C5C'), ('color', 'white'), ('font-weight', 'bold'), ('text-align', 'left'), ('padding', '8px')]},\n",
        "        {'selector': 'td', 'props': [('padding', '8px')]}\n",
        "    ]) \\\n",
        "    .set_properties(**{'font-size': '14px', 'background-color': '#ffffff', 'color':'black', 'border-collapse': 'collapse', 'margin': '10px'})\n",
        "\n",
        "# Display the styled DataFrame\n",
        "\n",
        "styled_df"
      ]
    },
    {
      "cell_type": "code",
      "execution_count": null,
      "metadata": {
        "id": "dgZrQkcIpBnm"
      },
      "outputs": [],
      "source": [
        "\n",
        "# # Adjust the column names accordingly\n",
        "# X = data.drop('price', axis=1)\n",
        "# # X = sm.add_constant(X)  # Add a constant term (intercept) (parameter Alpha)\n",
        "# y = data['price']"
      ]
    },
    {
      "cell_type": "code",
      "execution_count": null,
      "metadata": {
        "colab": {
          "base_uri": "https://localhost:8080/",
          "height": 165
        },
        "id": "4d5IujTZGPKK",
        "outputId": "486fc9a0-a8da-49f1-98c7-cd575b6ab02e"
      },
      "outputs": [
        {
          "output_type": "error",
          "ename": "NameError",
          "evalue": "name 'data' is not defined",
          "traceback": [
            "\u001b[0;31m---------------------------------------------------------------------------\u001b[0m",
            "\u001b[0;31mNameError\u001b[0m                                 Traceback (most recent call last)",
            "\u001b[0;32m<ipython-input-14-5e67a39f2775>\u001b[0m in \u001b[0;36m<cell line: 2>\u001b[0;34m()\u001b[0m\n\u001b[1;32m      1\u001b[0m \u001b[0;31m# Load cleaned dataset\u001b[0m\u001b[0;34m\u001b[0m\u001b[0;34m\u001b[0m\u001b[0m\n\u001b[0;32m----> 2\u001b[0;31m \u001b[0mdata\u001b[0m\u001b[0;34m\u001b[0m\u001b[0;34m\u001b[0m\u001b[0m\n\u001b[0m",
            "\u001b[0;31mNameError\u001b[0m: name 'data' is not defined"
          ]
        }
      ],
      "source": [
        "# # Load cleaned dataset\n",
        "# data"
      ]
    },
    {
      "cell_type": "markdown",
      "metadata": {
        "id": "xlhMoJ20j8cm"
      },
      "source": [
        "### **3.3 Data Vizualization**"
      ]
    },
    {
      "cell_type": "code",
      "execution_count": null,
      "metadata": {
        "colab": {
          "base_uri": "https://localhost:8080/",
          "height": 470
        },
        "id": "BX2GjVEL-SxV",
        "outputId": "0e802b13-7c33-4d58-9ad5-4a6955c4d81e"
      },
      "outputs": [
        {
          "output_type": "display_data",
          "data": {
            "text/plain": [
              "<Figure size 640x480 with 1 Axes>"
            ],
            "image/png": "[encoded data removed]"
          },
          "metadata": {}
        }
      ],
      "source": [
        "df_distribution = np.random.normal(loc=df['price'].mean(), scale=df['price'].std(), size=len(df))\n",
        "\n",
        "# Plot histogram distribusi normal\n",
        "sns.histplot(df_distribution, kde=True)\n",
        "plt.title('Normal Distribution')\n",
        "plt.show()"
      ]
    },
    {
      "cell_type": "code",
      "execution_count": null,
      "metadata": {
        "colab": {
          "base_uri": "https://localhost:8080/",
          "height": 238
        },
        "id": "OJC-9geGdjil",
        "outputId": "f95594d3-30e4-4d4f-ea0d-5fbbe2fe964e"
      },
      "outputs": [
        {
          "output_type": "execute_result",
          "data": {
            "text/plain": [
              "                    made  squareMeters  numberOfRooms  hasStorageRoom  \\\n",
              "made            1.000000     -0.007207       0.003978       -0.007868   \n",
              "squareMeters   -0.007207      1.000000       0.009573       -0.003486   \n",
              "numberOfRooms   0.003978      0.009573       1.000000       -0.004760   \n",
              "hasStorageRoom -0.007868     -0.003486      -0.004760        1.000000   \n",
              "hasGuestRoom   -0.005431     -0.000623      -0.015529        0.015186   \n",
              "price          -0.007210      0.999999       0.009591       -0.003485   \n",
              "\n",
              "                hasGuestRoom     price  \n",
              "made               -0.005431 -0.007210  \n",
              "squareMeters       -0.000623  0.999999  \n",
              "numberOfRooms      -0.015529  0.009591  \n",
              "hasStorageRoom      0.015186 -0.003485  \n",
              "hasGuestRoom        1.000000 -0.000644  \n",
              "price              -0.000644  1.000000  "
            ],
            "text/html": [
              "\n",
              "  <div id=\"df-f0716339-9ef2-42fc-a6c5-b20eef04bb66\" class=\"colab-df-container\">\n",
              "    <div>\n",
              "<style scoped>\n",
              "    .dataframe tbody tr th:only-of-type {\n",
              "        vertical-align: middle;\n",
              "    }\n",
              "\n",
              "    .dataframe tbody tr th {\n",
              "        vertical-align: top;\n",
              "    }\n",
              "\n",
              "    .dataframe thead th {\n",
              "        text-align: right;\n",
              "    }\n",
              "</style>\n",
              "<table border=\"1\" class=\"dataframe\">\n",
              "  <thead>\n",
              "    <tr style=\"text-align: right;\">\n",
              "      <th></th>\n",
              "      <th>made</th>\n",
              "      <th>squareMeters</th>\n",
              "      <th>numberOfRooms</th>\n",
              "      <th>hasStorageRoom</th>\n",
              "      <th>hasGuestRoom</th>\n",
              "      <th>price</th>\n",
              "    </tr>\n",
              "  </thead>\n",
              "  <tbody>\n",
              "    <tr>\n",
              "      <th>made</th>\n",
              "      <td>1.000000</td>\n",
              "      <td>-0.007207</td>\n",
              "      <td>0.003978</td>\n",
              "      <td>-0.007868</td>\n",
              "      <td>-0.005431</td>\n",
              "      <td>-0.007210</td>\n",
              "    </tr>\n",
              "    <tr>\n",
              "      <th>squareMeters</th>\n",
              "      <td>-0.007207</td>\n",
              "      <td>1.000000</td>\n",
              "      <td>0.009573</td>\n",
              "      <td>-0.003486</td>\n",
              "      <td>-0.000623</td>\n",
              "      <td>0.999999</td>\n",
              "    </tr>\n",
              "    <tr>\n",
              "      <th>numberOfRooms</th>\n",
              "      <td>0.003978</td>\n",
              "      <td>0.009573</td>\n",
              "      <td>1.000000</td>\n",
              "      <td>-0.004760</td>\n",
              "      <td>-0.015529</td>\n",
              "      <td>0.009591</td>\n",
              "    </tr>\n",
              "    <tr>\n",
              "      <th>hasStorageRoom</th>\n",
              "      <td>-0.007868</td>\n",
              "      <td>-0.003486</td>\n",
              "      <td>-0.004760</td>\n",
              "      <td>1.000000</td>\n",
              "      <td>0.015186</td>\n",
              "      <td>-0.003485</td>\n",
              "    </tr>\n",
              "    <tr>\n",
              "      <th>hasGuestRoom</th>\n",
              "      <td>-0.005431</td>\n",
              "      <td>-0.000623</td>\n",
              "      <td>-0.015529</td>\n",
              "      <td>0.015186</td>\n",
              "      <td>1.000000</td>\n",
              "      <td>-0.000644</td>\n",
              "    </tr>\n",
              "    <tr>\n",
              "      <th>price</th>\n",
              "      <td>-0.007210</td>\n",
              "      <td>0.999999</td>\n",
              "      <td>0.009591</td>\n",
              "      <td>-0.003485</td>\n",
              "      <td>-0.000644</td>\n",
              "      <td>1.000000</td>\n",
              "    </tr>\n",
              "  </tbody>\n",
              "</table>\n",
              "</div>\n",
              "    <div class=\"colab-df-buttons\">\n",
              "\n",
              "  <div class=\"colab-df-container\">\n",
              "    <button class=\"colab-df-convert\" onclick=\"convertToInteractive('df-f0716339-9ef2-42fc-a6c5-b20eef04bb66')\"\n",
              "            title=\"Convert this dataframe to an interactive table.\"\n",
              "            style=\"display:none;\">\n",
              "\n",
              "  <svg xmlns=\"http://www.w3.org/2000/svg\" height=\"24px\" viewBox=\"0 -960 960 960\">\n",
              "    <path d=\"M120-120v-720h720v720H120Zm60-500h600v-160H180v160Zm220 220h160v-160H400v160Zm0 220h160v-160H400v160ZM180-400h160v-160H180v160Zm440 0h160v-160H620v160ZM180-180h160v-160H180v160Zm440 0h160v-160H620v160Z\"/>\n",
              "  </svg>\n",
              "    </button>\n",
              "\n",
              "  <style>\n",
              "    .colab-df-container {\n",
              "      display:flex;\n",
              "      gap: 12px;\n",
              "    }\n",
              "\n",
              "    .colab-df-convert {\n",
              "      background-color: #E8F0FE;\n",
              "      border: none;\n",
              "      border-radius: 50%;\n",
              "      cursor: pointer;\n",
              "      display: none;\n",
              "      fill: #1967D2;\n",
              "      height: 32px;\n",
              "      padding: 0 0 0 0;\n",
              "      width: 32px;\n",
              "    }\n",
              "\n",
              "    .colab-df-convert:hover {\n",
              "      background-color: #E2EBFA;\n",
              "      box-shadow: 0px 1px 2px rgba(60, 64, 67, 0.3), 0px 1px 3px 1px rgba(60, 64, 67, 0.15);\n",
              "      fill: #174EA6;\n",
              "    }\n",
              "\n",
              "    .colab-df-buttons div {\n",
              "      margin-bottom: 4px;\n",
              "    }\n",
              "\n",
              "    [theme=dark] .colab-df-convert {\n",
              "      background-color: #3B4455;\n",
              "      fill: #D2E3FC;\n",
              "    }\n",
              "\n",
              "    [theme=dark] .colab-df-convert:hover {\n",
              "      background-color: #434B5C;\n",
              "      box-shadow: 0px 1px 3px 1px rgba(0, 0, 0, 0.15);\n",
              "      filter: drop-shadow(0px 1px 2px rgba(0, 0, 0, 0.3));\n",
              "      fill: #FFFFFF;\n",
              "    }\n",
              "  </style>\n",
              "\n",
              "    <script>\n",
              "      const buttonEl =\n",
              "        document.querySelector('#df-f0716339-9ef2-42fc-a6c5-b20eef04bb66 button.colab-df-convert');\n",
              "      buttonEl.style.display =\n",
              "        google.colab.kernel.accessAllowed ? 'block' : 'none';\n",
              "\n",
              "      async function convertToInteractive(key) {\n",
              "        const element = document.querySelector('#df-f0716339-9ef2-42fc-a6c5-b20eef04bb66');\n",
              "        const dataTable =\n",
              "          await google.colab.kernel.invokeFunction('convertToInteractive',\n",
              "                                                    [key], {});\n",
              "        if (!dataTable) return;\n",
              "\n",
              "        const docLinkHtml = 'Like what you see? Visit the ' +\n",
              "          '<a target=\"_blank\" href=https://colab.research.google.com/notebooks/data_table.ipynb>data table notebook</a>'\n",
              "          + ' to learn more about interactive tables.';\n",
              "        element.innerHTML = '';\n",
              "        dataTable['output_type'] = 'display_data';\n",
              "        await google.colab.output.renderOutput(dataTable, element);\n",
              "        const docLink = document.createElement('div');\n",
              "        docLink.innerHTML = docLinkHtml;\n",
              "        element.appendChild(docLink);\n",
              "      }\n",
              "    </script>\n",
              "  </div>\n",
              "\n",
              "\n",
              "<div id=\"df-236cde9f-19a7-4dbb-9ab0-351710dcbe5e\">\n",
              "  <button class=\"colab-df-quickchart\" onclick=\"quickchart('df-236cde9f-19a7-4dbb-9ab0-351710dcbe5e')\"\n",
              "            title=\"Suggest charts\"\n",
              "            style=\"display:none;\">\n",
              "\n",
              "<svg xmlns=\"http://www.w3.org/2000/svg\" height=\"24px\"viewBox=\"0 0 24 24\"\n",
              "     width=\"24px\">\n",
              "    <g>\n",
              "        <path d=\"M19 3H5c-1.1 0-2 .9-2 2v14c0 1.1.9 2 2 2h14c1.1 0 2-.9 2-2V5c0-1.1-.9-2-2-2zM9 17H7v-7h2v7zm4 0h-2V7h2v10zm4 0h-2v-4h2v4z\"/>\n",
              "    </g>\n",
              "</svg>\n",
              "  </button>\n",
              "\n",
              "<style>\n",
              "  .colab-df-quickchart {\n",
              "      --bg-color: #E8F0FE;\n",
              "      --fill-color: #1967D2;\n",
              "      --hover-bg-color: #E2EBFA;\n",
              "      --hover-fill-color: #174EA6;\n",
              "      --disabled-fill-color: #AAA;\n",
              "      --disabled-bg-color: #DDD;\n",
              "  }\n",
              "\n",
              "  [theme=dark] .colab-df-quickchart {\n",
              "      --bg-color: #3B4455;\n",
              "      --fill-color: #D2E3FC;\n",
              "      --hover-bg-color: #434B5C;\n",
              "      --hover-fill-color: #FFFFFF;\n",
              "      --disabled-bg-color: #3B4455;\n",
              "      --disabled-fill-color: #666;\n",
              "  }\n",
              "\n",
              "  .colab-df-quickchart {\n",
              "    background-color: var(--bg-color);\n",
              "    border: none;\n",
              "    border-radius: 50%;\n",
              "    cursor: pointer;\n",
              "    display: none;\n",
              "    fill: var(--fill-color);\n",
              "    height: 32px;\n",
              "    padding: 0;\n",
              "    width: 32px;\n",
              "  }\n",
              "\n",
              "  .colab-df-quickchart:hover {\n",
              "    background-color: var(--hover-bg-color);\n",
              "    box-shadow: 0 1px 2px rgba(60, 64, 67, 0.3), 0 1px 3px 1px rgba(60, 64, 67, 0.15);\n",
              "    fill: var(--button-hover-fill-color);\n",
              "  }\n",
              "\n",
              "  .colab-df-quickchart-complete:disabled,\n",
              "  .colab-df-quickchart-complete:disabled:hover {\n",
              "    background-color: var(--disabled-bg-color);\n",
              "    fill: var(--disabled-fill-color);\n",
              "    box-shadow: none;\n",
              "  }\n",
              "\n",
              "  .colab-df-spinner {\n",
              "    border: 2px solid var(--fill-color);\n",
              "    border-color: transparent;\n",
              "    border-bottom-color: var(--fill-color);\n",
              "    animation:\n",
              "      spin 1s steps(1) infinite;\n",
              "  }\n",
              "\n",
              "  @keyframes spin {\n",
              "    0% {\n",
              "      border-color: transparent;\n",
              "      border-bottom-color: var(--fill-color);\n",
              "      border-left-color: var(--fill-color);\n",
              "    }\n",
              "    20% {\n",
              "      border-color: transparent;\n",
              "      border-left-color: var(--fill-color);\n",
              "      border-top-color: var(--fill-color);\n",
              "    }\n",
              "    30% {\n",
              "      border-color: transparent;\n",
              "      border-left-color: var(--fill-color);\n",
              "      border-top-color: var(--fill-color);\n",
              "      border-right-color: var(--fill-color);\n",
              "    }\n",
              "    40% {\n",
              "      border-color: transparent;\n",
              "      border-right-color: var(--fill-color);\n",
              "      border-top-color: var(--fill-color);\n",
              "    }\n",
              "    60% {\n",
              "      border-color: transparent;\n",
              "      border-right-color: var(--fill-color);\n",
              "    }\n",
              "    80% {\n",
              "      border-color: transparent;\n",
              "      border-right-color: var(--fill-color);\n",
              "      border-bottom-color: var(--fill-color);\n",
              "    }\n",
              "    90% {\n",
              "      border-color: transparent;\n",
              "      border-bottom-color: var(--fill-color);\n",
              "    }\n",
              "  }\n",
              "</style>\n",
              "\n",
              "  <script>\n",
              "    async function quickchart(key) {\n",
              "      const quickchartButtonEl =\n",
              "        document.querySelector('#' + key + ' button');\n",
              "      quickchartButtonEl.disabled = true;  // To prevent multiple clicks.\n",
              "      quickchartButtonEl.classList.add('colab-df-spinner');\n",
              "      try {\n",
              "        const charts = await google.colab.kernel.invokeFunction(\n",
              "            'suggestCharts', [key], {});\n",
              "      } catch (error) {\n",
              "        console.error('Error during call to suggestCharts:', error);\n",
              "      }\n",
              "      quickchartButtonEl.classList.remove('colab-df-spinner');\n",
              "      quickchartButtonEl.classList.add('colab-df-quickchart-complete');\n",
              "    }\n",
              "    (() => {\n",
              "      let quickchartButtonEl =\n",
              "        document.querySelector('#df-236cde9f-19a7-4dbb-9ab0-351710dcbe5e button');\n",
              "      quickchartButtonEl.style.display =\n",
              "        google.colab.kernel.accessAllowed ? 'block' : 'none';\n",
              "    })();\n",
              "  </script>\n",
              "</div>\n",
              "    </div>\n",
              "  </div>\n"
            ]
          },
          "metadata": {},
          "execution_count": 13
        }
      ],
      "source": [
        "# # Checking Corelation\n",
        "# data.corr()"
      ]
    },
    {
      "cell_type": "code",
      "source": [
        "# Correlation matrix\n",
        "plt.figure(figsize=(10, 8))\n",
        "sns.heatmap(df.corr(), annot=True, fmt=\".2f\")\n",
        "plt.show()"
      ],
      "metadata": {
        "colab": {
          "base_uri": "https://localhost:8080/",
          "height": 786
        },
        "id": "fEZJJx_m3Abe",
        "outputId": "5e0d5986-36cf-4ac1-af28-8e8f633999c6"
      },
      "execution_count": null,
      "outputs": [
        {
          "output_type": "display_data",
          "data": {
            "text/plain": [
              "<Figure size 1000x800 with 2 Axes>"
            ],
            "image/png": "[encoded data removed]"
          },
          "metadata": {}
        }
      ]
    },
    {
      "cell_type": "code",
      "execution_count": null,
      "metadata": {
        "colab": {
          "base_uri": "https://localhost:8080/",
          "height": 425
        },
        "id": "O0DRcSE52hhG",
        "outputId": "adb42099-fc88-4af3-fac7-39ff56913dd9"
      },
      "outputs": [
        {
          "output_type": "display_data",
          "data": {
            "text/plain": [
              "<Figure size 1800x400 with 1 Axes>"
            ],
            "image/png": "[encoded data removed]"
          },
          "metadata": {}
        }
      ],
      "source": [
        "labels = pd.DataFrame(data).sort_values(['price'], ascending=False)\n",
        "\n",
        "ax = sns.barplot(data=labels, y=\"price\", x=\"made\")\n",
        "\n",
        "plt.xticks(rotation=90)\n",
        "\n",
        "ax.figure.set_size_inches(18, 4)\n",
        "ax.set_title('House Price', fontsize=15)\n",
        "ax.set_xlabel(\"Made\", fontsize=12)\n",
        "ax.set_ylabel(\"Price\", fontsize=12)\n",
        "\n",
        "# Remove y-axis limit\n",
        "ax.set_ylim(0, labels['price'].max())\n",
        "\n",
        "plt.show()"
      ]
    },
    {
      "cell_type": "code",
      "execution_count": null,
      "metadata": {
        "id": "pA4B21lTd5BX",
        "colab": {
          "base_uri": "https://localhost:8080/",
          "height": 557
        },
        "outputId": "d44df683-292e-4719-8d88-50e9badc7e90"
      },
      "outputs": [
        {
          "output_type": "execute_result",
          "data": {
            "text/plain": [
              "<AxesSubplot: >"
            ]
          },
          "metadata": {},
          "execution_count": 15
        },
        {
          "output_type": "display_data",
          "data": {
            "text/plain": [
              "<Figure size 640x480 with 2 Axes>"
            ],
            "image/png": "[encoded data removed]"
          },
          "metadata": {}
        }
      ],
      "source": [
        "sns.heatmap(data=data.corr())"
      ]
    },
    {
      "cell_type": "code",
      "execution_count": null,
      "metadata": {
        "id": "oUSUeV5Ef6-W",
        "colab": {
          "base_uri": "https://localhost:8080/",
          "height": 487
        },
        "outputId": "1b3f91ca-6d69-4a26-b21e-f10c2d57da87"
      },
      "outputs": [
        {
          "output_type": "display_data",
          "data": {
            "text/plain": [
              "<Figure size 640x480 with 1 Axes>"
            ],
            "image/png": "[encoded data removed]"
          },
          "metadata": {}
        }
      ],
      "source": [
        "sns.countplot(data=data, x='made')\n",
        "plt.xticks(rotation=90)\n",
        "plt.tight_layout()"
      ]
    },
    {
      "cell_type": "code",
      "execution_count": null,
      "metadata": {
        "id": "yvUoj1nCtdGU",
        "colab": {
          "base_uri": "https://localhost:8080/",
          "height": 806
        },
        "outputId": "1b2807b3-0146-4fce-dadc-ad709e59817b"
      },
      "outputs": [
        {
          "output_type": "display_data",
          "data": {
            "text/plain": [
              "<Figure size 1000x800 with 6 Axes>"
            ],
            "image/png": "[encoded data removed]"
          },
          "metadata": {}
        }
      ],
      "source": [
        "fig, axes = plt.subplots(nrows=2, ncols=3, figsize=(10, 8))\n",
        "plt.suptitle('Boxplot Outlier')\n",
        "sns.boxplot(ax=axes[0, 0], y=data['made'], whis=1.5) #whis itu parameter standar keseimbangan, 1.5 dah paling minimal\n",
        "sns.boxplot(ax=axes[0, 1], y=data['squareMeters'], whis=1.5)\n",
        "sns.boxplot(ax=axes[0, 2], y=data['numberOfRooms'], whis=1.5)\n",
        "# sns.boxplot(ax=axes[1, 0], y=data['hasStorageRoom'], whis=1.5) binary data\n",
        "sns.boxplot(ax=axes[1, 0], y=data['hasGuestRoom'], whis=1.5)\n",
        "sns.boxplot(ax=axes[1, 1], y=data['price'], whis=1.5)\n",
        "plt.tight_layout()\n",
        "plt.show()"
      ]
    },
    {
      "cell_type": "code",
      "execution_count": null,
      "metadata": {
        "id": "W4CXXE5QxKck",
        "colab": {
          "base_uri": "https://localhost:8080/"
        },
        "outputId": "8de1b06b-8d31-4bee-eb23-4951e82347fa"
      },
      "outputs": [
        {
          "output_type": "stream",
          "name": "stdout",
          "text": [
            "Empty DataFrame\n",
            "Columns: [made, squareMeters, numberOfRooms, hasStorageRoom, hasGuestRoom, price]\n",
            "Index: []\n"
          ]
        }
      ],
      "source": [
        "#check outlier data, jika index = [], maka tidak ada data outlier\n",
        "numerical_columns = ['made', 'squareMeters', 'numberOfRooms', 'hasStorageRoom', 'hasGuestRoom', 'price']\n",
        "Q1 = data[numerical_columns].quantile(0.25)\n",
        "Q3 = data[numerical_columns].quantile(0.75)\n",
        "IQR = Q3 - Q1 #rentang quartile\n",
        "outlier_indices = ((data[numerical_columns] < (Q1 - 1.5 * IQR)) | (data[numerical_columns] > (Q3 + 1.5 * IQR))).any(axis=1) #1.5 merupakan nilai minimum standar keseimbangan\n",
        "print(data[outlier_indices])"
      ]
    },
    {
      "cell_type": "code",
      "execution_count": null,
      "metadata": {
        "id": "CWCdReuux4sT",
        "colab": {
          "base_uri": "https://localhost:8080/"
        },
        "outputId": "c052bf0a-0e46-47e8-adad-5f91b66b0214"
      },
      "outputs": [
        {
          "output_type": "execute_result",
          "data": {
            "text/plain": [
              "(made                 1997.00\n",
              " squareMeters        25098.50\n",
              " numberOfRooms          25.00\n",
              " hasStorageRoom          0.00\n",
              " hasGuestRoom            2.00\n",
              " price             2516401.95\n",
              " Name: 0.25, dtype: float64,\n",
              " made                 2014.00\n",
              " squareMeters        74609.75\n",
              " numberOfRooms          75.00\n",
              " hasStorageRoom          1.00\n",
              " hasGuestRoom            8.00\n",
              " price             7469092.45\n",
              " Name: 0.75, dtype: float64,\n",
              " made                   17.00\n",
              " squareMeters        49511.25\n",
              " numberOfRooms          50.00\n",
              " hasStorageRoom          1.00\n",
              " hasGuestRoom            6.00\n",
              " price             4952690.50\n",
              " dtype: float64)"
            ]
          },
          "metadata": {},
          "execution_count": 19
        }
      ],
      "source": [
        "Q1, Q3, IQR"
      ]
    },
    {
      "cell_type": "markdown",
      "metadata": {
        "id": "BM1WyANLtVyu"
      },
      "source": [
        "# Pre-Processing"
      ]
    },
    {
      "cell_type": "code",
      "execution_count": null,
      "metadata": {
        "id": "nAZHm6y6QurY"
      },
      "outputs": [],
      "source": [
        "# data preprocessing\n",
        "\n",
        "data_prepro_new = data.copy()\n",
        "# Select features and target variable\n",
        "X = data_prepro_new.drop(columns=[\"price\"])\n",
        "y = data_prepro_new[\"price\"]\n",
        "\n",
        "scaler = StandardScaler()\n",
        "# Split the dataset into training and testing sets\n",
        "X_train, X_test, y_train, y_test = train_test_split(X, y, test_size=0.2, random_state=42)\n",
        "X_train = scaler.fit_transform(X_train)\n",
        "X_test = scaler.transform(X_test)"
      ]
    },
    {
      "cell_type": "markdown",
      "metadata": {
        "id": "mc6qw_xxj9O1"
      },
      "source": [
        "#Model Development"
      ]
    },
    {
      "cell_type": "markdown",
      "metadata": {
        "id": "FfphqjYqmr4j"
      },
      "source": [
        "## Training & Testing Model"
      ]
    },
    {
      "cell_type": "code",
      "execution_count": null,
      "metadata": {
        "id": "17TcuNs9oeZX"
      },
      "outputs": [],
      "source": [
        "from pycaret.regression import *"
      ]
    },
    {
      "cell_type": "code",
      "execution_count": null,
      "metadata": {
        "id": "UQsX3mgVjHjF",
        "colab": {
          "base_uri": "https://localhost:8080/",
          "height": 269
        },
        "outputId": "4bb01210-5dd3-452e-8ba3-24423675ebd8"
      },
      "outputs": [
        {
          "output_type": "execute_result",
          "data": {
            "text/plain": [
              "               Model  R-Squared            MAE        MAPE\n",
              "0  Linear Regression   0.999999    2631.718925    0.209221\n",
              "1   Ridge Regression   0.999999    2655.235242    0.219604\n",
              "2   Lasso Regression   0.999999    2631.679730    0.209255\n",
              "3        Elastic Net   0.888558  859410.199371  100.228232\n",
              "4      Decision Tree   0.999997    4204.032750    0.298684\n",
              "5      Random Forest   0.999998    3258.066990    0.238030\n",
              "6            XGBoost   0.999979   11024.760964    0.766500"
            ],
            "text/html": [
              "\n",
              "  <div id=\"df-901a0826-f06f-48bf-9719-9295040fb638\" class=\"colab-df-container\">\n",
              "    <div>\n",
              "<style scoped>\n",
              "    .dataframe tbody tr th:only-of-type {\n",
              "        vertical-align: middle;\n",
              "    }\n",
              "\n",
              "    .dataframe tbody tr th {\n",
              "        vertical-align: top;\n",
              "    }\n",
              "\n",
              "    .dataframe thead th {\n",
              "        text-align: right;\n",
              "    }\n",
              "</style>\n",
              "<table border=\"1\" class=\"dataframe\">\n",
              "  <thead>\n",
              "    <tr style=\"text-align: right;\">\n",
              "      <th></th>\n",
              "      <th>Model</th>\n",
              "      <th>R-Squared</th>\n",
              "      <th>MAE</th>\n",
              "      <th>MAPE</th>\n",
              "    </tr>\n",
              "  </thead>\n",
              "  <tbody>\n",
              "    <tr>\n",
              "      <th>0</th>\n",
              "      <td>Linear Regression</td>\n",
              "      <td>0.999999</td>\n",
              "      <td>2631.718925</td>\n",
              "      <td>0.209221</td>\n",
              "    </tr>\n",
              "    <tr>\n",
              "      <th>1</th>\n",
              "      <td>Ridge Regression</td>\n",
              "      <td>0.999999</td>\n",
              "      <td>2655.235242</td>\n",
              "      <td>0.219604</td>\n",
              "    </tr>\n",
              "    <tr>\n",
              "      <th>2</th>\n",
              "      <td>Lasso Regression</td>\n",
              "      <td>0.999999</td>\n",
              "      <td>2631.679730</td>\n",
              "      <td>0.209255</td>\n",
              "    </tr>\n",
              "    <tr>\n",
              "      <th>3</th>\n",
              "      <td>Elastic Net</td>\n",
              "      <td>0.888558</td>\n",
              "      <td>859410.199371</td>\n",
              "      <td>100.228232</td>\n",
              "    </tr>\n",
              "    <tr>\n",
              "      <th>4</th>\n",
              "      <td>Decision Tree</td>\n",
              "      <td>0.999997</td>\n",
              "      <td>4204.032750</td>\n",
              "      <td>0.298684</td>\n",
              "    </tr>\n",
              "    <tr>\n",
              "      <th>5</th>\n",
              "      <td>Random Forest</td>\n",
              "      <td>0.999998</td>\n",
              "      <td>3258.066990</td>\n",
              "      <td>0.238030</td>\n",
              "    </tr>\n",
              "    <tr>\n",
              "      <th>6</th>\n",
              "      <td>XGBoost</td>\n",
              "      <td>0.999979</td>\n",
              "      <td>11024.760964</td>\n",
              "      <td>0.766500</td>\n",
              "    </tr>\n",
              "  </tbody>\n",
              "</table>\n",
              "</div>\n",
              "    <div class=\"colab-df-buttons\">\n",
              "\n",
              "  <div class=\"colab-df-container\">\n",
              "    <button class=\"colab-df-convert\" onclick=\"convertToInteractive('df-901a0826-f06f-48bf-9719-9295040fb638')\"\n",
              "            title=\"Convert this dataframe to an interactive table.\"\n",
              "            style=\"display:none;\">\n",
              "\n",
              "  <svg xmlns=\"http://www.w3.org/2000/svg\" height=\"24px\" viewBox=\"0 -960 960 960\">\n",
              "    <path d=\"M120-120v-720h720v720H120Zm60-500h600v-160H180v160Zm220 220h160v-160H400v160Zm0 220h160v-160H400v160ZM180-400h160v-160H180v160Zm440 0h160v-160H620v160ZM180-180h160v-160H180v160Zm440 0h160v-160H620v160Z\"/>\n",
              "  </svg>\n",
              "    </button>\n",
              "\n",
              "  <style>\n",
              "    .colab-df-container {\n",
              "      display:flex;\n",
              "      gap: 12px;\n",
              "    }\n",
              "\n",
              "    .colab-df-convert {\n",
              "      background-color: #E8F0FE;\n",
              "      border: none;\n",
              "      border-radius: 50%;\n",
              "      cursor: pointer;\n",
              "      display: none;\n",
              "      fill: #1967D2;\n",
              "      height: 32px;\n",
              "      padding: 0 0 0 0;\n",
              "      width: 32px;\n",
              "    }\n",
              "\n",
              "    .colab-df-convert:hover {\n",
              "      background-color: #E2EBFA;\n",
              "      box-shadow: 0px 1px 2px rgba(60, 64, 67, 0.3), 0px 1px 3px 1px rgba(60, 64, 67, 0.15);\n",
              "      fill: #174EA6;\n",
              "    }\n",
              "\n",
              "    .colab-df-buttons div {\n",
              "      margin-bottom: 4px;\n",
              "    }\n",
              "\n",
              "    [theme=dark] .colab-df-convert {\n",
              "      background-color: #3B4455;\n",
              "      fill: #D2E3FC;\n",
              "    }\n",
              "\n",
              "    [theme=dark] .colab-df-convert:hover {\n",
              "      background-color: #434B5C;\n",
              "      box-shadow: 0px 1px 3px 1px rgba(0, 0, 0, 0.15);\n",
              "      filter: drop-shadow(0px 1px 2px rgba(0, 0, 0, 0.3));\n",
              "      fill: #FFFFFF;\n",
              "    }\n",
              "  </style>\n",
              "\n",
              "    <script>\n",
              "      const buttonEl =\n",
              "        document.querySelector('#df-901a0826-f06f-48bf-9719-9295040fb638 button.colab-df-convert');\n",
              "      buttonEl.style.display =\n",
              "        google.colab.kernel.accessAllowed ? 'block' : 'none';\n",
              "\n",
              "      async function convertToInteractive(key) {\n",
              "        const element = document.querySelector('#df-901a0826-f06f-48bf-9719-9295040fb638');\n",
              "        const dataTable =\n",
              "          await google.colab.kernel.invokeFunction('convertToInteractive',\n",
              "                                                    [key], {});\n",
              "        if (!dataTable) return;\n",
              "\n",
              "        const docLinkHtml = 'Like what you see? Visit the ' +\n",
              "          '<a target=\"_blank\" href=https://colab.research.google.com/notebooks/data_table.ipynb>data table notebook</a>'\n",
              "          + ' to learn more about interactive tables.';\n",
              "        element.innerHTML = '';\n",
              "        dataTable['output_type'] = 'display_data';\n",
              "        await google.colab.output.renderOutput(dataTable, element);\n",
              "        const docLink = document.createElement('div');\n",
              "        docLink.innerHTML = docLinkHtml;\n",
              "        element.appendChild(docLink);\n",
              "      }\n",
              "    </script>\n",
              "  </div>\n",
              "\n",
              "\n",
              "<div id=\"df-1fb8cafd-a064-4a38-9a4b-60cef498fb94\">\n",
              "  <button class=\"colab-df-quickchart\" onclick=\"quickchart('df-1fb8cafd-a064-4a38-9a4b-60cef498fb94')\"\n",
              "            title=\"Suggest charts\"\n",
              "            style=\"display:none;\">\n",
              "\n",
              "<svg xmlns=\"http://www.w3.org/2000/svg\" height=\"24px\"viewBox=\"0 0 24 24\"\n",
              "     width=\"24px\">\n",
              "    <g>\n",
              "        <path d=\"M19 3H5c-1.1 0-2 .9-2 2v14c0 1.1.9 2 2 2h14c1.1 0 2-.9 2-2V5c0-1.1-.9-2-2-2zM9 17H7v-7h2v7zm4 0h-2V7h2v10zm4 0h-2v-4h2v4z\"/>\n",
              "    </g>\n",
              "</svg>\n",
              "  </button>\n",
              "\n",
              "<style>\n",
              "  .colab-df-quickchart {\n",
              "      --bg-color: #E8F0FE;\n",
              "      --fill-color: #1967D2;\n",
              "      --hover-bg-color: #E2EBFA;\n",
              "      --hover-fill-color: #174EA6;\n",
              "      --disabled-fill-color: #AAA;\n",
              "      --disabled-bg-color: #DDD;\n",
              "  }\n",
              "\n",
              "  [theme=dark] .colab-df-quickchart {\n",
              "      --bg-color: #3B4455;\n",
              "      --fill-color: #D2E3FC;\n",
              "      --hover-bg-color: #434B5C;\n",
              "      --hover-fill-color: #FFFFFF;\n",
              "      --disabled-bg-color: #3B4455;\n",
              "      --disabled-fill-color: #666;\n",
              "  }\n",
              "\n",
              "  .colab-df-quickchart {\n",
              "    background-color: var(--bg-color);\n",
              "    border: none;\n",
              "    border-radius: 50%;\n",
              "    cursor: pointer;\n",
              "    display: none;\n",
              "    fill: var(--fill-color);\n",
              "    height: 32px;\n",
              "    padding: 0;\n",
              "    width: 32px;\n",
              "  }\n",
              "\n",
              "  .colab-df-quickchart:hover {\n",
              "    background-color: var(--hover-bg-color);\n",
              "    box-shadow: 0 1px 2px rgba(60, 64, 67, 0.3), 0 1px 3px 1px rgba(60, 64, 67, 0.15);\n",
              "    fill: var(--button-hover-fill-color);\n",
              "  }\n",
              "\n",
              "  .colab-df-quickchart-complete:disabled,\n",
              "  .colab-df-quickchart-complete:disabled:hover {\n",
              "    background-color: var(--disabled-bg-color);\n",
              "    fill: var(--disabled-fill-color);\n",
              "    box-shadow: none;\n",
              "  }\n",
              "\n",
              "  .colab-df-spinner {\n",
              "    border: 2px solid var(--fill-color);\n",
              "    border-color: transparent;\n",
              "    border-bottom-color: var(--fill-color);\n",
              "    animation:\n",
              "      spin 1s steps(1) infinite;\n",
              "  }\n",
              "\n",
              "  @keyframes spin {\n",
              "    0% {\n",
              "      border-color: transparent;\n",
              "      border-bottom-color: var(--fill-color);\n",
              "      border-left-color: var(--fill-color);\n",
              "    }\n",
              "    20% {\n",
              "      border-color: transparent;\n",
              "      border-left-color: var(--fill-color);\n",
              "      border-top-color: var(--fill-color);\n",
              "    }\n",
              "    30% {\n",
              "      border-color: transparent;\n",
              "      border-left-color: var(--fill-color);\n",
              "      border-top-color: var(--fill-color);\n",
              "      border-right-color: var(--fill-color);\n",
              "    }\n",
              "    40% {\n",
              "      border-color: transparent;\n",
              "      border-right-color: var(--fill-color);\n",
              "      border-top-color: var(--fill-color);\n",
              "    }\n",
              "    60% {\n",
              "      border-color: transparent;\n",
              "      border-right-color: var(--fill-color);\n",
              "    }\n",
              "    80% {\n",
              "      border-color: transparent;\n",
              "      border-right-color: var(--fill-color);\n",
              "      border-bottom-color: var(--fill-color);\n",
              "    }\n",
              "    90% {\n",
              "      border-color: transparent;\n",
              "      border-bottom-color: var(--fill-color);\n",
              "    }\n",
              "  }\n",
              "</style>\n",
              "\n",
              "  <script>\n",
              "    async function quickchart(key) {\n",
              "      const quickchartButtonEl =\n",
              "        document.querySelector('#' + key + ' button');\n",
              "      quickchartButtonEl.disabled = true;  // To prevent multiple clicks.\n",
              "      quickchartButtonEl.classList.add('colab-df-spinner');\n",
              "      try {\n",
              "        const charts = await google.colab.kernel.invokeFunction(\n",
              "            'suggestCharts', [key], {});\n",
              "      } catch (error) {\n",
              "        console.error('Error during call to suggestCharts:', error);\n",
              "      }\n",
              "      quickchartButtonEl.classList.remove('colab-df-spinner');\n",
              "      quickchartButtonEl.classList.add('colab-df-quickchart-complete');\n",
              "    }\n",
              "    (() => {\n",
              "      let quickchartButtonEl =\n",
              "        document.querySelector('#df-1fb8cafd-a064-4a38-9a4b-60cef498fb94 button');\n",
              "      quickchartButtonEl.style.display =\n",
              "        google.colab.kernel.accessAllowed ? 'block' : 'none';\n",
              "    })();\n",
              "  </script>\n",
              "</div>\n",
              "    </div>\n",
              "  </div>\n"
            ]
          },
          "metadata": {},
          "execution_count": 22
        }
      ],
      "source": [
        "# Create a DataFrame to store model evaluation metrics\n",
        "evaluation_df = pd.DataFrame(columns=['Model', 'R-Squared', 'MAE', 'MAPE'])\n",
        "\n",
        "# Linear Regression\n",
        "linear_reg_model = LinearRegression()\n",
        "linear_reg_model.fit(X_train, y_train) #buat model\n",
        "linear_reg_train = linear_reg_model.predict(X_train)\n",
        "linear_reg_preds = linear_reg_model.predict(X_test)\n",
        "\n",
        "# Evaluate Linear Regression\n",
        "r2_linear = r2_score(y_test, linear_reg_preds)\n",
        "mae_linear = mean_absolute_error(y_test, linear_reg_preds)\n",
        "mape_linear = (abs((y_test - linear_reg_preds) / y_test)).mean() * 100\n",
        "\n",
        "evaluation_df = evaluation_df.append({'Model': 'Linear Regression', 'R-Squared': r2_linear, 'MAE': mae_linear, 'MAPE': mape_linear}, ignore_index=True)\n",
        "\n",
        "# Ridge Regression\n",
        "ridge_model = Ridge()\n",
        "ridge_model.fit(X_train, y_train)\n",
        "ridge_train = ridge_model.predict(X_train)\n",
        "ridge_preds = ridge_model.predict(X_test)\n",
        "\n",
        "# Evaluate Ridge Regression\n",
        "r2_ridge = r2_score(y_test, ridge_preds)\n",
        "mae_ridge = mean_absolute_error(y_test, ridge_preds)\n",
        "mape_ridge = (abs((y_test - ridge_preds) / y_test)).mean() * 100\n",
        "\n",
        "evaluation_df = evaluation_df.append({'Model': 'Ridge Regression', 'R-Squared': r2_ridge, 'MAE': mae_ridge, 'MAPE': mape_ridge}, ignore_index=True)\n",
        "\n",
        "# Lasso Regression\n",
        "lasso_model = Lasso()\n",
        "lasso_model.fit(X_train, y_train)\n",
        "lasso_train = lasso_model.predict(X_train)\n",
        "lasso_preds = lasso_model.predict(X_test)\n",
        "\n",
        "# Evaluate Lasso Regression\n",
        "r2_lasso = r2_score(y_test, lasso_preds)\n",
        "mae_lasso = mean_absolute_error(y_test, lasso_preds)\n",
        "mape_lasso = (abs((y_test - lasso_preds) / y_test)).mean() * 100\n",
        "\n",
        "evaluation_df = evaluation_df.append({'Model': 'Lasso Regression', 'R-Squared': r2_lasso, 'MAE': mae_lasso, 'MAPE': mape_lasso}, ignore_index=True)\n",
        "\n",
        "# Elastic Net\n",
        "elastic_net_model = ElasticNet()\n",
        "elastic_net_model.fit(X_train, y_train)\n",
        "elastic_net_preds = elastic_net_model.predict(X_test)\n",
        "\n",
        "# Evaluate Elastic Net\n",
        "r2_elastic_net = r2_score(y_test, elastic_net_preds)\n",
        "mae_elastic_net = mean_absolute_error(y_test, elastic_net_preds)\n",
        "mape_elastic_net = (abs((y_test - elastic_net_preds) / y_test)).mean() * 100\n",
        "\n",
        "evaluation_df = evaluation_df.append({'Model': 'Elastic Net', 'R-Squared': r2_elastic_net, 'MAE': mae_elastic_net, 'MAPE': mape_elastic_net}, ignore_index=True)\n",
        "\n",
        "# Decision Tree\n",
        "dt_model = DecisionTreeRegressor()\n",
        "dt_model.fit(X_train, y_train)\n",
        "dt_preds = dt_model.predict(X_test)\n",
        "\n",
        "# Evaluate Decision Tree\n",
        "r2_dt = r2_score(y_test, dt_preds)\n",
        "mae_dt = mean_absolute_error(y_test, dt_preds)\n",
        "mape_dt = (abs((y_test - dt_preds) / y_test)).mean() * 100\n",
        "\n",
        "evaluation_df = evaluation_df.append({'Model': 'Decision Tree', 'R-Squared': r2_dt, 'MAE': mae_dt, 'MAPE': mape_dt}, ignore_index=True)\n",
        "\n",
        "# Random Forest\n",
        "rf_model = RandomForestRegressor()\n",
        "rf_model.fit(X_train, y_train)\n",
        "rf_train = rf_model.predict(X_train)\n",
        "rf_preds = rf_model.predict(X_test)\n",
        "\n",
        "# Evaluate Random Forest\n",
        "r2_rf = r2_score(y_test, rf_preds)\n",
        "mae_rf = mean_absolute_error(y_test, rf_preds)\n",
        "mape_rf = (abs((y_test - rf_preds) / y_test)).mean() * 100\n",
        "\n",
        "evaluation_df = evaluation_df.append({'Model': 'Random Forest', 'R-Squared': r2_rf, 'MAE': mae_rf, 'MAPE': mape_rf}, ignore_index=True)\n",
        "\n",
        "# XGBoost\n",
        "xgb_model = XGBRegressor()\n",
        "xgb_model.fit(X_train, y_train)\n",
        "xgb_preds = xgb_model.predict(X_test)\n",
        "\n",
        "# Evaluate XGBoost\n",
        "r2_xgb = r2_score(y_test, xgb_preds)\n",
        "mae_xgb = mean_absolute_error(y_test, xgb_preds)\n",
        "mape_xgb = (abs((y_test - xgb_preds) / y_test)).mean() * 100\n",
        "\n",
        "evaluation_df = evaluation_df.append({'Model': 'XGBoost', 'R-Squared': r2_xgb, 'MAE': mae_xgb, 'MAPE': mape_xgb}, ignore_index=True)\n",
        "\n",
        "evaluation_df"
      ]
    },
    {
      "cell_type": "code",
      "source": [
        "df_predict = pd.read_csv('house_price_predict.csv')\n",
        "df_predict_scaled = scaler.transform(df_predict)\n",
        "df_predict['price_pred'] = lasso_model.predict(df_predict_scaled)\n",
        "df_predict"
      ],
      "metadata": {
        "colab": {
          "base_uri": "https://localhost:8080/",
          "height": 959
        },
        "id": "oecZo-l2kiRW",
        "outputId": "b6b658a4-1579-44d6-be99-e1b9b950ef61"
      },
      "execution_count": null,
      "outputs": [
        {
          "output_type": "execute_result",
          "data": {
            "text/plain": [
              "    made  squareMeters  numberOfRooms  hasStorageRoom  hasGuestRoom  \\\n",
              "0   2016         56935             23               1             3   \n",
              "1   1999         41471             32               0             3   \n",
              "2   2021         86758             38               1             2   \n",
              "3   1999         57011             30               1             5   \n",
              "4   2009         41083             13               1             2   \n",
              "5   2009         41510             25               1             1   \n",
              "6   2006         77371             15               0             4   \n",
              "7   2019         88610             24               0             0   \n",
              "8   2020         22189             14               0             5   \n",
              "9   2005         86548             45               0             4   \n",
              "10  2001         56552             14               1             3   \n",
              "11  2013         80655             43               0             2   \n",
              "12  2013         20873             20               1             3   \n",
              "13  2016         49197             28               1             0   \n",
              "14  2008         55035             12               0             1   \n",
              "15  2004         13609             14               1             5   \n",
              "16  2006         70234             33               1             5   \n",
              "17  2020         10552             15               0             5   \n",
              "18  2021         70942             46               1             1   \n",
              "19  2008         40489             43               0             1   \n",
              "20  1999         40527             29               0             3   \n",
              "21  2006         44723              4               0             1   \n",
              "22  2017         73445             35               1             3   \n",
              "23  2016         60476             23               0             5   \n",
              "24  2016         22453              5               1             1   \n",
              "25  2015         45594             30               0             1   \n",
              "26  2020         22877             37               0             0   \n",
              "27  2012         16738             15               1             3   \n",
              "28  2011         30009             22               0             4   \n",
              "\n",
              "      price_pred  \n",
              "0   5.699910e+06  \n",
              "1   4.153504e+06  \n",
              "2   8.682247e+06  \n",
              "3   5.707463e+06  \n",
              "4   4.114709e+06  \n",
              "5   4.157455e+06  \n",
              "6   7.743428e+06  \n",
              "7   8.867435e+06  \n",
              "8   2.225271e+06  \n",
              "9   8.661187e+06  \n",
              "10  5.661568e+06  \n",
              "11  8.071938e+06  \n",
              "12  2.093727e+06  \n",
              "13  4.926185e+06  \n",
              "14  5.509899e+06  \n",
              "15  1.367268e+06  \n",
              "16  7.029769e+06  \n",
              "17  1.061582e+06  \n",
              "18  7.100697e+06  \n",
              "19  4.055381e+06  \n",
              "20  4.059098e+06  \n",
              "21  4.478686e+06  \n",
              "22  7.350926e+06  \n",
              "23  6.053955e+06  \n",
              "24  2.251735e+06  \n",
              "25  4.565858e+06  \n",
              "26  2.294219e+06  \n",
              "27  1.680218e+06  \n",
              "28  3.007289e+06  "
            ],
            "text/html": [
              "\n",
              "  <div id=\"df-d521d78f-fe70-48d3-82ca-0a127cee089d\" class=\"colab-df-container\">\n",
              "    <div>\n",
              "<style scoped>\n",
              "    .dataframe tbody tr th:only-of-type {\n",
              "        vertical-align: middle;\n",
              "    }\n",
              "\n",
              "    .dataframe tbody tr th {\n",
              "        vertical-align: top;\n",
              "    }\n",
              "\n",
              "    .dataframe thead th {\n",
              "        text-align: right;\n",
              "    }\n",
              "</style>\n",
              "<table border=\"1\" class=\"dataframe\">\n",
              "  <thead>\n",
              "    <tr style=\"text-align: right;\">\n",
              "      <th></th>\n",
              "      <th>made</th>\n",
              "      <th>squareMeters</th>\n",
              "      <th>numberOfRooms</th>\n",
              "      <th>hasStorageRoom</th>\n",
              "      <th>hasGuestRoom</th>\n",
              "      <th>price_pred</th>\n",
              "    </tr>\n",
              "  </thead>\n",
              "  <tbody>\n",
              "    <tr>\n",
              "      <th>0</th>\n",
              "      <td>2016</td>\n",
              "      <td>56935</td>\n",
              "      <td>23</td>\n",
              "      <td>1</td>\n",
              "      <td>3</td>\n",
              "      <td>5.699910e+06</td>\n",
              "    </tr>\n",
              "    <tr>\n",
              "      <th>1</th>\n",
              "      <td>1999</td>\n",
              "      <td>41471</td>\n",
              "      <td>32</td>\n",
              "      <td>0</td>\n",
              "      <td>3</td>\n",
              "      <td>4.153504e+06</td>\n",
              "    </tr>\n",
              "    <tr>\n",
              "      <th>2</th>\n",
              "      <td>2021</td>\n",
              "      <td>86758</td>\n",
              "      <td>38</td>\n",
              "      <td>1</td>\n",
              "      <td>2</td>\n",
              "      <td>8.682247e+06</td>\n",
              "    </tr>\n",
              "    <tr>\n",
              "      <th>3</th>\n",
              "      <td>1999</td>\n",
              "      <td>57011</td>\n",
              "      <td>30</td>\n",
              "      <td>1</td>\n",
              "      <td>5</td>\n",
              "      <td>5.707463e+06</td>\n",
              "    </tr>\n",
              "    <tr>\n",
              "      <th>4</th>\n",
              "      <td>2009</td>\n",
              "      <td>41083</td>\n",
              "      <td>13</td>\n",
              "      <td>1</td>\n",
              "      <td>2</td>\n",
              "      <td>4.114709e+06</td>\n",
              "    </tr>\n",
              "    <tr>\n",
              "      <th>5</th>\n",
              "      <td>2009</td>\n",
              "      <td>41510</td>\n",
              "      <td>25</td>\n",
              "      <td>1</td>\n",
              "      <td>1</td>\n",
              "      <td>4.157455e+06</td>\n",
              "    </tr>\n",
              "    <tr>\n",
              "      <th>6</th>\n",
              "      <td>2006</td>\n",
              "      <td>77371</td>\n",
              "      <td>15</td>\n",
              "      <td>0</td>\n",
              "      <td>4</td>\n",
              "      <td>7.743428e+06</td>\n",
              "    </tr>\n",
              "    <tr>\n",
              "      <th>7</th>\n",
              "      <td>2019</td>\n",
              "      <td>88610</td>\n",
              "      <td>24</td>\n",
              "      <td>0</td>\n",
              "      <td>0</td>\n",
              "      <td>8.867435e+06</td>\n",
              "    </tr>\n",
              "    <tr>\n",
              "      <th>8</th>\n",
              "      <td>2020</td>\n",
              "      <td>22189</td>\n",
              "      <td>14</td>\n",
              "      <td>0</td>\n",
              "      <td>5</td>\n",
              "      <td>2.225271e+06</td>\n",
              "    </tr>\n",
              "    <tr>\n",
              "      <th>9</th>\n",
              "      <td>2005</td>\n",
              "      <td>86548</td>\n",
              "      <td>45</td>\n",
              "      <td>0</td>\n",
              "      <td>4</td>\n",
              "      <td>8.661187e+06</td>\n",
              "    </tr>\n",
              "    <tr>\n",
              "      <th>10</th>\n",
              "      <td>2001</td>\n",
              "      <td>56552</td>\n",
              "      <td>14</td>\n",
              "      <td>1</td>\n",
              "      <td>3</td>\n",
              "      <td>5.661568e+06</td>\n",
              "    </tr>\n",
              "    <tr>\n",
              "      <th>11</th>\n",
              "      <td>2013</td>\n",
              "      <td>80655</td>\n",
              "      <td>43</td>\n",
              "      <td>0</td>\n",
              "      <td>2</td>\n",
              "      <td>8.071938e+06</td>\n",
              "    </tr>\n",
              "    <tr>\n",
              "      <th>12</th>\n",
              "      <td>2013</td>\n",
              "      <td>20873</td>\n",
              "      <td>20</td>\n",
              "      <td>1</td>\n",
              "      <td>3</td>\n",
              "      <td>2.093727e+06</td>\n",
              "    </tr>\n",
              "    <tr>\n",
              "      <th>13</th>\n",
              "      <td>2016</td>\n",
              "      <td>49197</td>\n",
              "      <td>28</td>\n",
              "      <td>1</td>\n",
              "      <td>0</td>\n",
              "      <td>4.926185e+06</td>\n",
              "    </tr>\n",
              "    <tr>\n",
              "      <th>14</th>\n",
              "      <td>2008</td>\n",
              "      <td>55035</td>\n",
              "      <td>12</td>\n",
              "      <td>0</td>\n",
              "      <td>1</td>\n",
              "      <td>5.509899e+06</td>\n",
              "    </tr>\n",
              "    <tr>\n",
              "      <th>15</th>\n",
              "      <td>2004</td>\n",
              "      <td>13609</td>\n",
              "      <td>14</td>\n",
              "      <td>1</td>\n",
              "      <td>5</td>\n",
              "      <td>1.367268e+06</td>\n",
              "    </tr>\n",
              "    <tr>\n",
              "      <th>16</th>\n",
              "      <td>2006</td>\n",
              "      <td>70234</td>\n",
              "      <td>33</td>\n",
              "      <td>1</td>\n",
              "      <td>5</td>\n",
              "      <td>7.029769e+06</td>\n",
              "    </tr>\n",
              "    <tr>\n",
              "      <th>17</th>\n",
              "      <td>2020</td>\n",
              "      <td>10552</td>\n",
              "      <td>15</td>\n",
              "      <td>0</td>\n",
              "      <td>5</td>\n",
              "      <td>1.061582e+06</td>\n",
              "    </tr>\n",
              "    <tr>\n",
              "      <th>18</th>\n",
              "      <td>2021</td>\n",
              "      <td>70942</td>\n",
              "      <td>46</td>\n",
              "      <td>1</td>\n",
              "      <td>1</td>\n",
              "      <td>7.100697e+06</td>\n",
              "    </tr>\n",
              "    <tr>\n",
              "      <th>19</th>\n",
              "      <td>2008</td>\n",
              "      <td>40489</td>\n",
              "      <td>43</td>\n",
              "      <td>0</td>\n",
              "      <td>1</td>\n",
              "      <td>4.055381e+06</td>\n",
              "    </tr>\n",
              "    <tr>\n",
              "      <th>20</th>\n",
              "      <td>1999</td>\n",
              "      <td>40527</td>\n",
              "      <td>29</td>\n",
              "      <td>0</td>\n",
              "      <td>3</td>\n",
              "      <td>4.059098e+06</td>\n",
              "    </tr>\n",
              "    <tr>\n",
              "      <th>21</th>\n",
              "      <td>2006</td>\n",
              "      <td>44723</td>\n",
              "      <td>4</td>\n",
              "      <td>0</td>\n",
              "      <td>1</td>\n",
              "      <td>4.478686e+06</td>\n",
              "    </tr>\n",
              "    <tr>\n",
              "      <th>22</th>\n",
              "      <td>2017</td>\n",
              "      <td>73445</td>\n",
              "      <td>35</td>\n",
              "      <td>1</td>\n",
              "      <td>3</td>\n",
              "      <td>7.350926e+06</td>\n",
              "    </tr>\n",
              "    <tr>\n",
              "      <th>23</th>\n",
              "      <td>2016</td>\n",
              "      <td>60476</td>\n",
              "      <td>23</td>\n",
              "      <td>0</td>\n",
              "      <td>5</td>\n",
              "      <td>6.053955e+06</td>\n",
              "    </tr>\n",
              "    <tr>\n",
              "      <th>24</th>\n",
              "      <td>2016</td>\n",
              "      <td>22453</td>\n",
              "      <td>5</td>\n",
              "      <td>1</td>\n",
              "      <td>1</td>\n",
              "      <td>2.251735e+06</td>\n",
              "    </tr>\n",
              "    <tr>\n",
              "      <th>25</th>\n",
              "      <td>2015</td>\n",
              "      <td>45594</td>\n",
              "      <td>30</td>\n",
              "      <td>0</td>\n",
              "      <td>1</td>\n",
              "      <td>4.565858e+06</td>\n",
              "    </tr>\n",
              "    <tr>\n",
              "      <th>26</th>\n",
              "      <td>2020</td>\n",
              "      <td>22877</td>\n",
              "      <td>37</td>\n",
              "      <td>0</td>\n",
              "      <td>0</td>\n",
              "      <td>2.294219e+06</td>\n",
              "    </tr>\n",
              "    <tr>\n",
              "      <th>27</th>\n",
              "      <td>2012</td>\n",
              "      <td>16738</td>\n",
              "      <td>15</td>\n",
              "      <td>1</td>\n",
              "      <td>3</td>\n",
              "      <td>1.680218e+06</td>\n",
              "    </tr>\n",
              "    <tr>\n",
              "      <th>28</th>\n",
              "      <td>2011</td>\n",
              "      <td>30009</td>\n",
              "      <td>22</td>\n",
              "      <td>0</td>\n",
              "      <td>4</td>\n",
              "      <td>3.007289e+06</td>\n",
              "    </tr>\n",
              "  </tbody>\n",
              "</table>\n",
              "</div>\n",
              "    <div class=\"colab-df-buttons\">\n",
              "\n",
              "  <div class=\"colab-df-container\">\n",
              "    <button class=\"colab-df-convert\" onclick=\"convertToInteractive('df-d521d78f-fe70-48d3-82ca-0a127cee089d')\"\n",
              "            title=\"Convert this dataframe to an interactive table.\"\n",
              "            style=\"display:none;\">\n",
              "\n",
              "  <svg xmlns=\"http://www.w3.org/2000/svg\" height=\"24px\" viewBox=\"0 -960 960 960\">\n",
              "    <path d=\"M120-120v-720h720v720H120Zm60-500h600v-160H180v160Zm220 220h160v-160H400v160Zm0 220h160v-160H400v160ZM180-400h160v-160H180v160Zm440 0h160v-160H620v160ZM180-180h160v-160H180v160Zm440 0h160v-160H620v160Z\"/>\n",
              "  </svg>\n",
              "    </button>\n",
              "\n",
              "  <style>\n",
              "    .colab-df-container {\n",
              "      display:flex;\n",
              "      gap: 12px;\n",
              "    }\n",
              "\n",
              "    .colab-df-convert {\n",
              "      background-color: #E8F0FE;\n",
              "      border: none;\n",
              "      border-radius: 50%;\n",
              "      cursor: pointer;\n",
              "      display: none;\n",
              "      fill: #1967D2;\n",
              "      height: 32px;\n",
              "      padding: 0 0 0 0;\n",
              "      width: 32px;\n",
              "    }\n",
              "\n",
              "    .colab-df-convert:hover {\n",
              "      background-color: #E2EBFA;\n",
              "      box-shadow: 0px 1px 2px rgba(60, 64, 67, 0.3), 0px 1px 3px 1px rgba(60, 64, 67, 0.15);\n",
              "      fill: #174EA6;\n",
              "    }\n",
              "\n",
              "    .colab-df-buttons div {\n",
              "      margin-bottom: 4px;\n",
              "    }\n",
              "\n",
              "    [theme=dark] .colab-df-convert {\n",
              "      background-color: #3B4455;\n",
              "      fill: #D2E3FC;\n",
              "    }\n",
              "\n",
              "    [theme=dark] .colab-df-convert:hover {\n",
              "      background-color: #434B5C;\n",
              "      box-shadow: 0px 1px 3px 1px rgba(0, 0, 0, 0.15);\n",
              "      filter: drop-shadow(0px 1px 2px rgba(0, 0, 0, 0.3));\n",
              "      fill: #FFFFFF;\n",
              "    }\n",
              "  </style>\n",
              "\n",
              "    <script>\n",
              "      const buttonEl =\n",
              "        document.querySelector('#df-d521d78f-fe70-48d3-82ca-0a127cee089d button.colab-df-convert');\n",
              "      buttonEl.style.display =\n",
              "        google.colab.kernel.accessAllowed ? 'block' : 'none';\n",
              "\n",
              "      async function convertToInteractive(key) {\n",
              "        const element = document.querySelector('#df-d521d78f-fe70-48d3-82ca-0a127cee089d');\n",
              "        const dataTable =\n",
              "          await google.colab.kernel.invokeFunction('convertToInteractive',\n",
              "                                                    [key], {});\n",
              "        if (!dataTable) return;\n",
              "\n",
              "        const docLinkHtml = 'Like what you see? Visit the ' +\n",
              "          '<a target=\"_blank\" href=https://colab.research.google.com/notebooks/data_table.ipynb>data table notebook</a>'\n",
              "          + ' to learn more about interactive tables.';\n",
              "        element.innerHTML = '';\n",
              "        dataTable['output_type'] = 'display_data';\n",
              "        await google.colab.output.renderOutput(dataTable, element);\n",
              "        const docLink = document.createElement('div');\n",
              "        docLink.innerHTML = docLinkHtml;\n",
              "        element.appendChild(docLink);\n",
              "      }\n",
              "    </script>\n",
              "  </div>\n",
              "\n",
              "\n",
              "<div id=\"df-e70a0b71-dfdf-43ce-917b-f89cb1b30b5b\">\n",
              "  <button class=\"colab-df-quickchart\" onclick=\"quickchart('df-e70a0b71-dfdf-43ce-917b-f89cb1b30b5b')\"\n",
              "            title=\"Suggest charts\"\n",
              "            style=\"display:none;\">\n",
              "\n",
              "<svg xmlns=\"http://www.w3.org/2000/svg\" height=\"24px\"viewBox=\"0 0 24 24\"\n",
              "     width=\"24px\">\n",
              "    <g>\n",
              "        <path d=\"M19 3H5c-1.1 0-2 .9-2 2v14c0 1.1.9 2 2 2h14c1.1 0 2-.9 2-2V5c0-1.1-.9-2-2-2zM9 17H7v-7h2v7zm4 0h-2V7h2v10zm4 0h-2v-4h2v4z\"/>\n",
              "    </g>\n",
              "</svg>\n",
              "  </button>\n",
              "\n",
              "<style>\n",
              "  .colab-df-quickchart {\n",
              "      --bg-color: #E8F0FE;\n",
              "      --fill-color: #1967D2;\n",
              "      --hover-bg-color: #E2EBFA;\n",
              "      --hover-fill-color: #174EA6;\n",
              "      --disabled-fill-color: #AAA;\n",
              "      --disabled-bg-color: #DDD;\n",
              "  }\n",
              "\n",
              "  [theme=dark] .colab-df-quickchart {\n",
              "      --bg-color: #3B4455;\n",
              "      --fill-color: #D2E3FC;\n",
              "      --hover-bg-color: #434B5C;\n",
              "      --hover-fill-color: #FFFFFF;\n",
              "      --disabled-bg-color: #3B4455;\n",
              "      --disabled-fill-color: #666;\n",
              "  }\n",
              "\n",
              "  .colab-df-quickchart {\n",
              "    background-color: var(--bg-color);\n",
              "    border: none;\n",
              "    border-radius: 50%;\n",
              "    cursor: pointer;\n",
              "    display: none;\n",
              "    fill: var(--fill-color);\n",
              "    height: 32px;\n",
              "    padding: 0;\n",
              "    width: 32px;\n",
              "  }\n",
              "\n",
              "  .colab-df-quickchart:hover {\n",
              "    background-color: var(--hover-bg-color);\n",
              "    box-shadow: 0 1px 2px rgba(60, 64, 67, 0.3), 0 1px 3px 1px rgba(60, 64, 67, 0.15);\n",
              "    fill: var(--button-hover-fill-color);\n",
              "  }\n",
              "\n",
              "  .colab-df-quickchart-complete:disabled,\n",
              "  .colab-df-quickchart-complete:disabled:hover {\n",
              "    background-color: var(--disabled-bg-color);\n",
              "    fill: var(--disabled-fill-color);\n",
              "    box-shadow: none;\n",
              "  }\n",
              "\n",
              "  .colab-df-spinner {\n",
              "    border: 2px solid var(--fill-color);\n",
              "    border-color: transparent;\n",
              "    border-bottom-color: var(--fill-color);\n",
              "    animation:\n",
              "      spin 1s steps(1) infinite;\n",
              "  }\n",
              "\n",
              "  @keyframes spin {\n",
              "    0% {\n",
              "      border-color: transparent;\n",
              "      border-bottom-color: var(--fill-color);\n",
              "      border-left-color: var(--fill-color);\n",
              "    }\n",
              "    20% {\n",
              "      border-color: transparent;\n",
              "      border-left-color: var(--fill-color);\n",
              "      border-top-color: var(--fill-color);\n",
              "    }\n",
              "    30% {\n",
              "      border-color: transparent;\n",
              "      border-left-color: var(--fill-color);\n",
              "      border-top-color: var(--fill-color);\n",
              "      border-right-color: var(--fill-color);\n",
              "    }\n",
              "    40% {\n",
              "      border-color: transparent;\n",
              "      border-right-color: var(--fill-color);\n",
              "      border-top-color: var(--fill-color);\n",
              "    }\n",
              "    60% {\n",
              "      border-color: transparent;\n",
              "      border-right-color: var(--fill-color);\n",
              "    }\n",
              "    80% {\n",
              "      border-color: transparent;\n",
              "      border-right-color: var(--fill-color);\n",
              "      border-bottom-color: var(--fill-color);\n",
              "    }\n",
              "    90% {\n",
              "      border-color: transparent;\n",
              "      border-bottom-color: var(--fill-color);\n",
              "    }\n",
              "  }\n",
              "</style>\n",
              "\n",
              "  <script>\n",
              "    async function quickchart(key) {\n",
              "      const quickchartButtonEl =\n",
              "        document.querySelector('#' + key + ' button');\n",
              "      quickchartButtonEl.disabled = true;  // To prevent multiple clicks.\n",
              "      quickchartButtonEl.classList.add('colab-df-spinner');\n",
              "      try {\n",
              "        const charts = await google.colab.kernel.invokeFunction(\n",
              "            'suggestCharts', [key], {});\n",
              "      } catch (error) {\n",
              "        console.error('Error during call to suggestCharts:', error);\n",
              "      }\n",
              "      quickchartButtonEl.classList.remove('colab-df-spinner');\n",
              "      quickchartButtonEl.classList.add('colab-df-quickchart-complete');\n",
              "    }\n",
              "    (() => {\n",
              "      let quickchartButtonEl =\n",
              "        document.querySelector('#df-e70a0b71-dfdf-43ce-917b-f89cb1b30b5b button');\n",
              "      quickchartButtonEl.style.display =\n",
              "        google.colab.kernel.accessAllowed ? 'block' : 'none';\n",
              "    })();\n",
              "  </script>\n",
              "</div>\n",
              "    </div>\n",
              "  </div>\n"
            ]
          },
          "metadata": {},
          "execution_count": 23
        }
      ]
    },
    {
      "cell_type": "markdown",
      "metadata": {
        "id": "Xjsk7x46nN2P"
      },
      "source": [
        "### Berdasarkan hasil di atas, kita akan mengambil model:\n",
        "1. Linear Regression\n",
        "2. Ridge Regression\n",
        "3. Lasso Regression\n",
        "4. Random Forest\n",
        "\n",
        "Karena dari keempat model tersebut memiliki nilai MAE dan MAPE terendah dengan perbedaan antar model tidak begitu jauh"
      ]
    },
    {
      "cell_type": "markdown",
      "metadata": {
        "id": "ysOoYka8tdyT"
      },
      "source": [
        "#Evaluasi"
      ]
    },
    {
      "cell_type": "code",
      "execution_count": null,
      "metadata": {
        "id": "swk6xZjznIgF"
      },
      "outputs": [],
      "source": [
        "#Fungsi untuk menampilkan hasil evaluasi metric\n",
        "def regression_eval(aktual, prediksi, name):\n",
        "    mae = mean_absolute_error(aktual, prediksi)\n",
        "    mse = mean_squared_error(aktual, prediksi)\n",
        "    rmse = np.sqrt(mse)\n",
        "    r2 = r2_score(aktual, prediksi)\n",
        "    print('Evaluation Model:', name)\n",
        "    print('Mean Absolute Error (MAE):', round(mae, 2))\n",
        "    print('Mean Squared Error (MSE):', round(mse, 2))\n",
        "    print('Root Mean Squared Error (RMSE):', round(rmse, 2))\n",
        "    print('R-squared (R2):', r2*100, '%')"
      ]
    },
    {
      "cell_type": "markdown",
      "metadata": {
        "id": "qbvTvHfPr03u"
      },
      "source": [
        "#### 1. Linear Regression Eval"
      ]
    },
    {
      "cell_type": "code",
      "execution_count": null,
      "metadata": {
        "id": "WsR19FfCngY3",
        "colab": {
          "base_uri": "https://localhost:8080/"
        },
        "outputId": "b21163e8-2eaa-4ff1-c24f-fa0f0781dbbe"
      },
      "outputs": [
        {
          "output_type": "stream",
          "name": "stdout",
          "text": [
            "Evaluation Model: Linear Regression Eval (Train)\n",
            "Mean Absolute Error (MAE): 2645.54\n",
            "Mean Squared Error (MSE): 10655388.31\n",
            "Root Mean Squared Error (RMSE): 3264.26\n",
            "R-squared (R2): 99.99986933005185 %\n"
          ]
        }
      ],
      "source": [
        "regression_eval(y_train, linear_reg_train, 'Linear Regression Eval (Train)')"
      ]
    },
    {
      "cell_type": "code",
      "execution_count": null,
      "metadata": {
        "id": "7I-q0F2SoHAo",
        "colab": {
          "base_uri": "https://localhost:8080/"
        },
        "outputId": "0967e466-b9b4-4402-aa59-9fcf6d8f77bb"
      },
      "outputs": [
        {
          "output_type": "stream",
          "name": "stdout",
          "text": [
            "Evaluation Model: Linear Regression Eval (Test)\n",
            "Mean Absolute Error (MAE): 2631.72\n",
            "Mean Squared Error (MSE): 10579140.64\n",
            "Root Mean Squared Error (RMSE): 3252.56\n",
            "R-squared (R2): 99.99987921640246 %\n"
          ]
        }
      ],
      "source": [
        "regression_eval(y_test, linear_reg_preds, 'Linear Regression Eval (Test)')"
      ]
    },
    {
      "cell_type": "markdown",
      "metadata": {
        "id": "6T74qwa-r4Nq"
      },
      "source": [
        "#### 2. Ridge Regression Eval"
      ]
    },
    {
      "cell_type": "code",
      "execution_count": null,
      "metadata": {
        "id": "y5gGKf3toXYw",
        "colab": {
          "base_uri": "https://localhost:8080/"
        },
        "outputId": "ec5f4e23-e18d-4cc1-f5c7-fcc0568fb069"
      },
      "outputs": [
        {
          "output_type": "stream",
          "name": "stdout",
          "text": [
            "Evaluation Model: Ridge Regression (Train)\n",
            "Mean Absolute Error (MAE): 2659.15\n",
            "Mean Squared Error (MSE): 10782797.77\n",
            "Root Mean Squared Error (RMSE): 3283.72\n",
            "R-squared (R2): 99.99986776759462 %\n"
          ]
        }
      ],
      "source": [
        "regression_eval(y_train, ridge_train, 'Ridge Regression (Train)')"
      ]
    },
    {
      "cell_type": "code",
      "execution_count": null,
      "metadata": {
        "id": "h3NHp4DepWr8",
        "colab": {
          "base_uri": "https://localhost:8080/"
        },
        "outputId": "043965a8-71a5-48c0-b828-cd1ca798f8e4"
      },
      "outputs": [
        {
          "output_type": "stream",
          "name": "stdout",
          "text": [
            "Evaluation Model: Ridge Regression (Test)\n",
            "Mean Absolute Error (MAE): 2655.24\n",
            "Mean Squared Error (MSE): 10738099.87\n",
            "Root Mean Squared Error (RMSE): 3276.9\n",
            "R-squared (R2): 99.9998774015417 %\n"
          ]
        }
      ],
      "source": [
        "regression_eval(y_test, ridge_preds, 'Ridge Regression (Test)')"
      ]
    },
    {
      "cell_type": "markdown",
      "metadata": {
        "id": "tNnCJVV4r8W7"
      },
      "source": [
        "#### 3. Lasso Regression Eval"
      ]
    },
    {
      "cell_type": "code",
      "execution_count": null,
      "metadata": {
        "id": "K1ggGBxWr_-B",
        "colab": {
          "base_uri": "https://localhost:8080/"
        },
        "outputId": "4365b382-b012-4f50-8b9d-a3989fc7447e"
      },
      "outputs": [
        {
          "output_type": "stream",
          "name": "stdout",
          "text": [
            "Evaluation Model: Lasso Regression (Train)\n",
            "Mean Absolute Error (MAE): 2645.51\n",
            "Mean Squared Error (MSE): 10655393.33\n",
            "Root Mean Squared Error (RMSE): 3264.26\n",
            "R-squared (R2): 99.99986932999022 %\n"
          ]
        }
      ],
      "source": [
        "regression_eval(y_train, lasso_train, 'Lasso Regression (Train)')"
      ]
    },
    {
      "cell_type": "code",
      "execution_count": null,
      "metadata": {
        "id": "wBDhyWYvsEba",
        "colab": {
          "base_uri": "https://localhost:8080/"
        },
        "outputId": "f136d3db-3a79-4830-bb74-1a1949b6162a"
      },
      "outputs": [
        {
          "output_type": "stream",
          "name": "stdout",
          "text": [
            "Evaluation Model: Lasso Regression (Test)\n",
            "Mean Absolute Error (MAE): 2631.68\n",
            "Mean Squared Error (MSE): 10578761.46\n",
            "Root Mean Squared Error (RMSE): 3252.5\n",
            "R-squared (R2): 99.99987922073169 %\n"
          ]
        }
      ],
      "source": [
        "regression_eval(y_test, lasso_preds, 'Lasso Regression (Test)')"
      ]
    },
    {
      "cell_type": "markdown",
      "metadata": {
        "id": "b_55OGOLtAi8"
      },
      "source": [
        "### 4. Random Forest"
      ]
    },
    {
      "cell_type": "code",
      "execution_count": null,
      "metadata": {
        "id": "P892EW2msEmM",
        "colab": {
          "base_uri": "https://localhost:8080/"
        },
        "outputId": "c993ce3b-e2dd-499c-fa86-1810108edf20"
      },
      "outputs": [
        {
          "output_type": "stream",
          "name": "stdout",
          "text": [
            "Evaluation Model: Random Forest Regression (Train)\n",
            "Mean Absolute Error (MAE): 1169.28\n",
            "Mean Squared Error (MSE): 2154145.84\n",
            "Root Mean Squared Error (RMSE): 1467.7\n",
            "R-squared (R2): 99.99997358311899 %\n"
          ]
        }
      ],
      "source": [
        "regression_eval(y_train, rf_train, 'Random Forest Regression (Train)')"
      ]
    },
    {
      "cell_type": "code",
      "execution_count": null,
      "metadata": {
        "id": "DFVMqB9BtNEa",
        "colab": {
          "base_uri": "https://localhost:8080/"
        },
        "outputId": "7553ff7e-460d-4025-ad6b-1011e3d5c5a3"
      },
      "outputs": [
        {
          "output_type": "stream",
          "name": "stdout",
          "text": [
            "Evaluation Model: Random Forest Regression (Test)\n",
            "Mean Absolute Error (MAE): 3258.07\n",
            "Mean Squared Error (MSE): 16557916.28\n",
            "Root Mean Squared Error (RMSE): 4069.14\n",
            "R-squared (R2): 99.99981095584573 %\n"
          ]
        }
      ],
      "source": [
        "regression_eval(y_test, rf_preds, 'Random Forest Regression (Test)')"
      ]
    },
    {
      "cell_type": "markdown",
      "source": [
        "Pada model random forest, nilai MAE mengalami kenaikan saat testing sehingga tidak cocok untuk data ini.\n",
        "\n",
        "Ketiga model lainnya memliki"
      ],
      "metadata": {
        "id": "AQpRAbKEW7RX"
      }
    },
    {
      "cell_type": "code",
      "execution_count": null,
      "metadata": {
        "id": "Az5Q6-7HmezM",
        "colab": {
          "base_uri": "https://localhost:8080/",
          "height": 771
        },
        "outputId": "97cde130-aa41-4fec-ad7c-2dbb87300efb"
      },
      "outputs": [
        {
          "output_type": "display_data",
          "data": {
            "text/plain": [
              "<pandas.io.formats.style.Styler at 0x7910e56e4670>"
            ],
            "text/html": [
              "<style type=\"text/css\">\n",
              "#T_e794a_row8_col1 {\n",
              "  background-color: lightgreen;\n",
              "}\n",
              "</style>\n",
              "<table id=\"T_e794a\" class=\"dataframe\">\n",
              "  <thead>\n",
              "    <tr>\n",
              "      <th class=\"blank level0\" >&nbsp;</th>\n",
              "      <th id=\"T_e794a_level0_col0\" class=\"col_heading level0 col0\" >Description</th>\n",
              "      <th id=\"T_e794a_level0_col1\" class=\"col_heading level0 col1\" >Value</th>\n",
              "    </tr>\n",
              "  </thead>\n",
              "  <tbody>\n",
              "    <tr>\n",
              "      <th id=\"T_e794a_level0_row0\" class=\"row_heading level0 row0\" >0</th>\n",
              "      <td id=\"T_e794a_row0_col0\" class=\"data row0 col0\" >Session id</td>\n",
              "      <td id=\"T_e794a_row0_col1\" class=\"data row0 col1\" >111</td>\n",
              "    </tr>\n",
              "    <tr>\n",
              "      <th id=\"T_e794a_level0_row1\" class=\"row_heading level0 row1\" >1</th>\n",
              "      <td id=\"T_e794a_row1_col0\" class=\"data row1 col0\" >Target</td>\n",
              "      <td id=\"T_e794a_row1_col1\" class=\"data row1 col1\" >price</td>\n",
              "    </tr>\n",
              "    <tr>\n",
              "      <th id=\"T_e794a_level0_row2\" class=\"row_heading level0 row2\" >2</th>\n",
              "      <td id=\"T_e794a_row2_col0\" class=\"data row2 col0\" >Target type</td>\n",
              "      <td id=\"T_e794a_row2_col1\" class=\"data row2 col1\" >Regression</td>\n",
              "    </tr>\n",
              "    <tr>\n",
              "      <th id=\"T_e794a_level0_row3\" class=\"row_heading level0 row3\" >3</th>\n",
              "      <td id=\"T_e794a_row3_col0\" class=\"data row3 col0\" >Original data shape</td>\n",
              "      <td id=\"T_e794a_row3_col1\" class=\"data row3 col1\" >(10000, 6)</td>\n",
              "    </tr>\n",
              "    <tr>\n",
              "      <th id=\"T_e794a_level0_row4\" class=\"row_heading level0 row4\" >4</th>\n",
              "      <td id=\"T_e794a_row4_col0\" class=\"data row4 col0\" >Transformed data shape</td>\n",
              "      <td id=\"T_e794a_row4_col1\" class=\"data row4 col1\" >(9650, 6)</td>\n",
              "    </tr>\n",
              "    <tr>\n",
              "      <th id=\"T_e794a_level0_row5\" class=\"row_heading level0 row5\" >5</th>\n",
              "      <td id=\"T_e794a_row5_col0\" class=\"data row5 col0\" >Transformed train set shape</td>\n",
              "      <td id=\"T_e794a_row5_col1\" class=\"data row5 col1\" >(6650, 6)</td>\n",
              "    </tr>\n",
              "    <tr>\n",
              "      <th id=\"T_e794a_level0_row6\" class=\"row_heading level0 row6\" >6</th>\n",
              "      <td id=\"T_e794a_row6_col0\" class=\"data row6 col0\" >Transformed test set shape</td>\n",
              "      <td id=\"T_e794a_row6_col1\" class=\"data row6 col1\" >(3000, 6)</td>\n",
              "    </tr>\n",
              "    <tr>\n",
              "      <th id=\"T_e794a_level0_row7\" class=\"row_heading level0 row7\" >7</th>\n",
              "      <td id=\"T_e794a_row7_col0\" class=\"data row7 col0\" >Numeric features</td>\n",
              "      <td id=\"T_e794a_row7_col1\" class=\"data row7 col1\" >5</td>\n",
              "    </tr>\n",
              "    <tr>\n",
              "      <th id=\"T_e794a_level0_row8\" class=\"row_heading level0 row8\" >8</th>\n",
              "      <td id=\"T_e794a_row8_col0\" class=\"data row8 col0\" >Preprocess</td>\n",
              "      <td id=\"T_e794a_row8_col1\" class=\"data row8 col1\" >True</td>\n",
              "    </tr>\n",
              "    <tr>\n",
              "      <th id=\"T_e794a_level0_row9\" class=\"row_heading level0 row9\" >9</th>\n",
              "      <td id=\"T_e794a_row9_col0\" class=\"data row9 col0\" >Imputation type</td>\n",
              "      <td id=\"T_e794a_row9_col1\" class=\"data row9 col1\" >simple</td>\n",
              "    </tr>\n",
              "    <tr>\n",
              "      <th id=\"T_e794a_level0_row10\" class=\"row_heading level0 row10\" >10</th>\n",
              "      <td id=\"T_e794a_row10_col0\" class=\"data row10 col0\" >Numeric imputation</td>\n",
              "      <td id=\"T_e794a_row10_col1\" class=\"data row10 col1\" >mean</td>\n",
              "    </tr>\n",
              "    <tr>\n",
              "      <th id=\"T_e794a_level0_row11\" class=\"row_heading level0 row11\" >11</th>\n",
              "      <td id=\"T_e794a_row11_col0\" class=\"data row11 col0\" >Categorical imputation</td>\n",
              "      <td id=\"T_e794a_row11_col1\" class=\"data row11 col1\" >mode</td>\n",
              "    </tr>\n",
              "    <tr>\n",
              "      <th id=\"T_e794a_level0_row12\" class=\"row_heading level0 row12\" >12</th>\n",
              "      <td id=\"T_e794a_row12_col0\" class=\"data row12 col0\" >Remove outliers</td>\n",
              "      <td id=\"T_e794a_row12_col1\" class=\"data row12 col1\" >true</td>\n",
              "    </tr>\n",
              "    <tr>\n",
              "      <th id=\"T_e794a_level0_row13\" class=\"row_heading level0 row13\" >13</th>\n",
              "      <td id=\"T_e794a_row13_col0\" class=\"data row13 col0\" >Outliers threshold</td>\n",
              "      <td id=\"T_e794a_row13_col1\" class=\"data row13 col1\" >0.050000</td>\n",
              "    </tr>\n",
              "    <tr>\n",
              "      <th id=\"T_e794a_level0_row14\" class=\"row_heading level0 row14\" >14</th>\n",
              "      <td id=\"T_e794a_row14_col0\" class=\"data row14 col0\" >Normalize</td>\n",
              "      <td id=\"T_e794a_row14_col1\" class=\"data row14 col1\" >false</td>\n",
              "    </tr>\n",
              "    <tr>\n",
              "      <th id=\"T_e794a_level0_row15\" class=\"row_heading level0 row15\" >15</th>\n",
              "      <td id=\"T_e794a_row15_col0\" class=\"data row15 col0\" >Normalize method</td>\n",
              "      <td id=\"T_e794a_row15_col1\" class=\"data row15 col1\" >zscore</td>\n",
              "    </tr>\n",
              "    <tr>\n",
              "      <th id=\"T_e794a_level0_row16\" class=\"row_heading level0 row16\" >16</th>\n",
              "      <td id=\"T_e794a_row16_col0\" class=\"data row16 col0\" >Fold Generator</td>\n",
              "      <td id=\"T_e794a_row16_col1\" class=\"data row16 col1\" >KFold</td>\n",
              "    </tr>\n",
              "    <tr>\n",
              "      <th id=\"T_e794a_level0_row17\" class=\"row_heading level0 row17\" >17</th>\n",
              "      <td id=\"T_e794a_row17_col0\" class=\"data row17 col0\" >Fold Number</td>\n",
              "      <td id=\"T_e794a_row17_col1\" class=\"data row17 col1\" >10</td>\n",
              "    </tr>\n",
              "    <tr>\n",
              "      <th id=\"T_e794a_level0_row18\" class=\"row_heading level0 row18\" >18</th>\n",
              "      <td id=\"T_e794a_row18_col0\" class=\"data row18 col0\" >CPU Jobs</td>\n",
              "      <td id=\"T_e794a_row18_col1\" class=\"data row18 col1\" >-1</td>\n",
              "    </tr>\n",
              "    <tr>\n",
              "      <th id=\"T_e794a_level0_row19\" class=\"row_heading level0 row19\" >19</th>\n",
              "      <td id=\"T_e794a_row19_col0\" class=\"data row19 col0\" >Use GPU</td>\n",
              "      <td id=\"T_e794a_row19_col1\" class=\"data row19 col1\" >False</td>\n",
              "    </tr>\n",
              "    <tr>\n",
              "      <th id=\"T_e794a_level0_row20\" class=\"row_heading level0 row20\" >20</th>\n",
              "      <td id=\"T_e794a_row20_col0\" class=\"data row20 col0\" >Log Experiment</td>\n",
              "      <td id=\"T_e794a_row20_col1\" class=\"data row20 col1\" >False</td>\n",
              "    </tr>\n",
              "    <tr>\n",
              "      <th id=\"T_e794a_level0_row21\" class=\"row_heading level0 row21\" >21</th>\n",
              "      <td id=\"T_e794a_row21_col0\" class=\"data row21 col0\" >Experiment Name</td>\n",
              "      <td id=\"T_e794a_row21_col1\" class=\"data row21 col1\" >reg-default-name</td>\n",
              "    </tr>\n",
              "    <tr>\n",
              "      <th id=\"T_e794a_level0_row22\" class=\"row_heading level0 row22\" >22</th>\n",
              "      <td id=\"T_e794a_row22_col0\" class=\"data row22 col0\" >USI</td>\n",
              "      <td id=\"T_e794a_row22_col1\" class=\"data row22 col1\" >1e20</td>\n",
              "    </tr>\n",
              "  </tbody>\n",
              "</table>\n"
            ]
          },
          "metadata": {}
        }
      ],
      "source": [
        "from pycaret.regression import *\n",
        "reg = setup(session_id=111,\n",
        "            data = data,\n",
        "             target = 'price',\n",
        "             numeric_imputation = 'mean',\n",
        "            #categorical_features=['made', 'squareMeters'],\n",
        "            #  ignore_features = [''],\n",
        "             normalize = 'false',\n",
        "            fold=10,\n",
        "            remove_outliers='true'\n",
        "            # silent = True\n",
        "            )"
      ]
    },
    {
      "cell_type": "code",
      "execution_count": null,
      "metadata": {
        "id": "-APfA5o9mB4c",
        "colab": {
          "base_uri": "https://localhost:8080/"
        },
        "outputId": "7cd031b7-13ca-4fd6-d59e-f6914d5e77ec"
      },
      "outputs": [
        {
          "output_type": "stream",
          "name": "stdout",
          "text": [
            "                                 OLS Regression Results                                \n",
            "=======================================================================================\n",
            "Dep. Variable:                  price   R-squared (uncentered):                   1.000\n",
            "Model:                            OLS   Adj. R-squared (uncentered):              1.000\n",
            "Method:                 Least Squares   F-statistic:                          6.240e+09\n",
            "Date:                Mon, 11 Dec 2023   Prob (F-statistic):                        0.00\n",
            "Time:                        16:13:00   Log-Likelihood:                         -95090.\n",
            "No. Observations:               10000   AIC:                                  1.902e+05\n",
            "Df Residuals:                    9995   BIC:                                  1.902e+05\n",
            "Df Model:                           5                                                  \n",
            "Covariance Type:            nonrobust                                                  \n",
            "==================================================================================\n",
            "                     coef    std err          t      P>|t|      [0.025      0.975]\n",
            "----------------------------------------------------------------------------------\n",
            "made               3.2208      0.053     60.948      0.000       3.117       3.324\n",
            "squareMeters      99.9995      0.001   8.82e+04      0.000      99.997     100.002\n",
            "numberOfRooms      1.7861      1.133      1.577      0.115      -0.434       4.006\n",
            "hasStorageRoom     8.7940     65.262      0.135      0.893    -119.134     136.721\n",
            "hasGuestRoom     -18.6292     10.274     -1.813      0.070     -38.769       1.510\n",
            "==============================================================================\n",
            "Omnibus:                      294.061   Durbin-Watson:                   2.006\n",
            "Prob(Omnibus):                  0.000   Jarque-Bera (JB):              312.067\n",
            "Skew:                           0.420   Prob(JB):                     1.72e-68\n",
            "Kurtosis:                       2.791   Cond. No.                     1.15e+05\n",
            "==============================================================================\n",
            "\n",
            "Notes:\n",
            "[1] R² is computed without centering (uncentered) since the model does not contain a constant.\n",
            "[2] Standard Errors assume that the covariance matrix of the errors is correctly specified.\n",
            "[3] The condition number is large, 1.15e+05. This might indicate that there are\n",
            "strong multicollinearity or other numerical problems.\n"
          ]
        }
      ],
      "source": [
        "# Fit the linear regression model using statsmodels\n",
        "model = sm.OLS(y, X).fit()\n",
        "\n",
        "# Get a summary of the regression model\n",
        "model_summary = model.summary()\n",
        "\n",
        "# Print the model summary\n",
        "print(model_summary)"
      ]
    },
    {
      "cell_type": "code",
      "execution_count": null,
      "metadata": {
        "id": "5ySzBgzHgZGY",
        "colab": {
          "base_uri": "https://localhost:8080/",
          "height": 703,
          "referenced_widgets": [
            "ffe3f327ea8348d887d8720039c06817",
            "7d3d40dca6c046fcad1586862410f4b6",
            "3f1aebdb4b3d42a095e0de8b3d17884a",
            "584c62b1a356477faa4152efb3facb18",
            "7c692d3b8b92470c840fb2b0ca8c32b0",
            "38434d19fcbf464ea00122587280026f",
            "4f5beb10deb04a1db79c7e8a023d91a5",
            "94815c36f1f94b5bbfa28ed470a70737",
            "6b9017960494492b9dd5ddb5c4dc855a",
            "c70f3f3978a74ee28b6baea4aa791f8c",
            "5339adcb82024fbc87937a90ef8cb406"
          ]
        },
        "outputId": "4565c9b4-c099-4bab-cd54-7ea0c88df3d0"
      },
      "outputs": [
        {
          "output_type": "display_data",
          "data": {
            "text/plain": [
              "<IPython.core.display.HTML object>"
            ],
            "text/html": []
          },
          "metadata": {}
        },
        {
          "output_type": "display_data",
          "data": {
            "text/plain": [
              "<pandas.io.formats.style.Styler at 0x7910e51f3490>"
            ],
            "text/html": [
              "<style type=\"text/css\">\n",
              "#T_ae914 th {\n",
              "  text-align: left;\n",
              "}\n",
              "#T_ae914_row0_col0, #T_ae914_row0_col1, #T_ae914_row0_col2, #T_ae914_row0_col3, #T_ae914_row1_col0, #T_ae914_row1_col1, #T_ae914_row1_col2, #T_ae914_row1_col3, #T_ae914_row1_col5, #T_ae914_row1_col6, #T_ae914_row2_col0, #T_ae914_row2_col1, #T_ae914_row2_col2, #T_ae914_row2_col3, #T_ae914_row2_col5, #T_ae914_row2_col6, #T_ae914_row3_col0, #T_ae914_row3_col1, #T_ae914_row3_col2, #T_ae914_row3_col3, #T_ae914_row3_col5, #T_ae914_row3_col6, #T_ae914_row4_col0, #T_ae914_row4_col1, #T_ae914_row4_col2, #T_ae914_row4_col3, #T_ae914_row4_col5, #T_ae914_row4_col6, #T_ae914_row5_col0, #T_ae914_row5_col1, #T_ae914_row5_col2, #T_ae914_row5_col3, #T_ae914_row5_col5, #T_ae914_row5_col6, #T_ae914_row6_col0, #T_ae914_row6_col1, #T_ae914_row6_col2, #T_ae914_row6_col3, #T_ae914_row7_col0, #T_ae914_row7_col1, #T_ae914_row7_col2, #T_ae914_row7_col3, #T_ae914_row8_col0, #T_ae914_row8_col1, #T_ae914_row8_col2, #T_ae914_row8_col3, #T_ae914_row9_col0, #T_ae914_row9_col1, #T_ae914_row9_col5, #T_ae914_row10_col0, #T_ae914_row10_col2, #T_ae914_row10_col3, #T_ae914_row10_col5, #T_ae914_row11_col0, #T_ae914_row11_col1, #T_ae914_row11_col2, #T_ae914_row11_col3, #T_ae914_row12_col0, #T_ae914_row12_col1, #T_ae914_row12_col2, #T_ae914_row12_col3, #T_ae914_row12_col5, #T_ae914_row12_col6, #T_ae914_row13_col0, #T_ae914_row13_col1, #T_ae914_row13_col2, #T_ae914_row13_col3, #T_ae914_row13_col5, #T_ae914_row13_col6, #T_ae914_row14_col0, #T_ae914_row14_col1, #T_ae914_row14_col2, #T_ae914_row14_col3, #T_ae914_row14_col4, #T_ae914_row14_col5, #T_ae914_row14_col6, #T_ae914_row15_col0, #T_ae914_row15_col1, #T_ae914_row15_col2, #T_ae914_row15_col3, #T_ae914_row15_col4, #T_ae914_row15_col5, #T_ae914_row15_col6, #T_ae914_row16_col0, #T_ae914_row16_col1, #T_ae914_row16_col2, #T_ae914_row16_col3, #T_ae914_row16_col4, #T_ae914_row16_col5, #T_ae914_row16_col6, #T_ae914_row17_col0, #T_ae914_row17_col1, #T_ae914_row17_col2, #T_ae914_row17_col3, #T_ae914_row17_col4, #T_ae914_row17_col5, #T_ae914_row17_col6, #T_ae914_row18_col0, #T_ae914_row18_col1, #T_ae914_row18_col2, #T_ae914_row18_col3, #T_ae914_row18_col4, #T_ae914_row18_col5, #T_ae914_row18_col6 {\n",
              "  text-align: left;\n",
              "}\n",
              "#T_ae914_row0_col4, #T_ae914_row0_col5, #T_ae914_row0_col6, #T_ae914_row1_col4, #T_ae914_row2_col4, #T_ae914_row3_col4, #T_ae914_row4_col4, #T_ae914_row5_col4, #T_ae914_row6_col4, #T_ae914_row6_col5, #T_ae914_row6_col6, #T_ae914_row7_col4, #T_ae914_row7_col5, #T_ae914_row7_col6, #T_ae914_row8_col4, #T_ae914_row8_col5, #T_ae914_row8_col6, #T_ae914_row9_col2, #T_ae914_row9_col3, #T_ae914_row9_col4, #T_ae914_row9_col6, #T_ae914_row10_col1, #T_ae914_row10_col4, #T_ae914_row10_col6, #T_ae914_row11_col4, #T_ae914_row11_col5, #T_ae914_row11_col6, #T_ae914_row12_col4, #T_ae914_row13_col4 {\n",
              "  text-align: left;\n",
              "  background-color: yellow;\n",
              "}\n",
              "#T_ae914_row0_col7, #T_ae914_row1_col7, #T_ae914_row2_col7, #T_ae914_row3_col7, #T_ae914_row4_col7, #T_ae914_row5_col7, #T_ae914_row6_col7, #T_ae914_row7_col7, #T_ae914_row8_col7, #T_ae914_row9_col7, #T_ae914_row10_col7, #T_ae914_row12_col7, #T_ae914_row13_col7, #T_ae914_row14_col7, #T_ae914_row15_col7, #T_ae914_row16_col7, #T_ae914_row17_col7, #T_ae914_row18_col7 {\n",
              "  text-align: left;\n",
              "  background-color: lightgrey;\n",
              "}\n",
              "#T_ae914_row11_col7 {\n",
              "  text-align: left;\n",
              "  background-color: yellow;\n",
              "  background-color: lightgrey;\n",
              "}\n",
              "</style>\n",
              "<table id=\"T_ae914\" class=\"dataframe\">\n",
              "  <thead>\n",
              "    <tr>\n",
              "      <th class=\"blank level0\" >&nbsp;</th>\n",
              "      <th id=\"T_ae914_level0_col0\" class=\"col_heading level0 col0\" >Model</th>\n",
              "      <th id=\"T_ae914_level0_col1\" class=\"col_heading level0 col1\" >MAE</th>\n",
              "      <th id=\"T_ae914_level0_col2\" class=\"col_heading level0 col2\" >MSE</th>\n",
              "      <th id=\"T_ae914_level0_col3\" class=\"col_heading level0 col3\" >RMSE</th>\n",
              "      <th id=\"T_ae914_level0_col4\" class=\"col_heading level0 col4\" >R2</th>\n",
              "      <th id=\"T_ae914_level0_col5\" class=\"col_heading level0 col5\" >RMSLE</th>\n",
              "      <th id=\"T_ae914_level0_col6\" class=\"col_heading level0 col6\" >MAPE</th>\n",
              "      <th id=\"T_ae914_level0_col7\" class=\"col_heading level0 col7\" >TT (Sec)</th>\n",
              "    </tr>\n",
              "  </thead>\n",
              "  <tbody>\n",
              "    <tr>\n",
              "      <th id=\"T_ae914_level0_row0\" class=\"row_heading level0 row0\" >lr</th>\n",
              "      <td id=\"T_ae914_row0_col0\" class=\"data row0 col0\" >Linear Regression</td>\n",
              "      <td id=\"T_ae914_row0_col1\" class=\"data row0 col1\" >2637.0211</td>\n",
              "      <td id=\"T_ae914_row0_col2\" class=\"data row0 col2\" >10667454.9563</td>\n",
              "      <td id=\"T_ae914_row0_col3\" class=\"data row0 col3\" >3265.4431</td>\n",
              "      <td id=\"T_ae914_row0_col4\" class=\"data row0 col4\" >1.0000</td>\n",
              "      <td id=\"T_ae914_row0_col5\" class=\"data row0 col5\" >0.0093</td>\n",
              "      <td id=\"T_ae914_row0_col6\" class=\"data row0 col6\" >0.0019</td>\n",
              "      <td id=\"T_ae914_row0_col7\" class=\"data row0 col7\" >1.3410</td>\n",
              "    </tr>\n",
              "    <tr>\n",
              "      <th id=\"T_ae914_level0_row1\" class=\"row_heading level0 row1\" >dt</th>\n",
              "      <td id=\"T_ae914_row1_col0\" class=\"data row1 col0\" >Decision Tree Regressor</td>\n",
              "      <td id=\"T_ae914_row1_col1\" class=\"data row1 col1\" >4322.1507</td>\n",
              "      <td id=\"T_ae914_row1_col2\" class=\"data row1 col2\" >30031652.8292</td>\n",
              "      <td id=\"T_ae914_row1_col3\" class=\"data row1 col3\" >5477.3157</td>\n",
              "      <td id=\"T_ae914_row1_col4\" class=\"data row1 col4\" >1.0000</td>\n",
              "      <td id=\"T_ae914_row1_col5\" class=\"data row1 col5\" >0.0128</td>\n",
              "      <td id=\"T_ae914_row1_col6\" class=\"data row1 col6\" >0.0030</td>\n",
              "      <td id=\"T_ae914_row1_col7\" class=\"data row1 col7\" >0.3300</td>\n",
              "    </tr>\n",
              "    <tr>\n",
              "      <th id=\"T_ae914_level0_row2\" class=\"row_heading level0 row2\" >lightgbm</th>\n",
              "      <td id=\"T_ae914_row2_col0\" class=\"data row2 col0\" >Light Gradient Boosting Machine</td>\n",
              "      <td id=\"T_ae914_row2_col1\" class=\"data row2 col1\" >10771.8153</td>\n",
              "      <td id=\"T_ae914_row2_col2\" class=\"data row2 col2\" >168273790.9296</td>\n",
              "      <td id=\"T_ae914_row2_col3\" class=\"data row2 col3\" >12969.1028</td>\n",
              "      <td id=\"T_ae914_row2_col4\" class=\"data row2 col4\" >1.0000</td>\n",
              "      <td id=\"T_ae914_row2_col5\" class=\"data row2 col5\" >0.0375</td>\n",
              "      <td id=\"T_ae914_row2_col6\" class=\"data row2 col6\" >0.0089</td>\n",
              "      <td id=\"T_ae914_row2_col7\" class=\"data row2 col7\" >0.6720</td>\n",
              "    </tr>\n",
              "    <tr>\n",
              "      <th id=\"T_ae914_level0_row3\" class=\"row_heading level0 row3\" >gbr</th>\n",
              "      <td id=\"T_ae914_row3_col0\" class=\"data row3 col0\" >Gradient Boosting Regressor</td>\n",
              "      <td id=\"T_ae914_row3_col1\" class=\"data row3 col1\" >15192.7398</td>\n",
              "      <td id=\"T_ae914_row3_col2\" class=\"data row3 col2\" >398159103.8766</td>\n",
              "      <td id=\"T_ae914_row3_col3\" class=\"data row3 col3\" >19946.2209</td>\n",
              "      <td id=\"T_ae914_row3_col4\" class=\"data row3 col4\" >1.0000</td>\n",
              "      <td id=\"T_ae914_row3_col5\" class=\"data row3 col5\" >0.0229</td>\n",
              "      <td id=\"T_ae914_row3_col6\" class=\"data row3 col6\" >0.0075</td>\n",
              "      <td id=\"T_ae914_row3_col7\" class=\"data row3 col7\" >0.7520</td>\n",
              "    </tr>\n",
              "    <tr>\n",
              "      <th id=\"T_ae914_level0_row4\" class=\"row_heading level0 row4\" >et</th>\n",
              "      <td id=\"T_ae914_row4_col0\" class=\"data row4 col0\" >Extra Trees Regressor</td>\n",
              "      <td id=\"T_ae914_row4_col1\" class=\"data row4 col1\" >3112.6509</td>\n",
              "      <td id=\"T_ae914_row4_col2\" class=\"data row4 col2\" >15073742.3585</td>\n",
              "      <td id=\"T_ae914_row4_col3\" class=\"data row4 col3\" >3880.9890</td>\n",
              "      <td id=\"T_ae914_row4_col4\" class=\"data row4 col4\" >1.0000</td>\n",
              "      <td id=\"T_ae914_row4_col5\" class=\"data row4 col5\" >0.0112</td>\n",
              "      <td id=\"T_ae914_row4_col6\" class=\"data row4 col6\" >0.0023</td>\n",
              "      <td id=\"T_ae914_row4_col7\" class=\"data row4 col7\" >1.8200</td>\n",
              "    </tr>\n",
              "    <tr>\n",
              "      <th id=\"T_ae914_level0_row5\" class=\"row_heading level0 row5\" >rf</th>\n",
              "      <td id=\"T_ae914_row5_col0\" class=\"data row5 col0\" >Random Forest Regressor</td>\n",
              "      <td id=\"T_ae914_row5_col1\" class=\"data row5 col1\" >3255.9791</td>\n",
              "      <td id=\"T_ae914_row5_col2\" class=\"data row5 col2\" >16576082.4637</td>\n",
              "      <td id=\"T_ae914_row5_col3\" class=\"data row5 col3\" >4070.0372</td>\n",
              "      <td id=\"T_ae914_row5_col4\" class=\"data row5 col4\" >1.0000</td>\n",
              "      <td id=\"T_ae914_row5_col5\" class=\"data row5 col5\" >0.0106</td>\n",
              "      <td id=\"T_ae914_row5_col6\" class=\"data row5 col6\" >0.0023</td>\n",
              "      <td id=\"T_ae914_row5_col7\" class=\"data row5 col7\" >1.4410</td>\n",
              "    </tr>\n",
              "    <tr>\n",
              "      <th id=\"T_ae914_level0_row6\" class=\"row_heading level0 row6\" >br</th>\n",
              "      <td id=\"T_ae914_row6_col0\" class=\"data row6 col0\" >Bayesian Ridge</td>\n",
              "      <td id=\"T_ae914_row6_col1\" class=\"data row6 col1\" >2637.0211</td>\n",
              "      <td id=\"T_ae914_row6_col2\" class=\"data row6 col2\" >10667454.9953</td>\n",
              "      <td id=\"T_ae914_row6_col3\" class=\"data row6 col3\" >3265.4431</td>\n",
              "      <td id=\"T_ae914_row6_col4\" class=\"data row6 col4\" >1.0000</td>\n",
              "      <td id=\"T_ae914_row6_col5\" class=\"data row6 col5\" >0.0093</td>\n",
              "      <td id=\"T_ae914_row6_col6\" class=\"data row6 col6\" >0.0019</td>\n",
              "      <td id=\"T_ae914_row6_col7\" class=\"data row6 col7\" >0.4330</td>\n",
              "    </tr>\n",
              "    <tr>\n",
              "      <th id=\"T_ae914_level0_row7\" class=\"row_heading level0 row7\" >lasso</th>\n",
              "      <td id=\"T_ae914_row7_col0\" class=\"data row7 col0\" >Lasso Regression</td>\n",
              "      <td id=\"T_ae914_row7_col1\" class=\"data row7 col1\" >2636.9111</td>\n",
              "      <td id=\"T_ae914_row7_col2\" class=\"data row7 col2\" >10666820.6336</td>\n",
              "      <td id=\"T_ae914_row7_col3\" class=\"data row7 col3\" >3265.3449</td>\n",
              "      <td id=\"T_ae914_row7_col4\" class=\"data row7 col4\" >1.0000</td>\n",
              "      <td id=\"T_ae914_row7_col5\" class=\"data row7 col5\" >0.0093</td>\n",
              "      <td id=\"T_ae914_row7_col6\" class=\"data row7 col6\" >0.0019</td>\n",
              "      <td id=\"T_ae914_row7_col7\" class=\"data row7 col7\" >0.8170</td>\n",
              "    </tr>\n",
              "    <tr>\n",
              "      <th id=\"T_ae914_level0_row8\" class=\"row_heading level0 row8\" >llar</th>\n",
              "      <td id=\"T_ae914_row8_col0\" class=\"data row8 col0\" >Lasso Least Angle Regression</td>\n",
              "      <td id=\"T_ae914_row8_col1\" class=\"data row8 col1\" >2636.9093</td>\n",
              "      <td id=\"T_ae914_row8_col2\" class=\"data row8 col2\" >10666811.0520</td>\n",
              "      <td id=\"T_ae914_row8_col3\" class=\"data row8 col3\" >3265.3434</td>\n",
              "      <td id=\"T_ae914_row8_col4\" class=\"data row8 col4\" >1.0000</td>\n",
              "      <td id=\"T_ae914_row8_col5\" class=\"data row8 col5\" >0.0093</td>\n",
              "      <td id=\"T_ae914_row8_col6\" class=\"data row8 col6\" >0.0019</td>\n",
              "      <td id=\"T_ae914_row8_col7\" class=\"data row8 col7\" >0.3170</td>\n",
              "    </tr>\n",
              "    <tr>\n",
              "      <th id=\"T_ae914_level0_row9\" class=\"row_heading level0 row9\" >omp</th>\n",
              "      <td id=\"T_ae914_row9_col0\" class=\"data row9 col0\" >Orthogonal Matching Pursuit</td>\n",
              "      <td id=\"T_ae914_row9_col1\" class=\"data row9 col1\" >2634.5041</td>\n",
              "      <td id=\"T_ae914_row9_col2\" class=\"data row9 col2\" >10656940.2089</td>\n",
              "      <td id=\"T_ae914_row9_col3\" class=\"data row9 col3\" >3263.7601</td>\n",
              "      <td id=\"T_ae914_row9_col4\" class=\"data row9 col4\" >1.0000</td>\n",
              "      <td id=\"T_ae914_row9_col5\" class=\"data row9 col5\" >0.0094</td>\n",
              "      <td id=\"T_ae914_row9_col6\" class=\"data row9 col6\" >0.0019</td>\n",
              "      <td id=\"T_ae914_row9_col7\" class=\"data row9 col7\" >0.3290</td>\n",
              "    </tr>\n",
              "    <tr>\n",
              "      <th id=\"T_ae914_level0_row10\" class=\"row_heading level0 row10\" >huber</th>\n",
              "      <td id=\"T_ae914_row10_col0\" class=\"data row10 col0\" >Huber Regressor</td>\n",
              "      <td id=\"T_ae914_row10_col1\" class=\"data row10 col1\" >2634.0136</td>\n",
              "      <td id=\"T_ae914_row10_col2\" class=\"data row10 col2\" >10739449.1897</td>\n",
              "      <td id=\"T_ae914_row10_col3\" class=\"data row10 col3\" >3276.3165</td>\n",
              "      <td id=\"T_ae914_row10_col4\" class=\"data row10 col4\" >1.0000</td>\n",
              "      <td id=\"T_ae914_row10_col5\" class=\"data row10 col5\" >0.0094</td>\n",
              "      <td id=\"T_ae914_row10_col6\" class=\"data row10 col6\" >0.0019</td>\n",
              "      <td id=\"T_ae914_row10_col7\" class=\"data row10 col7\" >0.3550</td>\n",
              "    </tr>\n",
              "    <tr>\n",
              "      <th id=\"T_ae914_level0_row11\" class=\"row_heading level0 row11\" >lar</th>\n",
              "      <td id=\"T_ae914_row11_col0\" class=\"data row11 col0\" >Least Angle Regression</td>\n",
              "      <td id=\"T_ae914_row11_col1\" class=\"data row11 col1\" >2637.0211</td>\n",
              "      <td id=\"T_ae914_row11_col2\" class=\"data row11 col2\" >10667454.9563</td>\n",
              "      <td id=\"T_ae914_row11_col3\" class=\"data row11 col3\" >3265.4431</td>\n",
              "      <td id=\"T_ae914_row11_col4\" class=\"data row11 col4\" >1.0000</td>\n",
              "      <td id=\"T_ae914_row11_col5\" class=\"data row11 col5\" >0.0093</td>\n",
              "      <td id=\"T_ae914_row11_col6\" class=\"data row11 col6\" >0.0019</td>\n",
              "      <td id=\"T_ae914_row11_col7\" class=\"data row11 col7\" >0.3140</td>\n",
              "    </tr>\n",
              "    <tr>\n",
              "      <th id=\"T_ae914_level0_row12\" class=\"row_heading level0 row12\" >ridge</th>\n",
              "      <td id=\"T_ae914_row12_col0\" class=\"data row12 col0\" >Ridge Regression</td>\n",
              "      <td id=\"T_ae914_row12_col1\" class=\"data row12 col1\" >2666.9182</td>\n",
              "      <td id=\"T_ae914_row12_col2\" class=\"data row12 col2\" >10904639.4214</td>\n",
              "      <td id=\"T_ae914_row12_col3\" class=\"data row12 col3\" >3301.4323</td>\n",
              "      <td id=\"T_ae914_row12_col4\" class=\"data row12 col4\" >1.0000</td>\n",
              "      <td id=\"T_ae914_row12_col5\" class=\"data row12 col5\" >0.0101</td>\n",
              "      <td id=\"T_ae914_row12_col6\" class=\"data row12 col6\" >0.0020</td>\n",
              "      <td id=\"T_ae914_row12_col7\" class=\"data row12 col7\" >0.5840</td>\n",
              "    </tr>\n",
              "    <tr>\n",
              "      <th id=\"T_ae914_level0_row13\" class=\"row_heading level0 row13\" >xgboost</th>\n",
              "      <td id=\"T_ae914_row13_col0\" class=\"data row13 col0\" >Extreme Gradient Boosting</td>\n",
              "      <td id=\"T_ae914_row13_col1\" class=\"data row13 col1\" >11588.2860</td>\n",
              "      <td id=\"T_ae914_row13_col2\" class=\"data row13 col2\" >202399272.0000</td>\n",
              "      <td id=\"T_ae914_row13_col3\" class=\"data row13 col3\" >14223.4950</td>\n",
              "      <td id=\"T_ae914_row13_col4\" class=\"data row13 col4\" >1.0000</td>\n",
              "      <td id=\"T_ae914_row13_col5\" class=\"data row13 col5\" >0.0428</td>\n",
              "      <td id=\"T_ae914_row13_col6\" class=\"data row13 col6\" >0.0090</td>\n",
              "      <td id=\"T_ae914_row13_col7\" class=\"data row13 col7\" >0.3740</td>\n",
              "    </tr>\n",
              "    <tr>\n",
              "      <th id=\"T_ae914_level0_row14\" class=\"row_heading level0 row14\" >knn</th>\n",
              "      <td id=\"T_ae914_row14_col0\" class=\"data row14 col0\" >K Neighbors Regressor</td>\n",
              "      <td id=\"T_ae914_row14_col1\" class=\"data row14 col1\" >244931.4797</td>\n",
              "      <td id=\"T_ae914_row14_col2\" class=\"data row14 col2\" >99523611852.8000</td>\n",
              "      <td id=\"T_ae914_row14_col3\" class=\"data row14 col3\" >315347.3938</td>\n",
              "      <td id=\"T_ae914_row14_col4\" class=\"data row14 col4\" >0.9879</td>\n",
              "      <td id=\"T_ae914_row14_col5\" class=\"data row14 col5\" >0.3635</td>\n",
              "      <td id=\"T_ae914_row14_col6\" class=\"data row14 col6\" >0.3010</td>\n",
              "      <td id=\"T_ae914_row14_col7\" class=\"data row14 col7\" >0.4240</td>\n",
              "    </tr>\n",
              "    <tr>\n",
              "      <th id=\"T_ae914_level0_row15\" class=\"row_heading level0 row15\" >ada</th>\n",
              "      <td id=\"T_ae914_row15_col0\" class=\"data row15 col0\" >AdaBoost Regressor</td>\n",
              "      <td id=\"T_ae914_row15_col1\" class=\"data row15 col1\" >299180.4438</td>\n",
              "      <td id=\"T_ae914_row15_col2\" class=\"data row15 col2\" >119167542082.2153</td>\n",
              "      <td id=\"T_ae914_row15_col3\" class=\"data row15 col3\" >343929.8393</td>\n",
              "      <td id=\"T_ae914_row15_col4\" class=\"data row15 col4\" >0.9855</td>\n",
              "      <td id=\"T_ae914_row15_col5\" class=\"data row15 col5\" >0.3560</td>\n",
              "      <td id=\"T_ae914_row15_col6\" class=\"data row15 col6\" >0.2968</td>\n",
              "      <td id=\"T_ae914_row15_col7\" class=\"data row15 col7\" >0.7130</td>\n",
              "    </tr>\n",
              "    <tr>\n",
              "      <th id=\"T_ae914_level0_row16\" class=\"row_heading level0 row16\" >par</th>\n",
              "      <td id=\"T_ae914_row16_col0\" class=\"data row16 col0\" >Passive Aggressive Regressor</td>\n",
              "      <td id=\"T_ae914_row16_col1\" class=\"data row16 col1\" >620229.8146</td>\n",
              "      <td id=\"T_ae914_row16_col2\" class=\"data row16 col2\" >575493047510.6661</td>\n",
              "      <td id=\"T_ae914_row16_col3\" class=\"data row16 col3\" >758573.0719</td>\n",
              "      <td id=\"T_ae914_row16_col4\" class=\"data row16 col4\" >0.9303</td>\n",
              "      <td id=\"T_ae914_row16_col5\" class=\"data row16 col5\" >0.3165</td>\n",
              "      <td id=\"T_ae914_row16_col6\" class=\"data row16 col6\" >0.2640</td>\n",
              "      <td id=\"T_ae914_row16_col7\" class=\"data row16 col7\" >0.5260</td>\n",
              "    </tr>\n",
              "    <tr>\n",
              "      <th id=\"T_ae914_level0_row17\" class=\"row_heading level0 row17\" >en</th>\n",
              "      <td id=\"T_ae914_row17_col0\" class=\"data row17 col0\" >Elastic Net</td>\n",
              "      <td id=\"T_ae914_row17_col1\" class=\"data row17 col1\" >828038.6074</td>\n",
              "      <td id=\"T_ae914_row17_col2\" class=\"data row17 col2\" >919520452002.3662</td>\n",
              "      <td id=\"T_ae914_row17_col3\" class=\"data row17 col3\" >958872.0714</td>\n",
              "      <td id=\"T_ae914_row17_col4\" class=\"data row17 col4\" >0.8887</td>\n",
              "      <td id=\"T_ae914_row17_col5\" class=\"data row17 col5\" >0.6390</td>\n",
              "      <td id=\"T_ae914_row17_col6\" class=\"data row17 col6\" >0.9619</td>\n",
              "      <td id=\"T_ae914_row17_col7\" class=\"data row17 col7\" >0.6380</td>\n",
              "    </tr>\n",
              "    <tr>\n",
              "      <th id=\"T_ae914_level0_row18\" class=\"row_heading level0 row18\" >dummy</th>\n",
              "      <td id=\"T_ae914_row18_col0\" class=\"data row18 col0\" >Dummy Regressor</td>\n",
              "      <td id=\"T_ae914_row18_col1\" class=\"data row18 col1\" >2482568.7500</td>\n",
              "      <td id=\"T_ae914_row18_col2\" class=\"data row18 col2\" >8266688128614.4004</td>\n",
              "      <td id=\"T_ae914_row18_col3\" class=\"data row18 col3\" >2875044.4500</td>\n",
              "      <td id=\"T_ae914_row18_col4\" class=\"data row18 col4\" >-0.0010</td>\n",
              "      <td id=\"T_ae914_row18_col5\" class=\"data row18 col5\" >1.0404</td>\n",
              "      <td id=\"T_ae914_row18_col6\" class=\"data row18 col6\" >2.8831</td>\n",
              "      <td id=\"T_ae914_row18_col7\" class=\"data row18 col7\" >0.3660</td>\n",
              "    </tr>\n",
              "  </tbody>\n",
              "</table>\n"
            ]
          },
          "metadata": {}
        },
        {
          "output_type": "display_data",
          "data": {
            "text/plain": [
              "Processing:   0%|          | 0/81 [00:00<?, ?it/s]"
            ],
            "application/vnd.jupyter.widget-view+json": {
              "version_major": 2,
              "version_minor": 0,
              "model_id": "ffe3f327ea8348d887d8720039c06817"
            }
          },
          "metadata": {
            "application/vnd.jupyter.widget-view+json": {
              "colab": {
                "custom_widget_manager": {
                  "url": "https://ssl.gstatic.com/colaboratory-static/widgets/colab-cdn-widget-manager/b3e629b1971e1542/manager.min.js"
                }
              }
            }
          }
        },
        {
          "output_type": "display_data",
          "data": {
            "text/plain": [
              "<IPython.core.display.HTML object>"
            ],
            "text/html": []
          },
          "metadata": {}
        },
        {
          "output_type": "execute_result",
          "data": {
            "text/plain": [
              "LinearRegression(n_jobs=-1)"
            ],
            "text/html": [
              "<style>#sk-container-id-1 {color: black;background-color: white;}#sk-container-id-1 pre{padding: 0;}#sk-container-id-1 div.sk-toggleable {background-color: white;}#sk-container-id-1 label.sk-toggleable__label {cursor: pointer;display: block;width: 100%;margin-bottom: 0;padding: 0.3em;box-sizing: border-box;text-align: center;}#sk-container-id-1 label.sk-toggleable__label-arrow:before {content: \"▸\";float: left;margin-right: 0.25em;color: #696969;}#sk-container-id-1 label.sk-toggleable__label-arrow:hover:before {color: black;}#sk-container-id-1 div.sk-estimator:hover label.sk-toggleable__label-arrow:before {color: black;}#sk-container-id-1 div.sk-toggleable__content {max-height: 0;max-width: 0;overflow: hidden;text-align: left;background-color: #f0f8ff;}#sk-container-id-1 div.sk-toggleable__content pre {margin: 0.2em;color: black;border-radius: 0.25em;background-color: #f0f8ff;}#sk-container-id-1 input.sk-toggleable__control:checked~div.sk-toggleable__content {max-height: 200px;max-width: 100%;overflow: auto;}#sk-container-id-1 input.sk-toggleable__control:checked~label.sk-toggleable__label-arrow:before {content: \"▾\";}#sk-container-id-1 div.sk-estimator input.sk-toggleable__control:checked~label.sk-toggleable__label {background-color: #d4ebff;}#sk-container-id-1 div.sk-label input.sk-toggleable__control:checked~label.sk-toggleable__label {background-color: #d4ebff;}#sk-container-id-1 input.sk-hidden--visually {border: 0;clip: rect(1px 1px 1px 1px);clip: rect(1px, 1px, 1px, 1px);height: 1px;margin: -1px;overflow: hidden;padding: 0;position: absolute;width: 1px;}#sk-container-id-1 div.sk-estimator {font-family: monospace;background-color: #f0f8ff;border: 1px dotted black;border-radius: 0.25em;box-sizing: border-box;margin-bottom: 0.5em;}#sk-container-id-1 div.sk-estimator:hover {background-color: #d4ebff;}#sk-container-id-1 div.sk-parallel-item::after {content: \"\";width: 100%;border-bottom: 1px solid gray;flex-grow: 1;}#sk-container-id-1 div.sk-label:hover label.sk-toggleable__label {background-color: #d4ebff;}#sk-container-id-1 div.sk-serial::before {content: \"\";position: absolute;border-left: 1px solid gray;box-sizing: border-box;top: 0;bottom: 0;left: 50%;z-index: 0;}#sk-container-id-1 div.sk-serial {display: flex;flex-direction: column;align-items: center;background-color: white;padding-right: 0.2em;padding-left: 0.2em;position: relative;}#sk-container-id-1 div.sk-item {position: relative;z-index: 1;}#sk-container-id-1 div.sk-parallel {display: flex;align-items: stretch;justify-content: center;background-color: white;position: relative;}#sk-container-id-1 div.sk-item::before, #sk-container-id-1 div.sk-parallel-item::before {content: \"\";position: absolute;border-left: 1px solid gray;box-sizing: border-box;top: 0;bottom: 0;left: 50%;z-index: -1;}#sk-container-id-1 div.sk-parallel-item {display: flex;flex-direction: column;z-index: 1;position: relative;background-color: white;}#sk-container-id-1 div.sk-parallel-item:first-child::after {align-self: flex-end;width: 50%;}#sk-container-id-1 div.sk-parallel-item:last-child::after {align-self: flex-start;width: 50%;}#sk-container-id-1 div.sk-parallel-item:only-child::after {width: 0;}#sk-container-id-1 div.sk-dashed-wrapped {border: 1px dashed gray;margin: 0 0.4em 0.5em 0.4em;box-sizing: border-box;padding-bottom: 0.4em;background-color: white;}#sk-container-id-1 div.sk-label label {font-family: monospace;font-weight: bold;display: inline-block;line-height: 1.2em;}#sk-container-id-1 div.sk-label-container {text-align: center;}#sk-container-id-1 div.sk-container {/* jupyter's `normalize.less` sets `[hidden] { display: none; }` but bootstrap.min.css set `[hidden] { display: none !important; }` so we also need the `!important` here to be able to override the default hidden behavior on the sphinx rendered scikit-learn.org. See: https://github.com/scikit-learn/scikit-learn/issues/21755 */display: inline-block !important;position: relative;}#sk-container-id-1 div.sk-text-repr-fallback {display: none;}</style><div id=\"sk-container-id-1\" class=\"sk-top-container\"><div class=\"sk-text-repr-fallback\"><pre>LinearRegression(n_jobs=-1)</pre><b>In a Jupyter environment, please rerun this cell to show the HTML representation or trust the notebook. <br />On GitHub, the HTML representation is unable to render, please try loading this page with nbviewer.org.</b></div><div class=\"sk-container\" hidden><div class=\"sk-item\"><div class=\"sk-estimator sk-toggleable\"><input class=\"sk-toggleable__control sk-hidden--visually\" id=\"sk-estimator-id-1\" type=\"checkbox\" checked><label for=\"sk-estimator-id-1\" class=\"sk-toggleable__label sk-toggleable__label-arrow\">LinearRegression</label><div class=\"sk-toggleable__content\"><pre>LinearRegression(n_jobs=-1)</pre></div></div></div></div></div>"
            ]
          },
          "metadata": {},
          "execution_count": 35
        }
      ],
      "source": [
        "compare_models()"
      ]
    },
    {
      "cell_type": "markdown",
      "metadata": {
        "id": "oQUUKYixq-iP"
      },
      "source": [
        "# Model Improvement and Tunning"
      ]
    },
    {
      "cell_type": "code",
      "execution_count": null,
      "metadata": {
        "id": "QfTHvRYlvdyL"
      },
      "outputs": [],
      "source": [
        "data_improve = data.copy()\n",
        "X_improve = data_improve.drop(columns=[\"price\",\"hasStorageRoom\"])\n",
        "y_improve = data_improve[\"price\"]\n",
        "scaler = StandardScaler()\n",
        "X_train_improve, X_test_improve, y_train_improve, y_test_improve = train_test_split(X_improve, y_improve, test_size=0.2, random_state=42)\n",
        "X_train_improve = scaler.fit_transform(X_train_improve)\n",
        "X_test_improve = scaler.transform(X_test_improve)"
      ]
    },
    {
      "cell_type": "code",
      "execution_count": null,
      "metadata": {
        "id": "QHRPL8xexpkX"
      },
      "outputs": [],
      "source": [
        "alphas = [0.001, 0.01, 0.1, 1, 10, 100]\n",
        "param_grid = {'alpha': alphas}"
      ]
    },
    {
      "cell_type": "code",
      "execution_count": null,
      "metadata": {
        "id": "2d-iuS4cxuS4",
        "colab": {
          "base_uri": "https://localhost:8080/",
          "height": 118
        },
        "outputId": "5afe398d-6c62-4f2e-9529-18be3a7a1ed7"
      },
      "outputs": [
        {
          "output_type": "execute_result",
          "data": {
            "text/plain": [
              "GridSearchCV(cv=5, estimator=Lasso(),\n",
              "             param_grid={'alpha': [0.001, 0.01, 0.1, 1, 10, 100]},\n",
              "             scoring='neg_mean_squared_error')"
            ],
            "text/html": [
              "<style>#sk-container-id-2 {color: black;background-color: white;}#sk-container-id-2 pre{padding: 0;}#sk-container-id-2 div.sk-toggleable {background-color: white;}#sk-container-id-2 label.sk-toggleable__label {cursor: pointer;display: block;width: 100%;margin-bottom: 0;padding: 0.3em;box-sizing: border-box;text-align: center;}#sk-container-id-2 label.sk-toggleable__label-arrow:before {content: \"▸\";float: left;margin-right: 0.25em;color: #696969;}#sk-container-id-2 label.sk-toggleable__label-arrow:hover:before {color: black;}#sk-container-id-2 div.sk-estimator:hover label.sk-toggleable__label-arrow:before {color: black;}#sk-container-id-2 div.sk-toggleable__content {max-height: 0;max-width: 0;overflow: hidden;text-align: left;background-color: #f0f8ff;}#sk-container-id-2 div.sk-toggleable__content pre {margin: 0.2em;color: black;border-radius: 0.25em;background-color: #f0f8ff;}#sk-container-id-2 input.sk-toggleable__control:checked~div.sk-toggleable__content {max-height: 200px;max-width: 100%;overflow: auto;}#sk-container-id-2 input.sk-toggleable__control:checked~label.sk-toggleable__label-arrow:before {content: \"▾\";}#sk-container-id-2 div.sk-estimator input.sk-toggleable__control:checked~label.sk-toggleable__label {background-color: #d4ebff;}#sk-container-id-2 div.sk-label input.sk-toggleable__control:checked~label.sk-toggleable__label {background-color: #d4ebff;}#sk-container-id-2 input.sk-hidden--visually {border: 0;clip: rect(1px 1px 1px 1px);clip: rect(1px, 1px, 1px, 1px);height: 1px;margin: -1px;overflow: hidden;padding: 0;position: absolute;width: 1px;}#sk-container-id-2 div.sk-estimator {font-family: monospace;background-color: #f0f8ff;border: 1px dotted black;border-radius: 0.25em;box-sizing: border-box;margin-bottom: 0.5em;}#sk-container-id-2 div.sk-estimator:hover {background-color: #d4ebff;}#sk-container-id-2 div.sk-parallel-item::after {content: \"\";width: 100%;border-bottom: 1px solid gray;flex-grow: 1;}#sk-container-id-2 div.sk-label:hover label.sk-toggleable__label {background-color: #d4ebff;}#sk-container-id-2 div.sk-serial::before {content: \"\";position: absolute;border-left: 1px solid gray;box-sizing: border-box;top: 0;bottom: 0;left: 50%;z-index: 0;}#sk-container-id-2 div.sk-serial {display: flex;flex-direction: column;align-items: center;background-color: white;padding-right: 0.2em;padding-left: 0.2em;position: relative;}#sk-container-id-2 div.sk-item {position: relative;z-index: 1;}#sk-container-id-2 div.sk-parallel {display: flex;align-items: stretch;justify-content: center;background-color: white;position: relative;}#sk-container-id-2 div.sk-item::before, #sk-container-id-2 div.sk-parallel-item::before {content: \"\";position: absolute;border-left: 1px solid gray;box-sizing: border-box;top: 0;bottom: 0;left: 50%;z-index: -1;}#sk-container-id-2 div.sk-parallel-item {display: flex;flex-direction: column;z-index: 1;position: relative;background-color: white;}#sk-container-id-2 div.sk-parallel-item:first-child::after {align-self: flex-end;width: 50%;}#sk-container-id-2 div.sk-parallel-item:last-child::after {align-self: flex-start;width: 50%;}#sk-container-id-2 div.sk-parallel-item:only-child::after {width: 0;}#sk-container-id-2 div.sk-dashed-wrapped {border: 1px dashed gray;margin: 0 0.4em 0.5em 0.4em;box-sizing: border-box;padding-bottom: 0.4em;background-color: white;}#sk-container-id-2 div.sk-label label {font-family: monospace;font-weight: bold;display: inline-block;line-height: 1.2em;}#sk-container-id-2 div.sk-label-container {text-align: center;}#sk-container-id-2 div.sk-container {/* jupyter's `normalize.less` sets `[hidden] { display: none; }` but bootstrap.min.css set `[hidden] { display: none !important; }` so we also need the `!important` here to be able to override the default hidden behavior on the sphinx rendered scikit-learn.org. See: https://github.com/scikit-learn/scikit-learn/issues/21755 */display: inline-block !important;position: relative;}#sk-container-id-2 div.sk-text-repr-fallback {display: none;}</style><div id=\"sk-container-id-2\" class=\"sk-top-container\"><div class=\"sk-text-repr-fallback\"><pre>GridSearchCV(cv=5, estimator=Lasso(),\n",
              "             param_grid={&#x27;alpha&#x27;: [0.001, 0.01, 0.1, 1, 10, 100]},\n",
              "             scoring=&#x27;neg_mean_squared_error&#x27;)</pre><b>In a Jupyter environment, please rerun this cell to show the HTML representation or trust the notebook. <br />On GitHub, the HTML representation is unable to render, please try loading this page with nbviewer.org.</b></div><div class=\"sk-container\" hidden><div class=\"sk-item sk-dashed-wrapped\"><div class=\"sk-label-container\"><div class=\"sk-label sk-toggleable\"><input class=\"sk-toggleable__control sk-hidden--visually\" id=\"sk-estimator-id-2\" type=\"checkbox\" ><label for=\"sk-estimator-id-2\" class=\"sk-toggleable__label sk-toggleable__label-arrow\">GridSearchCV</label><div class=\"sk-toggleable__content\"><pre>GridSearchCV(cv=5, estimator=Lasso(),\n",
              "             param_grid={&#x27;alpha&#x27;: [0.001, 0.01, 0.1, 1, 10, 100]},\n",
              "             scoring=&#x27;neg_mean_squared_error&#x27;)</pre></div></div></div><div class=\"sk-parallel\"><div class=\"sk-parallel-item\"><div class=\"sk-item\"><div class=\"sk-label-container\"><div class=\"sk-label sk-toggleable\"><input class=\"sk-toggleable__control sk-hidden--visually\" id=\"sk-estimator-id-3\" type=\"checkbox\" ><label for=\"sk-estimator-id-3\" class=\"sk-toggleable__label sk-toggleable__label-arrow\">estimator: Lasso</label><div class=\"sk-toggleable__content\"><pre>Lasso()</pre></div></div></div><div class=\"sk-serial\"><div class=\"sk-item\"><div class=\"sk-estimator sk-toggleable\"><input class=\"sk-toggleable__control sk-hidden--visually\" id=\"sk-estimator-id-4\" type=\"checkbox\" ><label for=\"sk-estimator-id-4\" class=\"sk-toggleable__label sk-toggleable__label-arrow\">Lasso</label><div class=\"sk-toggleable__content\"><pre>Lasso()</pre></div></div></div></div></div></div></div></div></div></div>"
            ]
          },
          "metadata": {},
          "execution_count": 38
        }
      ],
      "source": [
        "lasso_cv = GridSearchCV(lasso_model, param_grid, scoring='neg_mean_squared_error', cv=5)\n",
        "lasso_cv.fit(X_train_improve, y_train_improve)"
      ]
    },
    {
      "cell_type": "code",
      "execution_count": null,
      "metadata": {
        "id": "4PKkqPvyyIHI"
      },
      "outputs": [],
      "source": [
        "best_alpha = lasso_cv.best_params_['alpha']"
      ]
    },
    {
      "cell_type": "code",
      "execution_count": null,
      "metadata": {
        "id": "4xeQa0B-vu-9"
      },
      "outputs": [],
      "source": [
        "lasso_model = Lasso(alpha=best_alpha)\n",
        "lasso_model.fit(X_train_improve, y_train_improve)\n",
        "lasso_train_improve = lasso_model.predict(X_train_improve)\n",
        "lasso_preds_improve = lasso_model.predict(X_test_improve)"
      ]
    },
    {
      "cell_type": "code",
      "execution_count": null,
      "metadata": {
        "id": "YTQ6KcfawWjH",
        "colab": {
          "base_uri": "https://localhost:8080/"
        },
        "outputId": "ffd53187-1837-466a-a115-7d981d03c9ca"
      },
      "outputs": [
        {
          "output_type": "stream",
          "name": "stdout",
          "text": [
            "Evaluation Model: Lasso Regression Improvement (Train)\n",
            "Mean Absolute Error (MAE): 2645.48\n",
            "Mean Squared Error (MSE): 10655453.53\n",
            "Root Mean Squared Error (RMSE): 3264.27\n",
            "R-squared (R2): 99.99986932925202 %\n"
          ]
        }
      ],
      "source": [
        "regression_eval(y_train_improve, lasso_train_improve, 'Lasso Regression Improvement (Train)')"
      ]
    },
    {
      "cell_type": "code",
      "execution_count": null,
      "metadata": {
        "id": "nUylI4SIy4o5"
      },
      "outputs": [],
      "source": [
        "pickle.dump(lasso_model, open('lasso.pkl', 'wb'))"
      ]
    },
    {
      "cell_type": "markdown",
      "metadata": {
        "id": "LF2LD_U81GWS"
      },
      "source": [
        "# Deployment"
      ]
    },
    {
      "cell_type": "code",
      "source": [
        "# !pip install Werkzeug==2.2.2\n",
        "# !pip install flask\n",
        "# !pip install pyngrok==4.1.1\n",
        "# !pip install flask_ngrok"
      ],
      "metadata": {
        "id": "wMe_BqYxBZX5"
      },
      "execution_count": null,
      "outputs": []
    },
    {
      "cell_type": "code",
      "source": [
        "!ngrok authtoken 2YwqYBAiOKYQquOLg5PZr9iK6QX_5pJZyQurYxQFkLHRthT7q"
      ],
      "metadata": {
        "id": "F1iq8AH-BtEY",
        "colab": {
          "base_uri": "https://localhost:8080/"
        },
        "outputId": "2cb38dd1-cddc-47cd-b2a6-c278db301365"
      },
      "execution_count": null,
      "outputs": [
        {
          "output_type": "stream",
          "name": "stdout",
          "text": [
            "Authtoken saved to configuration file: /root/.ngrok2/ngrok.yml\n"
          ]
        }
      ]
    },
    {
      "cell_type": "code",
      "execution_count": null,
      "metadata": {
        "id": "JzdDXIZCzFq7",
        "colab": {
          "base_uri": "https://localhost:8080/"
        },
        "outputId": "664fdc4a-cde7-4547-a316-dc19e10153da"
      },
      "outputs": [
        {
          "output_type": "stream",
          "name": "stdout",
          "text": [
            " * Serving Flask app '__main__'\n",
            " * Debug mode: off\n"
          ]
        },
        {
          "output_type": "stream",
          "name": "stderr",
          "text": [
            "INFO:werkzeug:\u001b[31m\u001b[1mWARNING: This is a development server. Do not use it in a production deployment. Use a production WSGI server instead.\u001b[0m\n",
            " * Running on http://127.0.0.1:5000\n",
            "INFO:werkzeug:\u001b[33mPress CTRL+C to quit\u001b[0m\n"
          ]
        },
        {
          "output_type": "stream",
          "name": "stdout",
          "text": [
            " * Running on http://dd9b-34-125-18-197.ngrok-free.app\n",
            " * Traffic stats available on http://127.0.0.1:4040\n"
          ]
        },
        {
          "output_type": "stream",
          "name": "stderr",
          "text": [
            "INFO:werkzeug:127.0.0.1 - - [11/Dec/2023 16:16:03] \"GET /prediksi HTTP/1.1\" 200 -\n"
          ]
        }
      ],
      "source": [
        "from flask import Flask, jsonify, request\n",
        "from flask_ngrok import run_with_ngrok\n",
        "from datetime import datetime\n",
        "from flask.json import JSONEncoder\n",
        "\n",
        "# Initialize Flask app\n",
        "app = Flask(__name__)\n",
        "run_with_ngrok(app)\n",
        "\n",
        "@app.route('/prediksi', methods=['GET'])\n",
        "def batch_32():\n",
        "  with open('lasso.pkl', 'rb') as file:\n",
        "    model = pickle.load(file)\n",
        "\n",
        "  data = request.json\n",
        "  input_data = pd.DataFrame(data, index=[0])\n",
        "  input_data = scaler.transform(input_data)\n",
        "\n",
        "  # make prediction\n",
        "  prediction = model.predict(input_data)\n",
        "\n",
        "  return jsonify({\"Status\": \"Berhasil\", \"Hasil Prediction\": \"{:.2f}\".format(float(prediction[0]))})\n",
        "\n",
        "if __name__ == \"__main__\":\n",
        "    app.run()"
      ]
    },
    {
      "cell_type": "markdown",
      "source": [
        "{\n",
        "    \"made\" : 2005,\n",
        "    \"squareMeters\" : 75523,\n",
        "    \"numberOfRooms\" : 3,\n",
        "    \"hasGuestRoom\" : 7\n",
        "}\n",
        "\n",
        "postman test params"
      ],
      "metadata": {
        "id": "geZmvsNIUrDU"
      }
    },
    {
      "cell_type": "code",
      "source": [],
      "metadata": {
        "id": "aQZDt0TCUw_z"
      },
      "execution_count": null,
      "outputs": []
    }
  ],
  "metadata": {
    "colab": {
      "provenance": [],
      "toc_visible": true
    },
    "kernelspec": {
      "display_name": "Python 3",
      "name": "python3"
    },
    "language_info": {
      "name": "python"
    },
    "widgets": {
      "application/vnd.jupyter.widget-state+json": {
        "ffe3f327ea8348d887d8720039c06817": {
          "model_module": "@jupyter-widgets/controls",
          "model_name": "HBoxModel",
          "model_module_version": "1.5.0",
          "state": {
            "_dom_classes": [],
            "_model_module": "@jupyter-widgets/controls",
            "_model_module_version": "1.5.0",
            "_model_name": "HBoxModel",
            "_view_count": null,
            "_view_module": "@jupyter-widgets/controls",
            "_view_module_version": "1.5.0",
            "_view_name": "HBoxView",
            "box_style": "",
            "children": [
              "IPY_MODEL_7d3d40dca6c046fcad1586862410f4b6",
              "IPY_MODEL_3f1aebdb4b3d42a095e0de8b3d17884a",
              "IPY_MODEL_584c62b1a356477faa4152efb3facb18"
            ],
            "layout": "IPY_MODEL_7c692d3b8b92470c840fb2b0ca8c32b0"
          }
        },
        "7d3d40dca6c046fcad1586862410f4b6": {
          "model_module": "@jupyter-widgets/controls",
          "model_name": "HTMLModel",
          "model_module_version": "1.5.0",
          "state": {
            "_dom_classes": [],
            "_model_module": "@jupyter-widgets/controls",
            "_model_module_version": "1.5.0",
            "_model_name": "HTMLModel",
            "_view_count": null,
            "_view_module": "@jupyter-widgets/controls",
            "_view_module_version": "1.5.0",
            "_view_name": "HTMLView",
            "description": "",
            "description_tooltip": null,
            "layout": "IPY_MODEL_38434d19fcbf464ea00122587280026f",
            "placeholder": "​",
            "style": "IPY_MODEL_4f5beb10deb04a1db79c7e8a023d91a5",
            "value": "Processing: 100%"
          }
        },
        "3f1aebdb4b3d42a095e0de8b3d17884a": {
          "model_module": "@jupyter-widgets/controls",
          "model_name": "FloatProgressModel",
          "model_module_version": "1.5.0",
          "state": {
            "_dom_classes": [],
            "_model_module": "@jupyter-widgets/controls",
            "_model_module_version": "1.5.0",
            "_model_name": "FloatProgressModel",
            "_view_count": null,
            "_view_module": "@jupyter-widgets/controls",
            "_view_module_version": "1.5.0",
            "_view_name": "ProgressView",
            "bar_style": "",
            "description": "",
            "description_tooltip": null,
            "layout": "IPY_MODEL_94815c36f1f94b5bbfa28ed470a70737",
            "max": 81,
            "min": 0,
            "orientation": "horizontal",
            "style": "IPY_MODEL_6b9017960494492b9dd5ddb5c4dc855a",
            "value": 81
          }
        },
        "584c62b1a356477faa4152efb3facb18": {
          "model_module": "@jupyter-widgets/controls",
          "model_name": "HTMLModel",
          "model_module_version": "1.5.0",
          "state": {
            "_dom_classes": [],
            "_model_module": "@jupyter-widgets/controls",
            "_model_module_version": "1.5.0",
            "_model_name": "HTMLModel",
            "_view_count": null,
            "_view_module": "@jupyter-widgets/controls",
            "_view_module_version": "1.5.0",
            "_view_name": "HTMLView",
            "description": "",
            "description_tooltip": null,
            "layout": "IPY_MODEL_c70f3f3978a74ee28b6baea4aa791f8c",
            "placeholder": "​",
            "style": "IPY_MODEL_5339adcb82024fbc87937a90ef8cb406",
            "value": " 81/81 [02:11&lt;00:00,  1.15it/s]"
          }
        },
        "7c692d3b8b92470c840fb2b0ca8c32b0": {
          "model_module": "@jupyter-widgets/base",
          "model_name": "LayoutModel",
          "model_module_version": "1.2.0",
          "state": {
            "_model_module": "@jupyter-widgets/base",
            "_model_module_version": "1.2.0",
            "_model_name": "LayoutModel",
            "_view_count": null,
            "_view_module": "@jupyter-widgets/base",
            "_view_module_version": "1.2.0",
            "_view_name": "LayoutView",
            "align_content": null,
            "align_items": null,
            "align_self": null,
            "border": null,
            "bottom": null,
            "display": null,
            "flex": null,
            "flex_flow": null,
            "grid_area": null,
            "grid_auto_columns": null,
            "grid_auto_flow": null,
            "grid_auto_rows": null,
            "grid_column": null,
            "grid_gap": null,
            "grid_row": null,
            "grid_template_areas": null,
            "grid_template_columns": null,
            "grid_template_rows": null,
            "height": null,
            "justify_content": null,
            "justify_items": null,
            "left": null,
            "margin": null,
            "max_height": null,
            "max_width": null,
            "min_height": null,
            "min_width": null,
            "object_fit": null,
            "object_position": null,
            "order": null,
            "overflow": null,
            "overflow_x": null,
            "overflow_y": null,
            "padding": null,
            "right": null,
            "top": null,
            "visibility": "hidden",
            "width": null
          }
        },
        "38434d19fcbf464ea00122587280026f": {
          "model_module": "@jupyter-widgets/base",
          "model_name": "LayoutModel",
          "model_module_version": "1.2.0",
          "state": {
            "_model_module": "@jupyter-widgets/base",
            "_model_module_version": "1.2.0",
            "_model_name": "LayoutModel",
            "_view_count": null,
            "_view_module": "@jupyter-widgets/base",
            "_view_module_version": "1.2.0",
            "_view_name": "LayoutView",
            "align_content": null,
            "align_items": null,
            "align_self": null,
            "border": null,
            "bottom": null,
            "display": null,
            "flex": null,
            "flex_flow": null,
            "grid_area": null,
            "grid_auto_columns": null,
            "grid_auto_flow": null,
            "grid_auto_rows": null,
            "grid_column": null,
            "grid_gap": null,
            "grid_row": null,
            "grid_template_areas": null,
            "grid_template_columns": null,
            "grid_template_rows": null,
            "height": null,
            "justify_content": null,
            "justify_items": null,
            "left": null,
            "margin": null,
            "max_height": null,
            "max_width": null,
            "min_height": null,
            "min_width": null,
            "object_fit": null,
            "object_position": null,
            "order": null,
            "overflow": null,
            "overflow_x": null,
            "overflow_y": null,
            "padding": null,
            "right": null,
            "top": null,
            "visibility": null,
            "width": null
          }
        },
        "4f5beb10deb04a1db79c7e8a023d91a5": {
          "model_module": "@jupyter-widgets/controls",
          "model_name": "DescriptionStyleModel",
          "model_module_version": "1.5.0",
          "state": {
            "_model_module": "@jupyter-widgets/controls",
            "_model_module_version": "1.5.0",
            "_model_name": "DescriptionStyleModel",
            "_view_count": null,
            "_view_module": "@jupyter-widgets/base",
            "_view_module_version": "1.2.0",
            "_view_name": "StyleView",
            "description_width": ""
          }
        },
        "94815c36f1f94b5bbfa28ed470a70737": {
          "model_module": "@jupyter-widgets/base",
          "model_name": "LayoutModel",
          "model_module_version": "1.2.0",
          "state": {
            "_model_module": "@jupyter-widgets/base",
            "_model_module_version": "1.2.0",
            "_model_name": "LayoutModel",
            "_view_count": null,
            "_view_module": "@jupyter-widgets/base",
            "_view_module_version": "1.2.0",
            "_view_name": "LayoutView",
            "align_content": null,
            "align_items": null,
            "align_self": null,
            "border": null,
            "bottom": null,
            "display": null,
            "flex": null,
            "flex_flow": null,
            "grid_area": null,
            "grid_auto_columns": null,
            "grid_auto_flow": null,
            "grid_auto_rows": null,
            "grid_column": null,
            "grid_gap": null,
            "grid_row": null,
            "grid_template_areas": null,
            "grid_template_columns": null,
            "grid_template_rows": null,
            "height": null,
            "justify_content": null,
            "justify_items": null,
            "left": null,
            "margin": null,
            "max_height": null,
            "max_width": null,
            "min_height": null,
            "min_width": null,
            "object_fit": null,
            "object_position": null,
            "order": null,
            "overflow": null,
            "overflow_x": null,
            "overflow_y": null,
            "padding": null,
            "right": null,
            "top": null,
            "visibility": null,
            "width": null
          }
        },
        "6b9017960494492b9dd5ddb5c4dc855a": {
          "model_module": "@jupyter-widgets/controls",
          "model_name": "ProgressStyleModel",
          "model_module_version": "1.5.0",
          "state": {
            "_model_module": "@jupyter-widgets/controls",
            "_model_module_version": "1.5.0",
            "_model_name": "ProgressStyleModel",
            "_view_count": null,
            "_view_module": "@jupyter-widgets/base",
            "_view_module_version": "1.2.0",
            "_view_name": "StyleView",
            "bar_color": null,
            "description_width": ""
          }
        },
        "c70f3f3978a74ee28b6baea4aa791f8c": {
          "model_module": "@jupyter-widgets/base",
          "model_name": "LayoutModel",
          "model_module_version": "1.2.0",
          "state": {
            "_model_module": "@jupyter-widgets/base",
            "_model_module_version": "1.2.0",
            "_model_name": "LayoutModel",
            "_view_count": null,
            "_view_module": "@jupyter-widgets/base",
            "_view_module_version": "1.2.0",
            "_view_name": "LayoutView",
            "align_content": null,
            "align_items": null,
            "align_self": null,
            "border": null,
            "bottom": null,
            "display": null,
            "flex": null,
            "flex_flow": null,
            "grid_area": null,
            "grid_auto_columns": null,
            "grid_auto_flow": null,
            "grid_auto_rows": null,
            "grid_column": null,
            "grid_gap": null,
            "grid_row": null,
            "grid_template_areas": null,
            "grid_template_columns": null,
            "grid_template_rows": null,
            "height": null,
            "justify_content": null,
            "justify_items": null,
            "left": null,
            "margin": null,
            "max_height": null,
            "max_width": null,
            "min_height": null,
            "min_width": null,
            "object_fit": null,
            "object_position": null,
            "order": null,
            "overflow": null,
            "overflow_x": null,
            "overflow_y": null,
            "padding": null,
            "right": null,
            "top": null,
            "visibility": null,
            "width": null
          }
        },
        "5339adcb82024fbc87937a90ef8cb406": {
          "model_module": "@jupyter-widgets/controls",
          "model_name": "DescriptionStyleModel",
          "model_module_version": "1.5.0",
          "state": {
            "_model_module": "@jupyter-widgets/controls",
            "_model_module_version": "1.5.0",
            "_model_name": "DescriptionStyleModel",
            "_view_count": null,
            "_view_module": "@jupyter-widgets/base",
            "_view_module_version": "1.2.0",
            "_view_name": "StyleView",
            "description_width": ""
          }
        }
      }
    }
  },
  "nbformat": 4,
  "nbformat_minor": 0
}